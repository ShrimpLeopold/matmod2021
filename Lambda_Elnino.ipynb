{
  "nbformat": 4,
  "nbformat_minor": 0,
  "metadata": {
    "colab": {
      "name": "main.ipynb",
      "provenance": [],
      "collapsed_sections": []
    },
    "kernelspec": {
      "display_name": "Python 3",
      "name": "python3"
    },
    "language_info": {
      "name": "python"
    }
  },
  "cells": [
    {
      "cell_type": "code",
      "metadata": {
        "colab": {
          "base_uri": "https://localhost:8080/"
        },
        "id": "XiUmf8_DGGEJ",
        "outputId": "6ba2b50d-bbc7-41f5-ed99-4fed1fc62e43"
      },
      "source": [
        "!wget https://raw.githubusercontent.com/Esri/arcgis-python-api/master/samples/04_gis_analysts_data_scientists/data/enso_ready.csv"
      ],
      "execution_count": null,
      "outputs": [
        {
          "output_type": "stream",
          "text": [
            "--2021-05-29 17:10:36--  https://raw.githubusercontent.com/Esri/arcgis-python-api/master/samples/04_gis_analysts_data_scientists/data/enso_ready.csv\n",
            "Resolving raw.githubusercontent.com (raw.githubusercontent.com)... 185.199.108.133, 185.199.111.133, 185.199.109.133, ...\n",
            "Connecting to raw.githubusercontent.com (raw.githubusercontent.com)|185.199.108.133|:443... connected.\n",
            "HTTP request sent, awaiting response... 200 OK\n",
            "Length: 24873 (24K) [text/plain]\n",
            "Saving to: ‘enso_ready.csv.1’\n",
            "\n",
            "\renso_ready.csv.1      0%[                    ]       0  --.-KB/s               \renso_ready.csv.1    100%[===================>]  24.29K  --.-KB/s    in 0.001s  \n",
            "\n",
            "2021-05-29 17:10:36 (18.5 MB/s) - ‘enso_ready.csv.1’ saved [24873/24873]\n",
            "\n"
          ],
          "name": "stdout"
        }
      ]
    },
    {
      "cell_type": "code",
      "metadata": {
        "colab": {
          "base_uri": "https://localhost:8080/",
          "height": 233
        },
        "id": "6tmugxZHGGI0",
        "outputId": "525455d3-8214-426d-d6bd-c60c514103d1"
      },
      "source": [
        "%matplotlib inline\n",
        "import os.path\n",
        "import warnings\n",
        "import numpy as np\n",
        "from math import sqrt\n",
        "from matplotlib import pyplot\n",
        "from pandas import read_csv\n",
        "from pandas import DataFrame\n",
        "from pandas import concat\n",
        "from pandas import datetime\n",
        "from sklearn.metrics import mean_squared_error\n",
        "from keras.models import Sequential\n",
        "from keras.layers import Dense\n",
        "from keras.layers import LSTM\n",
        "from keras.models import load_model\n",
        "from keras.layers import Conv1D, Conv2D\n",
        "from keras.layers import MaxPooling1D, MaxPooling2D\n",
        "import keras\n",
        "from sklearn.metrics import mean_squared_error as mse\n",
        "\n",
        "warnings.filterwarnings('ignore')\n",
        "\n",
        "\n",
        "\n",
        "\n",
        "def parser(x):\n",
        "    if x.endswith('11') or x.endswith('12')or x.endswith('10'):\n",
        "        return datetime.strptime(x, '%Y%m')\n",
        "    else:\n",
        "        return datetime.strptime(x, '%Y0%m')\n",
        "enso_ready_path = 'enso_ready.csv'\n",
        "df = read_csv(enso_ready_path, header=0, parse_dates=[0], index_col=0, date_parser=parser)\n",
        "df.head()\n"
      ],
      "execution_count": null,
      "outputs": [
        {
          "output_type": "execute_result",
          "data": {
            "text/html": [
              "<div>\n",
              "<style scoped>\n",
              "    .dataframe tbody tr th:only-of-type {\n",
              "        vertical-align: middle;\n",
              "    }\n",
              "\n",
              "    .dataframe tbody tr th {\n",
              "        vertical-align: top;\n",
              "    }\n",
              "\n",
              "    .dataframe thead th {\n",
              "        text-align: right;\n",
              "    }\n",
              "</style>\n",
              "<table border=\"1\" class=\"dataframe\">\n",
              "  <thead>\n",
              "    <tr style=\"text-align: right;\">\n",
              "      <th></th>\n",
              "      <th>soi</th>\n",
              "      <th>oni</th>\n",
              "      <th>nino3</th>\n",
              "      <th>pna</th>\n",
              "      <th>precip</th>\n",
              "    </tr>\n",
              "    <tr>\n",
              "      <th>date</th>\n",
              "      <th></th>\n",
              "      <th></th>\n",
              "      <th></th>\n",
              "      <th></th>\n",
              "      <th></th>\n",
              "    </tr>\n",
              "  </thead>\n",
              "  <tbody>\n",
              "    <tr>\n",
              "      <th>1951-01-01</th>\n",
              "      <td>1.5</td>\n",
              "      <td>-0.8</td>\n",
              "      <td>-0.72</td>\n",
              "      <td>-1.18</td>\n",
              "      <td>NaN</td>\n",
              "    </tr>\n",
              "    <tr>\n",
              "      <th>1951-02-01</th>\n",
              "      <td>0.9</td>\n",
              "      <td>-0.5</td>\n",
              "      <td>-0.43</td>\n",
              "      <td>-2.11</td>\n",
              "      <td>NaN</td>\n",
              "    </tr>\n",
              "    <tr>\n",
              "      <th>1951-03-01</th>\n",
              "      <td>-0.1</td>\n",
              "      <td>-0.2</td>\n",
              "      <td>-0.63</td>\n",
              "      <td>-1.09</td>\n",
              "      <td>NaN</td>\n",
              "    </tr>\n",
              "    <tr>\n",
              "      <th>1951-04-01</th>\n",
              "      <td>-0.3</td>\n",
              "      <td>0.2</td>\n",
              "      <td>0.00</td>\n",
              "      <td>0.47</td>\n",
              "      <td>NaN</td>\n",
              "    </tr>\n",
              "    <tr>\n",
              "      <th>1951-05-01</th>\n",
              "      <td>-0.7</td>\n",
              "      <td>0.4</td>\n",
              "      <td>-0.12</td>\n",
              "      <td>1.19</td>\n",
              "      <td>NaN</td>\n",
              "    </tr>\n",
              "  </tbody>\n",
              "</table>\n",
              "</div>"
            ],
            "text/plain": [
              "            soi  oni  nino3   pna  precip\n",
              "date                                     \n",
              "1951-01-01  1.5 -0.8  -0.72 -1.18     NaN\n",
              "1951-02-01  0.9 -0.5  -0.43 -2.11     NaN\n",
              "1951-03-01 -0.1 -0.2  -0.63 -1.09     NaN\n",
              "1951-04-01 -0.3  0.2   0.00  0.47     NaN\n",
              "1951-05-01 -0.7  0.4  -0.12  1.19     NaN"
            ]
          },
          "metadata": {
            "tags": []
          },
          "execution_count": 26
        }
      ]
    },
    {
      "cell_type": "code",
      "metadata": {
        "colab": {
          "base_uri": "https://localhost:8080/",
          "height": 447
        },
        "id": "ytUJMwJXeg_b",
        "outputId": "d030ca6e-4923-49cd-f036-a965e4b6957a"
      },
      "source": [
        "df.tail(12)"
      ],
      "execution_count": null,
      "outputs": [
        {
          "output_type": "execute_result",
          "data": {
            "text/html": [
              "<div>\n",
              "<style scoped>\n",
              "    .dataframe tbody tr th:only-of-type {\n",
              "        vertical-align: middle;\n",
              "    }\n",
              "\n",
              "    .dataframe tbody tr th {\n",
              "        vertical-align: top;\n",
              "    }\n",
              "\n",
              "    .dataframe thead th {\n",
              "        text-align: right;\n",
              "    }\n",
              "</style>\n",
              "<table border=\"1\" class=\"dataframe\">\n",
              "  <thead>\n",
              "    <tr style=\"text-align: right;\">\n",
              "      <th></th>\n",
              "      <th>soi</th>\n",
              "      <th>oni</th>\n",
              "      <th>nino3</th>\n",
              "      <th>pna</th>\n",
              "      <th>precip</th>\n",
              "    </tr>\n",
              "    <tr>\n",
              "      <th>date</th>\n",
              "      <th></th>\n",
              "      <th></th>\n",
              "      <th></th>\n",
              "      <th></th>\n",
              "      <th></th>\n",
              "    </tr>\n",
              "  </thead>\n",
              "  <tbody>\n",
              "    <tr>\n",
              "      <th>2016-09-01</th>\n",
              "      <td>1.2</td>\n",
              "      <td>-0.7</td>\n",
              "      <td>-0.19</td>\n",
              "      <td>0.11</td>\n",
              "      <td>-1.21</td>\n",
              "    </tr>\n",
              "    <tr>\n",
              "      <th>2016-10-01</th>\n",
              "      <td>-0.3</td>\n",
              "      <td>-0.7</td>\n",
              "      <td>-0.52</td>\n",
              "      <td>1.53</td>\n",
              "      <td>-0.66</td>\n",
              "    </tr>\n",
              "    <tr>\n",
              "      <th>2016-11-01</th>\n",
              "      <td>-0.1</td>\n",
              "      <td>-0.7</td>\n",
              "      <td>-0.48</td>\n",
              "      <td>1.44</td>\n",
              "      <td>-2.07</td>\n",
              "    </tr>\n",
              "    <tr>\n",
              "      <th>2016-12-01</th>\n",
              "      <td>0.3</td>\n",
              "      <td>-0.6</td>\n",
              "      <td>-0.48</td>\n",
              "      <td>-0.65</td>\n",
              "      <td>-4.17</td>\n",
              "    </tr>\n",
              "    <tr>\n",
              "      <th>2017-01-01</th>\n",
              "      <td>0.2</td>\n",
              "      <td>-0.3</td>\n",
              "      <td>-0.09</td>\n",
              "      <td>-0.29</td>\n",
              "      <td>-4.38</td>\n",
              "    </tr>\n",
              "    <tr>\n",
              "      <th>2017-02-01</th>\n",
              "      <td>-0.1</td>\n",
              "      <td>-0.1</td>\n",
              "      <td>0.40</td>\n",
              "      <td>-0.05</td>\n",
              "      <td>-4.56</td>\n",
              "    </tr>\n",
              "    <tr>\n",
              "      <th>2017-03-01</th>\n",
              "      <td>0.9</td>\n",
              "      <td>0.1</td>\n",
              "      <td>0.24</td>\n",
              "      <td>-0.03</td>\n",
              "      <td>-4.32</td>\n",
              "    </tr>\n",
              "    <tr>\n",
              "      <th>2017-04-01</th>\n",
              "      <td>-0.2</td>\n",
              "      <td>0.3</td>\n",
              "      <td>0.42</td>\n",
              "      <td>0.14</td>\n",
              "      <td>-0.80</td>\n",
              "    </tr>\n",
              "    <tr>\n",
              "      <th>2017-05-01</th>\n",
              "      <td>0.3</td>\n",
              "      <td>0.4</td>\n",
              "      <td>0.31</td>\n",
              "      <td>-0.19</td>\n",
              "      <td>0.56</td>\n",
              "    </tr>\n",
              "    <tr>\n",
              "      <th>2017-06-01</th>\n",
              "      <td>-0.4</td>\n",
              "      <td>0.4</td>\n",
              "      <td>0.06</td>\n",
              "      <td>1.18</td>\n",
              "      <td>-1.03</td>\n",
              "    </tr>\n",
              "    <tr>\n",
              "      <th>2017-07-01</th>\n",
              "      <td>0.8</td>\n",
              "      <td>0.1</td>\n",
              "      <td>0.08</td>\n",
              "      <td>1.33</td>\n",
              "      <td>3.00</td>\n",
              "    </tr>\n",
              "    <tr>\n",
              "      <th>2017-08-01</th>\n",
              "      <td>0.5</td>\n",
              "      <td>-0.1</td>\n",
              "      <td>-0.37</td>\n",
              "      <td>0.20</td>\n",
              "      <td>0.61</td>\n",
              "    </tr>\n",
              "  </tbody>\n",
              "</table>\n",
              "</div>"
            ],
            "text/plain": [
              "            soi  oni  nino3   pna  precip\n",
              "date                                     \n",
              "2016-09-01  1.2 -0.7  -0.19  0.11   -1.21\n",
              "2016-10-01 -0.3 -0.7  -0.52  1.53   -0.66\n",
              "2016-11-01 -0.1 -0.7  -0.48  1.44   -2.07\n",
              "2016-12-01  0.3 -0.6  -0.48 -0.65   -4.17\n",
              "2017-01-01  0.2 -0.3  -0.09 -0.29   -4.38\n",
              "2017-02-01 -0.1 -0.1   0.40 -0.05   -4.56\n",
              "2017-03-01  0.9  0.1   0.24 -0.03   -4.32\n",
              "2017-04-01 -0.2  0.3   0.42  0.14   -0.80\n",
              "2017-05-01  0.3  0.4   0.31 -0.19    0.56\n",
              "2017-06-01 -0.4  0.4   0.06  1.18   -1.03\n",
              "2017-07-01  0.8  0.1   0.08  1.33    3.00\n",
              "2017-08-01  0.5 -0.1  -0.37  0.20    0.61"
            ]
          },
          "metadata": {
            "tags": []
          },
          "execution_count": 27
        }
      ]
    },
    {
      "cell_type": "code",
      "metadata": {
        "id": "RywYEfnxAV2X"
      },
      "source": [
        "df.precip = df.precip.fillna(df.precip.mean())"
      ],
      "execution_count": null,
      "outputs": []
    },
    {
      "cell_type": "code",
      "metadata": {
        "colab": {
          "base_uri": "https://localhost:8080/",
          "height": 446
        },
        "id": "WoWq-VpTVhvg",
        "outputId": "fcd527e6-ae57-4d60-e4e0-6ca3d301630a"
      },
      "source": [
        "df_main = df.drop(['soi', 'nino3', 'pna', 'precip'], axis=1)\n",
        "df_main"
      ],
      "execution_count": null,
      "outputs": [
        {
          "output_type": "execute_result",
          "data": {
            "text/html": [
              "<div>\n",
              "<style scoped>\n",
              "    .dataframe tbody tr th:only-of-type {\n",
              "        vertical-align: middle;\n",
              "    }\n",
              "\n",
              "    .dataframe tbody tr th {\n",
              "        vertical-align: top;\n",
              "    }\n",
              "\n",
              "    .dataframe thead th {\n",
              "        text-align: right;\n",
              "    }\n",
              "</style>\n",
              "<table border=\"1\" class=\"dataframe\">\n",
              "  <thead>\n",
              "    <tr style=\"text-align: right;\">\n",
              "      <th></th>\n",
              "      <th>oni</th>\n",
              "    </tr>\n",
              "    <tr>\n",
              "      <th>date</th>\n",
              "      <th></th>\n",
              "    </tr>\n",
              "  </thead>\n",
              "  <tbody>\n",
              "    <tr>\n",
              "      <th>1951-01-01</th>\n",
              "      <td>-0.8</td>\n",
              "    </tr>\n",
              "    <tr>\n",
              "      <th>1951-02-01</th>\n",
              "      <td>-0.5</td>\n",
              "    </tr>\n",
              "    <tr>\n",
              "      <th>1951-03-01</th>\n",
              "      <td>-0.2</td>\n",
              "    </tr>\n",
              "    <tr>\n",
              "      <th>1951-04-01</th>\n",
              "      <td>0.2</td>\n",
              "    </tr>\n",
              "    <tr>\n",
              "      <th>1951-05-01</th>\n",
              "      <td>0.4</td>\n",
              "    </tr>\n",
              "    <tr>\n",
              "      <th>...</th>\n",
              "      <td>...</td>\n",
              "    </tr>\n",
              "    <tr>\n",
              "      <th>2017-04-01</th>\n",
              "      <td>0.3</td>\n",
              "    </tr>\n",
              "    <tr>\n",
              "      <th>2017-05-01</th>\n",
              "      <td>0.4</td>\n",
              "    </tr>\n",
              "    <tr>\n",
              "      <th>2017-06-01</th>\n",
              "      <td>0.4</td>\n",
              "    </tr>\n",
              "    <tr>\n",
              "      <th>2017-07-01</th>\n",
              "      <td>0.1</td>\n",
              "    </tr>\n",
              "    <tr>\n",
              "      <th>2017-08-01</th>\n",
              "      <td>-0.1</td>\n",
              "    </tr>\n",
              "  </tbody>\n",
              "</table>\n",
              "<p>800 rows × 1 columns</p>\n",
              "</div>"
            ],
            "text/plain": [
              "            oni\n",
              "date           \n",
              "1951-01-01 -0.8\n",
              "1951-02-01 -0.5\n",
              "1951-03-01 -0.2\n",
              "1951-04-01  0.2\n",
              "1951-05-01  0.4\n",
              "...         ...\n",
              "2017-04-01  0.3\n",
              "2017-05-01  0.4\n",
              "2017-06-01  0.4\n",
              "2017-07-01  0.1\n",
              "2017-08-01 -0.1\n",
              "\n",
              "[800 rows x 1 columns]"
            ]
          },
          "metadata": {
            "tags": []
          },
          "execution_count": 29
        }
      ]
    },
    {
      "cell_type": "code",
      "metadata": {
        "id": "NZdxiUbx4BaH"
      },
      "source": [
        "df_main.to_csv('oni_source.csv')"
      ],
      "execution_count": null,
      "outputs": []
    },
    {
      "cell_type": "code",
      "metadata": {
        "id": "rOr3nYgtfacV"
      },
      "source": [
        "import math\n",
        "import keras\n",
        "from keras.models import Sequential\n",
        "from keras.layers import Dense\n",
        "from keras.layers import LSTM\n",
        "from keras.layers import Dropout\n",
        "from keras.layers import *\n",
        "from sklearn.preprocessing import MinMaxScaler\n",
        "from sklearn.metrics import mean_squared_error\n",
        "from sklearn.metrics import mean_absolute_error\n",
        "from keras.callbacks import EarlyStopping"
      ],
      "execution_count": null,
      "outputs": []
    },
    {
      "cell_type": "code",
      "metadata": {
        "id": "Yjcr2DDzdn5C"
      },
      "source": [
        "# oni\n",
        "\n",
        "dataset = df_main.oni.values\n",
        "dataset = dataset.astype('float32')\n",
        "dataset = np.reshape(dataset, (-1, 1))\n",
        "scaler = MinMaxScaler(feature_range=(0, 1))\n",
        "dataset = scaler.fit_transform(dataset)\n",
        "train_size = int(len(dataset) - 16)\n",
        "test_size = len(dataset) - train_size\n",
        "train, test = dataset[0:train_size,:], dataset[train_size:len(dataset),:]\n",
        "\n",
        "def create_dataset(dataset, look_back=1):\n",
        "    X, Y = [], []\n",
        "    for i in range(len(dataset)-look_back-1):\n",
        "        a = dataset[i:(i+look_back), 0]\n",
        "        X.append(a)\n",
        "        Y.append(dataset[i + look_back, 0])\n",
        "    return np.array(X), np.array(Y)\n",
        "        \n",
        "look_back = 3\n",
        "    \n",
        "X_train, Y_train = create_dataset(train, look_back)\n",
        "X_test, Y_test = create_dataset(test, look_back)\n",
        "\n",
        "# reshape input to be [samples, time steps, features]\n",
        "X_train = np.reshape(X_train, (X_train.shape[0], 1, X_train.shape[1]))\n",
        "X_test = np.reshape(X_test, (X_test.shape[0], 1, X_test.shape[1]))"
      ],
      "execution_count": null,
      "outputs": []
    },
    {
      "cell_type": "code",
      "metadata": {
        "colab": {
          "base_uri": "https://localhost:8080/"
        },
        "id": "nghd7AOKsLIG",
        "outputId": "650c4bd8-7bab-4db0-d014-6501d20ac8d0"
      },
      "source": [
        "len(X_train), len(X_test), len(Y_train), len(Y_test)"
      ],
      "execution_count": null,
      "outputs": [
        {
          "output_type": "execute_result",
          "data": {
            "text/plain": [
              "(780, 12, 780, 12)"
            ]
          },
          "metadata": {
            "tags": []
          },
          "execution_count": 48
        }
      ]
    },
    {
      "cell_type": "code",
      "metadata": {
        "colab": {
          "base_uri": "https://localhost:8080/"
        },
        "id": "v89gSEdbdn63",
        "outputId": "ba7c7f72-4414-451a-f2d6-1667977cc0c7"
      },
      "source": [
        "model = Sequential()\n",
        "model.add(LSTM(100, input_shape=(X_train.shape[1], X_train.shape[2])))\n",
        "model.add(Dropout(0.2))\n",
        "model.add(Dense(1))\n",
        "model.compile(loss='mean_squared_error', optimizer='adam')\n",
        "\n",
        "history = model.fit(X_train, Y_train, epochs=50, batch_size=5, validation_data=(X_test, Y_test), \n",
        "                    callbacks=[EarlyStopping(monitor='val_loss', patience=10)], \n",
        "                    verbose=1, shuffle=False)\n",
        "\n",
        "model.summary()"
      ],
      "execution_count": null,
      "outputs": [
        {
          "output_type": "stream",
          "text": [
            "Epoch 1/50\n",
            "156/156 [==============================] - 3s 8ms/step - loss: 0.1206 - val_loss: 0.0057\n",
            "Epoch 2/50\n",
            "156/156 [==============================] - 1s 3ms/step - loss: 0.0087 - val_loss: 0.0051\n",
            "Epoch 3/50\n",
            "156/156 [==============================] - 1s 3ms/step - loss: 0.0075 - val_loss: 0.0047\n",
            "Epoch 4/50\n",
            "156/156 [==============================] - 1s 3ms/step - loss: 0.0060 - val_loss: 0.0043\n",
            "Epoch 5/50\n",
            "156/156 [==============================] - 0s 3ms/step - loss: 0.0052 - val_loss: 0.0038\n",
            "Epoch 6/50\n",
            "156/156 [==============================] - 0s 3ms/step - loss: 0.0050 - val_loss: 0.0033\n",
            "Epoch 7/50\n",
            "156/156 [==============================] - 1s 3ms/step - loss: 0.0045 - val_loss: 0.0029\n",
            "Epoch 8/50\n",
            "156/156 [==============================] - 0s 3ms/step - loss: 0.0039 - val_loss: 0.0025\n",
            "Epoch 9/50\n",
            "156/156 [==============================] - 1s 4ms/step - loss: 0.0036 - val_loss: 0.0021\n",
            "Epoch 10/50\n",
            "156/156 [==============================] - 0s 3ms/step - loss: 0.0030 - val_loss: 0.0017\n",
            "Epoch 11/50\n",
            "156/156 [==============================] - 1s 3ms/step - loss: 0.0029 - val_loss: 0.0014\n",
            "Epoch 12/50\n",
            "156/156 [==============================] - 0s 3ms/step - loss: 0.0024 - val_loss: 0.0012\n",
            "Epoch 13/50\n",
            "156/156 [==============================] - 0s 3ms/step - loss: 0.0024 - val_loss: 9.2635e-04\n",
            "Epoch 14/50\n",
            "156/156 [==============================] - 0s 3ms/step - loss: 0.0021 - val_loss: 9.0980e-04\n",
            "Epoch 15/50\n",
            "156/156 [==============================] - 0s 3ms/step - loss: 0.0020 - val_loss: 7.8971e-04\n",
            "Epoch 16/50\n",
            "156/156 [==============================] - 1s 3ms/step - loss: 0.0019 - val_loss: 7.9103e-04\n",
            "Epoch 17/50\n",
            "156/156 [==============================] - 1s 3ms/step - loss: 0.0020 - val_loss: 6.9322e-04\n",
            "Epoch 18/50\n",
            "156/156 [==============================] - 1s 3ms/step - loss: 0.0018 - val_loss: 6.8858e-04\n",
            "Epoch 19/50\n",
            "156/156 [==============================] - 1s 3ms/step - loss: 0.0019 - val_loss: 7.1267e-04\n",
            "Epoch 20/50\n",
            "156/156 [==============================] - 1s 3ms/step - loss: 0.0018 - val_loss: 6.5493e-04\n",
            "Epoch 21/50\n",
            "156/156 [==============================] - 1s 3ms/step - loss: 0.0018 - val_loss: 7.2029e-04\n",
            "Epoch 22/50\n",
            "156/156 [==============================] - 0s 3ms/step - loss: 0.0019 - val_loss: 6.7222e-04\n",
            "Epoch 23/50\n",
            "156/156 [==============================] - 1s 3ms/step - loss: 0.0017 - val_loss: 6.7799e-04\n",
            "Epoch 24/50\n",
            "156/156 [==============================] - 1s 3ms/step - loss: 0.0020 - val_loss: 6.9311e-04\n",
            "Epoch 25/50\n",
            "156/156 [==============================] - 1s 3ms/step - loss: 0.0018 - val_loss: 6.8212e-04\n",
            "Epoch 26/50\n",
            "156/156 [==============================] - 0s 3ms/step - loss: 0.0018 - val_loss: 6.8492e-04\n",
            "Epoch 27/50\n",
            "156/156 [==============================] - 0s 2ms/step - loss: 0.0018 - val_loss: 7.5519e-04\n",
            "Epoch 28/50\n",
            "156/156 [==============================] - 0s 2ms/step - loss: 0.0017 - val_loss: 7.0442e-04\n",
            "Epoch 29/50\n",
            "156/156 [==============================] - 0s 3ms/step - loss: 0.0015 - val_loss: 7.4057e-04\n",
            "Epoch 30/50\n",
            "156/156 [==============================] - 1s 3ms/step - loss: 0.0018 - val_loss: 7.3544e-04\n",
            "Model: \"sequential_6\"\n",
            "_________________________________________________________________\n",
            "Layer (type)                 Output Shape              Param #   \n",
            "=================================================================\n",
            "lstm_7 (LSTM)                (None, 100)               41600     \n",
            "_________________________________________________________________\n",
            "dropout_7 (Dropout)          (None, 100)               0         \n",
            "_________________________________________________________________\n",
            "dense_6 (Dense)              (None, 1)                 101       \n",
            "=================================================================\n",
            "Total params: 41,701\n",
            "Trainable params: 41,701\n",
            "Non-trainable params: 0\n",
            "_________________________________________________________________\n"
          ],
          "name": "stdout"
        }
      ]
    },
    {
      "cell_type": "code",
      "metadata": {
        "id": "k_SpMKVZpqiI"
      },
      "source": [
        ""
      ],
      "execution_count": null,
      "outputs": []
    },
    {
      "cell_type": "code",
      "metadata": {
        "id": "xavtw24AfzC5"
      },
      "source": [
        "import matplotlib.pyplot as plt"
      ],
      "execution_count": null,
      "outputs": []
    },
    {
      "cell_type": "code",
      "metadata": {
        "id": "48pkCM5EoOtc"
      },
      "source": [
        "preds = model.predict(X_test)\n",
        "preds = scaler.inverse_transform(preds)\n",
        "Y_test = scaler.inverse_transform([Y_test])"
      ],
      "execution_count": null,
      "outputs": []
    },
    {
      "cell_type": "code",
      "metadata": {
        "colab": {
          "base_uri": "https://localhost:8080/"
        },
        "id": "6Ip1ZeFBfFkZ",
        "outputId": "39072e19-bb63-4118-c8e0-fe83bb1c47d0"
      },
      "source": [
        "df_main.mean()"
      ],
      "execution_count": null,
      "outputs": [
        {
          "output_type": "execute_result",
          "data": {
            "text/plain": [
              "oni    0.041\n",
              "dtype: float64"
            ]
          },
          "metadata": {
            "tags": []
          },
          "execution_count": 55
        }
      ]
    },
    {
      "cell_type": "code",
      "metadata": {
        "colab": {
          "base_uri": "https://localhost:8080/"
        },
        "id": "U1jLDsszfS1e",
        "outputId": "f72b29ce-5156-4463-fdd4-31dfe490b1a5"
      },
      "source": [
        "Y_test[0]"
      ],
      "execution_count": null,
      "outputs": [
        {
          "output_type": "execute_result",
          "data": {
            "text/plain": [
              "array([-0.60000011, -0.70000008, -0.70000008, -0.70000008, -0.60000011,\n",
              "       -0.30000005, -0.09999997,  0.09999997,  0.29999992,  0.39999989,\n",
              "        0.39999989,  0.09999997])"
            ]
          },
          "metadata": {
            "tags": []
          },
          "execution_count": 57
        }
      ]
    },
    {
      "cell_type": "code",
      "metadata": {
        "colab": {
          "base_uri": "https://localhost:8080/"
        },
        "id": "vvfaht68ew9f",
        "outputId": "0777c55a-1ae8-44fa-ec46-d6f0595fb5b9"
      },
      "source": [
        "res = 0\n",
        "for i in range(len(preds)):\n",
        "    res += abs(preds[i] - Y_test[0][i])\n",
        "res /= len(preds)\n",
        "res"
      ],
      "execution_count": null,
      "outputs": [
        {
          "output_type": "execute_result",
          "data": {
            "text/plain": [
              "array([0.08142991], dtype=float32)"
            ]
          },
          "metadata": {
            "tags": []
          },
          "execution_count": 58
        }
      ]
    },
    {
      "cell_type": "code",
      "metadata": {
        "colab": {
          "base_uri": "https://localhost:8080/",
          "height": 374
        },
        "id": "CrgfyKZ6fzOZ",
        "outputId": "91a85cc8-36ae-4403-bde8-b4190fa02b83"
      },
      "source": [
        "plt.figure(figsize=(14, 6))\n",
        "plt.ylim(min(df_main.oni), max(df_main.oni))\n",
        "plt.grid()\n",
        "plt.plot( list(df_main.tail(13).index)[:12], preds, label='predicts')\n",
        "plt.plot( list(df_main.tail(13).index)[:12], Y_test[0], label='real values')\n",
        "plt.legend()\n",
        "plt.savefig('foo.png')\n",
        "\n"
      ],
      "execution_count": null,
      "outputs": [
        {
          "output_type": "display_data",
          "data": {
            "image/png": "[encoded data removed]",
            "text/plain": [
              "<Figure size 1008x432 with 1 Axes>"
            ]
          },
          "metadata": {
            "tags": [],
            "needs_background": "light"
          }
        }
      ]
    },
    {
      "cell_type": "code",
      "metadata": {
        "id": "v5H8LuFKuDiU"
      },
      "source": [
        "res = 0\n",
        "for i range(len(preds)):\n"
      ],
      "execution_count": null,
      "outputs": []
    },
    {
      "cell_type": "code",
      "metadata": {
        "id": "3XARKMv7drKC"
      },
      "source": [
        ""
      ],
      "execution_count": null,
      "outputs": []
    },
    {
      "cell_type": "code",
      "metadata": {
        "id": "ky_ZT5yvdrRD"
      },
      "source": [
        ""
      ],
      "execution_count": null,
      "outputs": []
    },
    {
      "cell_type": "code",
      "metadata": {
        "colab": {
          "base_uri": "https://localhost:8080/"
        },
        "id": "W0euRuuKtCl5",
        "outputId": "cbb34c7e-385a-46f4-c077-c977aca092e5"
      },
      "source": [
        "Y_test"
      ],
      "execution_count": null,
      "outputs": [
        {
          "output_type": "execute_result",
          "data": {
            "text/plain": [
              "array([[-0.60000011, -0.70000008, -0.70000008, -0.70000008, -0.60000011,\n",
              "        -0.30000005, -0.09999997,  0.09999997,  0.29999992,  0.39999989,\n",
              "         0.39999989,  0.09999997]])"
            ]
          },
          "metadata": {
            "tags": []
          },
          "execution_count": 276
        }
      ]
    },
    {
      "cell_type": "code",
      "metadata": {
        "colab": {
          "base_uri": "https://localhost:8080/"
        },
        "id": "VHzkxJcCr7NE",
        "outputId": "eae5ac59-6c5b-475d-9fb8-0d4c223da426"
      },
      "source": [
        "for i in range(len(Y_test[0])):\n",
        "    print(preds[i], ' - ', Y_test[0][i], ' - ', df_main.tail(13).oni[i], df_main.tail(13).index[i])"
      ],
      "execution_count": null,
      "outputs": [
        {
          "output_type": "stream",
          "text": [
            "[-0.56346107]  -  -0.6000001096725425  -  -0.6 2016-08-01 00:00:00\n",
            "[-0.73684376]  -  -0.7000000822544068  -  -0.7 2016-09-01 00:00:00\n",
            "[-0.7583034]  -  -0.7000000822544068  -  -0.7 2016-10-01 00:00:00\n",
            "[-0.6429743]  -  -0.7000000822544068  -  -0.7 2016-11-01 00:00:00\n",
            "[-0.60152936]  -  -0.6000001096725425  -  -0.6 2016-12-01 00:00:00\n",
            "[-0.48072547]  -  -0.30000005483627123  -  -0.3 2017-01-01 00:00:00\n",
            "[-0.1026132]  -  -0.09999997258186438  -  -0.1 2017-02-01 00:00:00\n",
            "[0.13754965]  -  0.09999997258186438  -  0.1 2017-03-01 00:00:00\n",
            "[0.2816816]  -  0.29999991774559315  -  0.3 2017-04-01 00:00:00\n",
            "[0.4698369]  -  0.39999989032745753  -  0.4 2017-05-01 00:00:00\n",
            "[0.5295651]  -  0.39999989032745753  -  0.4 2017-06-01 00:00:00\n",
            "[0.448309]  -  0.09999997258186438  -  0.1 2017-07-01 00:00:00\n"
          ],
          "name": "stdout"
        }
      ]
    },
    {
      "cell_type": "code",
      "metadata": {
        "colab": {
          "base_uri": "https://localhost:8080/"
        },
        "id": "bIurZuN8I80c",
        "outputId": "9718b89c-4784-494a-c5da-d7ad0bf89da1"
      },
      "source": [
        "train_predict = model.predict(X_train)\n",
        "test_predict = model.predict(X_test)\n",
        "# invert predictions\n",
        "train_predict = scaler.inverse_transform(train_predict)\n",
        "Y_train = scaler.inverse_transform([Y_train])\n",
        "test_predict = scaler.inverse_transform(test_predict)\n",
        "#Y_test = scaler.inverse_transform([Y_test])\n",
        "print('Train Mean Absolute Error:', mean_absolute_error(Y_train[0], train_predict[:,0]))\n",
        "print('Train Root Mean Squared Error:',np.sqrt(mean_squared_error(Y_train[0], train_predict[:,0])))\n",
        "print('Test Mean Absolute Error:', mean_absolute_error(Y_test[0], test_predict[:,0]))\n",
        "print('Test Root Mean Squared Error:',np.sqrt(mean_squared_error(Y_test[0], test_predict[:,0])))"
      ],
      "execution_count": null,
      "outputs": [
        {
          "output_type": "stream",
          "text": [
            "Train Mean Absolute Error: 0.11914825295477782\n",
            "Train Root Mean Squared Error: 0.14825739074839592\n",
            "Test Mean Absolute Error: 0.0818071116507046\n",
            "Test Root Mean Squared Error: 0.12449601531522435\n"
          ],
          "name": "stdout"
        }
      ]
    },
    {
      "cell_type": "code",
      "metadata": {
        "colab": {
          "base_uri": "https://localhost:8080/"
        },
        "id": "5sfC8qY_wKFM",
        "outputId": "8df8e496-0be2-4f4b-9e1b-a4b679b9c41e"
      },
      "source": [
        "from google.colab import drive\n",
        "drive.mount('/content/drive')"
      ],
      "execution_count": null,
      "outputs": [
        {
          "output_type": "stream",
          "text": [
            "Mounted at /content/drive\n"
          ],
          "name": "stdout"
        }
      ]
    },
    {
      "cell_type": "code",
      "metadata": {
        "colab": {
          "base_uri": "https://localhost:8080/"
        },
        "id": "BVkCJMW0psAA",
        "outputId": "c42e35d5-4b48-43df-95a8-27aad5942a06"
      },
      "source": [
        "model.save('/content/drive/My Drive/models/oni' )"
      ],
      "execution_count": null,
      "outputs": [
        {
          "output_type": "stream",
          "text": [
            "WARNING:absl:Found untraced functions such as lstm_cell_17_layer_call_fn, lstm_cell_17_layer_call_and_return_conditional_losses, lstm_cell_17_layer_call_fn, lstm_cell_17_layer_call_and_return_conditional_losses, lstm_cell_17_layer_call_and_return_conditional_losses while saving (showing 5 of 5). These functions will not be directly callable after loading.\n"
          ],
          "name": "stderr"
        },
        {
          "output_type": "stream",
          "text": [
            "INFO:tensorflow:Assets written to: /content/drive/My Drive/models/oni/assets\n"
          ],
          "name": "stdout"
        },
        {
          "output_type": "stream",
          "text": [
            "INFO:tensorflow:Assets written to: /content/drive/My Drive/models/oni/assets\n"
          ],
          "name": "stderr"
        }
      ]
    },
    {
      "cell_type": "code",
      "metadata": {
        "colab": {
          "base_uri": "https://localhost:8080/"
        },
        "id": "1sjtFpUQWlUf",
        "outputId": "033fb367-72ef-48c9-ef07-fbbc7e5a7d66"
      },
      "source": [
        "df.info()"
      ],
      "execution_count": null,
      "outputs": [
        {
          "output_type": "stream",
          "text": [
            "<class 'pandas.core.frame.DataFrame'>\n",
            "DatetimeIndex: 800 entries, 1951-01-01 to 2017-08-01\n",
            "Data columns (total 5 columns):\n",
            " #   Column  Non-Null Count  Dtype  \n",
            "---  ------  --------------  -----  \n",
            " 0   soi     800 non-null    float64\n",
            " 1   oni     800 non-null    float64\n",
            " 2   nino3   800 non-null    float64\n",
            " 3   pna     800 non-null    float64\n",
            " 4   precip  800 non-null    float64\n",
            "dtypes: float64(5)\n",
            "memory usage: 37.5 KB\n"
          ],
          "name": "stdout"
        }
      ]
    },
    {
      "cell_type": "code",
      "metadata": {
        "colab": {
          "base_uri": "https://localhost:8080/",
          "height": 446
        },
        "id": "4CU0lAZhWlZ8",
        "outputId": "5fcbd28f-ac39-4de8-fa72-f323107d1680"
      },
      "source": [
        "df_main_soi = df.drop(['oni', 'nino3', 'pna', 'precip'], axis=1)\n",
        "df_main_soi"
      ],
      "execution_count": null,
      "outputs": [
        {
          "output_type": "execute_result",
          "data": {
            "text/html": [
              "<div>\n",
              "<style scoped>\n",
              "    .dataframe tbody tr th:only-of-type {\n",
              "        vertical-align: middle;\n",
              "    }\n",
              "\n",
              "    .dataframe tbody tr th {\n",
              "        vertical-align: top;\n",
              "    }\n",
              "\n",
              "    .dataframe thead th {\n",
              "        text-align: right;\n",
              "    }\n",
              "</style>\n",
              "<table border=\"1\" class=\"dataframe\">\n",
              "  <thead>\n",
              "    <tr style=\"text-align: right;\">\n",
              "      <th></th>\n",
              "      <th>soi</th>\n",
              "    </tr>\n",
              "    <tr>\n",
              "      <th>date</th>\n",
              "      <th></th>\n",
              "    </tr>\n",
              "  </thead>\n",
              "  <tbody>\n",
              "    <tr>\n",
              "      <th>1951-01-01</th>\n",
              "      <td>1.5</td>\n",
              "    </tr>\n",
              "    <tr>\n",
              "      <th>1951-02-01</th>\n",
              "      <td>0.9</td>\n",
              "    </tr>\n",
              "    <tr>\n",
              "      <th>1951-03-01</th>\n",
              "      <td>-0.1</td>\n",
              "    </tr>\n",
              "    <tr>\n",
              "      <th>1951-04-01</th>\n",
              "      <td>-0.3</td>\n",
              "    </tr>\n",
              "    <tr>\n",
              "      <th>1951-05-01</th>\n",
              "      <td>-0.7</td>\n",
              "    </tr>\n",
              "    <tr>\n",
              "      <th>...</th>\n",
              "      <td>...</td>\n",
              "    </tr>\n",
              "    <tr>\n",
              "      <th>2017-04-01</th>\n",
              "      <td>-0.2</td>\n",
              "    </tr>\n",
              "    <tr>\n",
              "      <th>2017-05-01</th>\n",
              "      <td>0.3</td>\n",
              "    </tr>\n",
              "    <tr>\n",
              "      <th>2017-06-01</th>\n",
              "      <td>-0.4</td>\n",
              "    </tr>\n",
              "    <tr>\n",
              "      <th>2017-07-01</th>\n",
              "      <td>0.8</td>\n",
              "    </tr>\n",
              "    <tr>\n",
              "      <th>2017-08-01</th>\n",
              "      <td>0.5</td>\n",
              "    </tr>\n",
              "  </tbody>\n",
              "</table>\n",
              "<p>800 rows × 1 columns</p>\n",
              "</div>"
            ],
            "text/plain": [
              "            soi\n",
              "date           \n",
              "1951-01-01  1.5\n",
              "1951-02-01  0.9\n",
              "1951-03-01 -0.1\n",
              "1951-04-01 -0.3\n",
              "1951-05-01 -0.7\n",
              "...         ...\n",
              "2017-04-01 -0.2\n",
              "2017-05-01  0.3\n",
              "2017-06-01 -0.4\n",
              "2017-07-01  0.8\n",
              "2017-08-01  0.5\n",
              "\n",
              "[800 rows x 1 columns]"
            ]
          },
          "metadata": {
            "tags": []
          },
          "execution_count": 40
        }
      ]
    },
    {
      "cell_type": "code",
      "metadata": {
        "id": "0DakcwDJWmPU"
      },
      "source": [
        "# soi\n",
        "\n",
        "dataset_soi = df_main_soi.soi.values\n",
        "dataset_soi = dataset_soi.astype('float32')\n",
        "dataset_soi = np.reshape(dataset_soi, (-1, 1))\n",
        "scaler_soi = MinMaxScaler(feature_range=(0, 1))\n",
        "dataset_soi = scaler_soi.fit_transform(dataset_soi)\n",
        "train_size_soi = int(len(dataset_soi) - 16)\n",
        "test_size_soi = len(dataset_soi) - train_size_soi\n",
        "train_soi, test_soi = dataset_soi[0:train_size_soi,:], dataset_soi[train_size_soi:len(dataset_soi),:]\n",
        "    \n",
        "X_train_soi, Y_train_soi = create_dataset(train_soi, look_back)\n",
        "X_test_soi, Y_test_soi = create_dataset(test_soi, look_back)\n",
        "\n",
        "# reshape input to be [samples, time steps, features]\n",
        "X_train_soi = np.reshape(X_train_soi, (X_train_soi.shape[0], 1, X_train_soi.shape[1]))\n",
        "X_test_soi = np.reshape(X_test_soi, (X_test_soi.shape[0], 1, X_test_soi.shape[1]))"
      ],
      "execution_count": null,
      "outputs": []
    },
    {
      "cell_type": "code",
      "metadata": {
        "colab": {
          "base_uri": "https://localhost:8080/"
        },
        "id": "XPb1nO8yWmPV",
        "outputId": "9608af3c-b7a1-4773-db22-9e6d9dc08b72"
      },
      "source": [
        "len(X_train_soi), len(X_test_soi), len(Y_train_soi), len(Y_test_soi)"
      ],
      "execution_count": null,
      "outputs": [
        {
          "output_type": "execute_result",
          "data": {
            "text/plain": [
              "(780, 12, 780, 12)"
            ]
          },
          "metadata": {
            "tags": []
          },
          "execution_count": 62
        }
      ]
    },
    {
      "cell_type": "code",
      "metadata": {
        "colab": {
          "base_uri": "https://localhost:8080/"
        },
        "id": "TjNIz18mWmPY",
        "outputId": "57403a7a-0865-485f-f100-afb07a03bece"
      },
      "source": [
        "model_soi = Sequential()\n",
        "model_soi.add(LSTM(units=100, input_shape=(X_train_soi.shape[1], X_train_soi.shape[2]), return_sequences=True))\n",
        "model_soi.add(Dropout(0.2))\n",
        "#model_soi.add(Dense(50))\n",
        "model_soi.add(LSTM(units=50))\n",
        "model_soi.add(Dropout(0.2))\n",
        "model_soi.add(Dense(1))\n",
        "model_soi.compile(loss='mean_squared_error', optimizer='adam')\n",
        "\n",
        "history = model_soi.fit(X_train_soi, Y_train_soi, epochs=50, batch_size=5, validation_data=(X_test_soi, Y_test_soi), \n",
        "                    callbacks=[EarlyStopping(monitor='val_loss', patience=10)], \n",
        "                    verbose=1, shuffle=False)\n",
        "\n",
        "model_soi.summary()"
      ],
      "execution_count": null,
      "outputs": [
        {
          "output_type": "stream",
          "text": [
            "Epoch 1/50\n",
            "156/156 [==============================] - 5s 9ms/step - loss: 0.1338 - val_loss: 0.0074\n",
            "Epoch 2/50\n",
            "156/156 [==============================] - 0s 3ms/step - loss: 0.0152 - val_loss: 0.0076\n",
            "Epoch 3/50\n",
            "156/156 [==============================] - 0s 3ms/step - loss: 0.0144 - val_loss: 0.0079\n",
            "Epoch 4/50\n",
            "156/156 [==============================] - 0s 3ms/step - loss: 0.0138 - val_loss: 0.0078\n",
            "Epoch 5/50\n",
            "156/156 [==============================] - 0s 3ms/step - loss: 0.0138 - val_loss: 0.0079\n",
            "Epoch 6/50\n",
            "156/156 [==============================] - 0s 3ms/step - loss: 0.0132 - val_loss: 0.0084\n",
            "Epoch 7/50\n",
            "156/156 [==============================] - 0s 3ms/step - loss: 0.0137 - val_loss: 0.0083\n",
            "Epoch 8/50\n",
            "156/156 [==============================] - 0s 3ms/step - loss: 0.0139 - val_loss: 0.0083\n",
            "Epoch 9/50\n",
            "156/156 [==============================] - 0s 3ms/step - loss: 0.0136 - val_loss: 0.0081\n",
            "Epoch 10/50\n",
            "156/156 [==============================] - 0s 3ms/step - loss: 0.0138 - val_loss: 0.0081\n",
            "Epoch 11/50\n",
            "156/156 [==============================] - 0s 3ms/step - loss: 0.0132 - val_loss: 0.0083\n",
            "Model: \"sequential_7\"\n",
            "_________________________________________________________________\n",
            "Layer (type)                 Output Shape              Param #   \n",
            "=================================================================\n",
            "lstm_8 (LSTM)                (None, 1, 100)            41600     \n",
            "_________________________________________________________________\n",
            "dropout_8 (Dropout)          (None, 1, 100)            0         \n",
            "_________________________________________________________________\n",
            "lstm_9 (LSTM)                (None, 50)                30200     \n",
            "_________________________________________________________________\n",
            "dropout_9 (Dropout)          (None, 50)                0         \n",
            "_________________________________________________________________\n",
            "dense_7 (Dense)              (None, 1)                 51        \n",
            "=================================================================\n",
            "Total params: 71,851\n",
            "Trainable params: 71,851\n",
            "Non-trainable params: 0\n",
            "_________________________________________________________________\n"
          ],
          "name": "stdout"
        }
      ]
    },
    {
      "cell_type": "code",
      "metadata": {
        "id": "_RiDkOikxgIX"
      },
      "source": [
        "preds_soi = model_soi.predict(X_test_soi)\n",
        "preds_soi = scaler_soi.inverse_transform(preds_soi)\n",
        "Y_test_soi = scaler_soi.inverse_transform([Y_test_soi])"
      ],
      "execution_count": null,
      "outputs": []
    },
    {
      "cell_type": "code",
      "metadata": {
        "colab": {
          "base_uri": "https://localhost:8080/"
        },
        "id": "6ntnxB4XehSb",
        "outputId": "e59e76f6-5508-46bd-8021-6541f87c8682"
      },
      "source": [
        "res_soi = 0\n",
        "for i in range(len(preds_soi)):\n",
        "    res_soi += abs(preds_soi[i] - Y_test_soi[0][i])\n",
        "res_soi /= len(preds_soi)\n",
        "res_soi"
      ],
      "execution_count": null,
      "outputs": [
        {
          "output_type": "execute_result",
          "data": {
            "text/plain": [
              "array([0.5177106], dtype=float32)"
            ]
          },
          "metadata": {
            "tags": []
          },
          "execution_count": 65
        }
      ]
    },
    {
      "cell_type": "code",
      "metadata": {
        "colab": {
          "base_uri": "https://localhost:8080/",
          "height": 391
        },
        "id": "crH-NVqAxR0b",
        "outputId": "6d216360-6c18-45e7-aae1-22e824fb6ca4"
      },
      "source": [
        "plt.figure(figsize=(14, 6))\n",
        "plt.ylim(min(df_main_soi.soi), max(df_main_soi.soi))\n",
        "plt.grid()\n",
        "plt.plot( list(df_main_soi.tail(13).index)[:12], preds_soi, label='predicts')\n",
        "plt.plot( list(df_main_soi.tail(400).index)[:399], df_main_soi.tail(400).soi[:399], label='real values')\n",
        "plt.legend()\n",
        "#plt.savefig('soi.png')\n",
        "\n"
      ],
      "execution_count": null,
      "outputs": [
        {
          "output_type": "execute_result",
          "data": {
            "text/plain": [
              "<matplotlib.legend.Legend at 0x7f772c253a10>"
            ]
          },
          "metadata": {
            "tags": []
          },
          "execution_count": 66
        },
        {
          "output_type": "display_data",
          "data": {
            "image/png": "[encoded data removed]",
            "text/plain": [
              "<Figure size 1008x432 with 1 Axes>"
            ]
          },
          "metadata": {
            "tags": [],
            "needs_background": "light"
          }
        }
      ]
    },
    {
      "cell_type": "code",
      "metadata": {
        "colab": {
          "base_uri": "https://localhost:8080/",
          "height": 398
        },
        "id": "Ibgxyhh4WmPd",
        "outputId": "47152a1e-cf28-46c4-d018-be57f445e3ed"
      },
      "source": [
        "train_predict_soi = model_soi.predict(X_train_soi)\n",
        "test_predict_soi = model_soi.predict(X_test_soi)\n",
        "# invert predictions\n",
        "train_predict_soi = scaler_soi.inverse_transform(train_predict_soi)\n",
        "#Y_train_soi = scaler_soi.inverse_transform([Y_train_soi])\n",
        "test_predict_soi = scaler_soi.inverse_transform(test_predict_soi)\n",
        "#Y_test_soi = scaler_soi.inverse_transform([Y_test_soi])\n",
        "print('Train Mean Absolute Error:', mean_absolute_error(Y_train_soi[0], train_predict_soi[:,0]))\n",
        "print('Train Root Mean Squared Error:',np.sqrt(mean_squared_error(Y_train_soi[0], train_predict_soi[:,0])))\n",
        "print('Test Mean Absolute Error:', mean_absolute_error(Y_test_soi[0], test_predict_soi[:,0]))\n",
        "print('Test Root Mean Squared Error:',np.sqrt(mean_squared_error(Y_test_soi[0], test_predict_soi[:,0])))"
      ],
      "execution_count": null,
      "outputs": [
        {
          "output_type": "error",
          "ename": "TypeError",
          "evalue": "ignored",
          "traceback": [
            "\u001b[0;31m---------------------------------------------------------------------------\u001b[0m",
            "\u001b[0;31mTypeError\u001b[0m                                 Traceback (most recent call last)",
            "\u001b[0;32m<ipython-input-67-a029ab91b55d>\u001b[0m in \u001b[0;36m<module>\u001b[0;34m()\u001b[0m\n\u001b[1;32m      6\u001b[0m \u001b[0mtest_predict_soi\u001b[0m \u001b[0;34m=\u001b[0m \u001b[0mscaler_soi\u001b[0m\u001b[0;34m.\u001b[0m\u001b[0minverse_transform\u001b[0m\u001b[0;34m(\u001b[0m\u001b[0mtest_predict_soi\u001b[0m\u001b[0;34m)\u001b[0m\u001b[0;34m\u001b[0m\u001b[0;34m\u001b[0m\u001b[0m\n\u001b[1;32m      7\u001b[0m \u001b[0;31m#Y_test_soi = scaler_soi.inverse_transform([Y_test_soi])\u001b[0m\u001b[0;34m\u001b[0m\u001b[0;34m\u001b[0m\u001b[0;34m\u001b[0m\u001b[0m\n\u001b[0;32m----> 8\u001b[0;31m \u001b[0mprint\u001b[0m\u001b[0;34m(\u001b[0m\u001b[0;34m'Train Mean Absolute Error:'\u001b[0m\u001b[0;34m,\u001b[0m \u001b[0mmean_absolute_error\u001b[0m\u001b[0;34m(\u001b[0m\u001b[0mY_train_soi\u001b[0m\u001b[0;34m[\u001b[0m\u001b[0;36m0\u001b[0m\u001b[0;34m]\u001b[0m\u001b[0;34m,\u001b[0m \u001b[0mtrain_predict_soi\u001b[0m\u001b[0;34m[\u001b[0m\u001b[0;34m:\u001b[0m\u001b[0;34m,\u001b[0m\u001b[0;36m0\u001b[0m\u001b[0;34m]\u001b[0m\u001b[0;34m)\u001b[0m\u001b[0;34m)\u001b[0m\u001b[0;34m\u001b[0m\u001b[0;34m\u001b[0m\u001b[0m\n\u001b[0m\u001b[1;32m      9\u001b[0m \u001b[0mprint\u001b[0m\u001b[0;34m(\u001b[0m\u001b[0;34m'Train Root Mean Squared Error:'\u001b[0m\u001b[0;34m,\u001b[0m\u001b[0mnp\u001b[0m\u001b[0;34m.\u001b[0m\u001b[0msqrt\u001b[0m\u001b[0;34m(\u001b[0m\u001b[0mmean_squared_error\u001b[0m\u001b[0;34m(\u001b[0m\u001b[0mY_train_soi\u001b[0m\u001b[0;34m[\u001b[0m\u001b[0;36m0\u001b[0m\u001b[0;34m]\u001b[0m\u001b[0;34m,\u001b[0m \u001b[0mtrain_predict_soi\u001b[0m\u001b[0;34m[\u001b[0m\u001b[0;34m:\u001b[0m\u001b[0;34m,\u001b[0m\u001b[0;36m0\u001b[0m\u001b[0;34m]\u001b[0m\u001b[0;34m)\u001b[0m\u001b[0;34m)\u001b[0m\u001b[0;34m)\u001b[0m\u001b[0;34m\u001b[0m\u001b[0;34m\u001b[0m\u001b[0m\n\u001b[1;32m     10\u001b[0m \u001b[0mprint\u001b[0m\u001b[0;34m(\u001b[0m\u001b[0;34m'Test Mean Absolute Error:'\u001b[0m\u001b[0;34m,\u001b[0m \u001b[0mmean_absolute_error\u001b[0m\u001b[0;34m(\u001b[0m\u001b[0mY_test_soi\u001b[0m\u001b[0;34m[\u001b[0m\u001b[0;36m0\u001b[0m\u001b[0;34m]\u001b[0m\u001b[0;34m,\u001b[0m \u001b[0mtest_predict_soi\u001b[0m\u001b[0;34m[\u001b[0m\u001b[0;34m:\u001b[0m\u001b[0;34m,\u001b[0m\u001b[0;36m0\u001b[0m\u001b[0;34m]\u001b[0m\u001b[0;34m)\u001b[0m\u001b[0;34m)\u001b[0m\u001b[0;34m\u001b[0m\u001b[0;34m\u001b[0m\u001b[0m\n",
            "\u001b[0;32m/usr/local/lib/python3.7/dist-packages/sklearn/metrics/_regression.py\u001b[0m in \u001b[0;36mmean_absolute_error\u001b[0;34m(y_true, y_pred, sample_weight, multioutput)\u001b[0m\n\u001b[1;32m    176\u001b[0m     \"\"\"\n\u001b[1;32m    177\u001b[0m     y_type, y_true, y_pred, multioutput = _check_reg_targets(\n\u001b[0;32m--> 178\u001b[0;31m         y_true, y_pred, multioutput)\n\u001b[0m\u001b[1;32m    179\u001b[0m     \u001b[0mcheck_consistent_length\u001b[0m\u001b[0;34m(\u001b[0m\u001b[0my_true\u001b[0m\u001b[0;34m,\u001b[0m \u001b[0my_pred\u001b[0m\u001b[0;34m,\u001b[0m \u001b[0msample_weight\u001b[0m\u001b[0;34m)\u001b[0m\u001b[0;34m\u001b[0m\u001b[0;34m\u001b[0m\u001b[0m\n\u001b[1;32m    180\u001b[0m     output_errors = np.average(np.abs(y_pred - y_true),\n",
            "\u001b[0;32m/usr/local/lib/python3.7/dist-packages/sklearn/metrics/_regression.py\u001b[0m in \u001b[0;36m_check_reg_targets\u001b[0;34m(y_true, y_pred, multioutput, dtype)\u001b[0m\n\u001b[1;32m     82\u001b[0m \u001b[0;34m\u001b[0m\u001b[0m\n\u001b[1;32m     83\u001b[0m     \"\"\"\n\u001b[0;32m---> 84\u001b[0;31m     \u001b[0mcheck_consistent_length\u001b[0m\u001b[0;34m(\u001b[0m\u001b[0my_true\u001b[0m\u001b[0;34m,\u001b[0m \u001b[0my_pred\u001b[0m\u001b[0;34m)\u001b[0m\u001b[0;34m\u001b[0m\u001b[0;34m\u001b[0m\u001b[0m\n\u001b[0m\u001b[1;32m     85\u001b[0m     \u001b[0my_true\u001b[0m \u001b[0;34m=\u001b[0m \u001b[0mcheck_array\u001b[0m\u001b[0;34m(\u001b[0m\u001b[0my_true\u001b[0m\u001b[0;34m,\u001b[0m \u001b[0mensure_2d\u001b[0m\u001b[0;34m=\u001b[0m\u001b[0;32mFalse\u001b[0m\u001b[0;34m,\u001b[0m \u001b[0mdtype\u001b[0m\u001b[0;34m=\u001b[0m\u001b[0mdtype\u001b[0m\u001b[0;34m)\u001b[0m\u001b[0;34m\u001b[0m\u001b[0;34m\u001b[0m\u001b[0m\n\u001b[1;32m     86\u001b[0m     \u001b[0my_pred\u001b[0m \u001b[0;34m=\u001b[0m \u001b[0mcheck_array\u001b[0m\u001b[0;34m(\u001b[0m\u001b[0my_pred\u001b[0m\u001b[0;34m,\u001b[0m \u001b[0mensure_2d\u001b[0m\u001b[0;34m=\u001b[0m\u001b[0;32mFalse\u001b[0m\u001b[0;34m,\u001b[0m \u001b[0mdtype\u001b[0m\u001b[0;34m=\u001b[0m\u001b[0mdtype\u001b[0m\u001b[0;34m)\u001b[0m\u001b[0;34m\u001b[0m\u001b[0;34m\u001b[0m\u001b[0m\n",
            "\u001b[0;32m/usr/local/lib/python3.7/dist-packages/sklearn/utils/validation.py\u001b[0m in \u001b[0;36mcheck_consistent_length\u001b[0;34m(*arrays)\u001b[0m\n\u001b[1;32m    206\u001b[0m     \"\"\"\n\u001b[1;32m    207\u001b[0m \u001b[0;34m\u001b[0m\u001b[0m\n\u001b[0;32m--> 208\u001b[0;31m     \u001b[0mlengths\u001b[0m \u001b[0;34m=\u001b[0m \u001b[0;34m[\u001b[0m\u001b[0m_num_samples\u001b[0m\u001b[0;34m(\u001b[0m\u001b[0mX\u001b[0m\u001b[0;34m)\u001b[0m \u001b[0;32mfor\u001b[0m \u001b[0mX\u001b[0m \u001b[0;32min\u001b[0m \u001b[0marrays\u001b[0m \u001b[0;32mif\u001b[0m \u001b[0mX\u001b[0m \u001b[0;32mis\u001b[0m \u001b[0;32mnot\u001b[0m \u001b[0;32mNone\u001b[0m\u001b[0;34m]\u001b[0m\u001b[0;34m\u001b[0m\u001b[0;34m\u001b[0m\u001b[0m\n\u001b[0m\u001b[1;32m    209\u001b[0m     \u001b[0muniques\u001b[0m \u001b[0;34m=\u001b[0m \u001b[0mnp\u001b[0m\u001b[0;34m.\u001b[0m\u001b[0munique\u001b[0m\u001b[0;34m(\u001b[0m\u001b[0mlengths\u001b[0m\u001b[0;34m)\u001b[0m\u001b[0;34m\u001b[0m\u001b[0;34m\u001b[0m\u001b[0m\n\u001b[1;32m    210\u001b[0m     \u001b[0;32mif\u001b[0m \u001b[0mlen\u001b[0m\u001b[0;34m(\u001b[0m\u001b[0muniques\u001b[0m\u001b[0;34m)\u001b[0m \u001b[0;34m>\u001b[0m \u001b[0;36m1\u001b[0m\u001b[0;34m:\u001b[0m\u001b[0;34m\u001b[0m\u001b[0;34m\u001b[0m\u001b[0m\n",
            "\u001b[0;32m/usr/local/lib/python3.7/dist-packages/sklearn/utils/validation.py\u001b[0m in \u001b[0;36m<listcomp>\u001b[0;34m(.0)\u001b[0m\n\u001b[1;32m    206\u001b[0m     \"\"\"\n\u001b[1;32m    207\u001b[0m \u001b[0;34m\u001b[0m\u001b[0m\n\u001b[0;32m--> 208\u001b[0;31m     \u001b[0mlengths\u001b[0m \u001b[0;34m=\u001b[0m \u001b[0;34m[\u001b[0m\u001b[0m_num_samples\u001b[0m\u001b[0;34m(\u001b[0m\u001b[0mX\u001b[0m\u001b[0;34m)\u001b[0m \u001b[0;32mfor\u001b[0m \u001b[0mX\u001b[0m \u001b[0;32min\u001b[0m \u001b[0marrays\u001b[0m \u001b[0;32mif\u001b[0m \u001b[0mX\u001b[0m \u001b[0;32mis\u001b[0m \u001b[0;32mnot\u001b[0m \u001b[0;32mNone\u001b[0m\u001b[0;34m]\u001b[0m\u001b[0;34m\u001b[0m\u001b[0;34m\u001b[0m\u001b[0m\n\u001b[0m\u001b[1;32m    209\u001b[0m     \u001b[0muniques\u001b[0m \u001b[0;34m=\u001b[0m \u001b[0mnp\u001b[0m\u001b[0;34m.\u001b[0m\u001b[0munique\u001b[0m\u001b[0;34m(\u001b[0m\u001b[0mlengths\u001b[0m\u001b[0;34m)\u001b[0m\u001b[0;34m\u001b[0m\u001b[0;34m\u001b[0m\u001b[0m\n\u001b[1;32m    210\u001b[0m     \u001b[0;32mif\u001b[0m \u001b[0mlen\u001b[0m\u001b[0;34m(\u001b[0m\u001b[0muniques\u001b[0m\u001b[0;34m)\u001b[0m \u001b[0;34m>\u001b[0m \u001b[0;36m1\u001b[0m\u001b[0;34m:\u001b[0m\u001b[0;34m\u001b[0m\u001b[0;34m\u001b[0m\u001b[0m\n",
            "\u001b[0;32m/usr/local/lib/python3.7/dist-packages/sklearn/utils/validation.py\u001b[0m in \u001b[0;36m_num_samples\u001b[0;34m(x)\u001b[0m\n\u001b[1;32m    150\u001b[0m         \u001b[0;32mif\u001b[0m \u001b[0mlen\u001b[0m\u001b[0;34m(\u001b[0m\u001b[0mx\u001b[0m\u001b[0;34m.\u001b[0m\u001b[0mshape\u001b[0m\u001b[0;34m)\u001b[0m \u001b[0;34m==\u001b[0m \u001b[0;36m0\u001b[0m\u001b[0;34m:\u001b[0m\u001b[0;34m\u001b[0m\u001b[0;34m\u001b[0m\u001b[0m\n\u001b[1;32m    151\u001b[0m             raise TypeError(\"Singleton array %r cannot be considered\"\n\u001b[0;32m--> 152\u001b[0;31m                             \" a valid collection.\" % x)\n\u001b[0m\u001b[1;32m    153\u001b[0m         \u001b[0;31m# Check that shape is returning an integer or default to len\u001b[0m\u001b[0;34m\u001b[0m\u001b[0;34m\u001b[0m\u001b[0;34m\u001b[0m\u001b[0m\n\u001b[1;32m    154\u001b[0m         \u001b[0;31m# Dask dataframes may not return numeric shape[0] value\u001b[0m\u001b[0;34m\u001b[0m\u001b[0;34m\u001b[0m\u001b[0;34m\u001b[0m\u001b[0m\n",
            "\u001b[0;31mTypeError\u001b[0m: Singleton array 0.50769234 cannot be considered a valid collection."
          ]
        }
      ]
    },
    {
      "cell_type": "code",
      "metadata": {
        "id": "oZpQHL8iWldx"
      },
      "source": [
        ""
      ],
      "execution_count": null,
      "outputs": []
    },
    {
      "cell_type": "code",
      "metadata": {
        "colab": {
          "base_uri": "https://localhost:8080/",
          "height": 233
        },
        "id": "n4xzEIigQWaI",
        "outputId": "774cde80-8048-4555-ea65-e5fe7b966b89"
      },
      "source": [
        "df_main.head()"
      ],
      "execution_count": null,
      "outputs": [
        {
          "output_type": "execute_result",
          "data": {
            "text/html": [
              "<div>\n",
              "<style scoped>\n",
              "    .dataframe tbody tr th:only-of-type {\n",
              "        vertical-align: middle;\n",
              "    }\n",
              "\n",
              "    .dataframe tbody tr th {\n",
              "        vertical-align: top;\n",
              "    }\n",
              "\n",
              "    .dataframe thead th {\n",
              "        text-align: right;\n",
              "    }\n",
              "</style>\n",
              "<table border=\"1\" class=\"dataframe\">\n",
              "  <thead>\n",
              "    <tr style=\"text-align: right;\">\n",
              "      <th></th>\n",
              "      <th>oni</th>\n",
              "    </tr>\n",
              "    <tr>\n",
              "      <th>date</th>\n",
              "      <th></th>\n",
              "    </tr>\n",
              "  </thead>\n",
              "  <tbody>\n",
              "    <tr>\n",
              "      <th>1951-01-01</th>\n",
              "      <td>-0.8</td>\n",
              "    </tr>\n",
              "    <tr>\n",
              "      <th>1951-02-01</th>\n",
              "      <td>-0.5</td>\n",
              "    </tr>\n",
              "    <tr>\n",
              "      <th>1951-03-01</th>\n",
              "      <td>-0.2</td>\n",
              "    </tr>\n",
              "    <tr>\n",
              "      <th>1951-04-01</th>\n",
              "      <td>0.2</td>\n",
              "    </tr>\n",
              "    <tr>\n",
              "      <th>1951-05-01</th>\n",
              "      <td>0.4</td>\n",
              "    </tr>\n",
              "  </tbody>\n",
              "</table>\n",
              "</div>"
            ],
            "text/plain": [
              "            oni\n",
              "date           \n",
              "1951-01-01 -0.8\n",
              "1951-02-01 -0.5\n",
              "1951-03-01 -0.2\n",
              "1951-04-01  0.2\n",
              "1951-05-01  0.4"
            ]
          },
          "metadata": {
            "tags": []
          },
          "execution_count": 91
        }
      ]
    },
    {
      "cell_type": "code",
      "metadata": {
        "id": "uwut4OSXQWda"
      },
      "source": [
        ""
      ],
      "execution_count": null,
      "outputs": []
    },
    {
      "cell_type": "code",
      "metadata": {
        "colab": {
          "base_uri": "https://localhost:8080/"
        },
        "id": "tbbxsON0RG7h",
        "outputId": "f77eb9d3-ae0e-42f6-ed7b-f88b0656fe48"
      },
      "source": [
        "# oni\n",
        "\n",
        "dataset = df_main.oni.values\n",
        "dataset = dataset.astype('float32')\n",
        "dataset = np.reshape(dataset, (-1, 1))\n",
        "scaler = MinMaxScaler(feature_range=(0, 1))\n",
        "dataset = scaler.fit_transform(dataset)\n",
        "\n",
        "train_size = int(len(dataset) * 0.80)\n",
        "val_size = int(len(dataset) * 0.05)\n",
        "test_size = len(dataset) - train_size - val_size\n",
        "\n",
        "train, val, test = dataset[0:train_size,:], dataset[train_size:train_size+val_size,:], dataset[train_size+val_size:len(dataset),:]\n",
        "\n",
        "print(len(train), len(val), len(test))\n",
        "    \n",
        "X_train, Y_train = create_dataset(train, look_back)\n",
        "X_val, Y_val = create_dataset(val, look_back)\n",
        "X_test, Y_test = create_dataset(test, look_back)\n",
        "\n",
        "# reshape input to be [samples, time steps, features]\n",
        "X_train = np.reshape(X_train, (X_train.shape[0], 1, X_train.shape[1]))\n",
        "X_val = np.reshape(X_val, (X_val.shape[0], 1, X_val.shape[1]))\n",
        "X_test = np.reshape(X_test, (X_test.shape[0], 1, X_test.shape[1]))"
      ],
      "execution_count": null,
      "outputs": [
        {
          "output_type": "stream",
          "text": [
            "640 40 120\n"
          ],
          "name": "stdout"
        }
      ]
    },
    {
      "cell_type": "code",
      "metadata": {
        "colab": {
          "base_uri": "https://localhost:8080/"
        },
        "id": "pjrZtEVfRG7k",
        "outputId": "501a4e62-4f0f-4599-e161-3be3e7cfc5ec"
      },
      "source": [
        "len(X_train), len(X_test), len(X_val), len(Y_train), len(Y_test), len(Y_val)"
      ],
      "execution_count": null,
      "outputs": [
        {
          "output_type": "execute_result",
          "data": {
            "text/plain": [
              "(615, 95, 15, 615, 95, 15)"
            ]
          },
          "metadata": {
            "tags": []
          },
          "execution_count": 192
        }
      ]
    },
    {
      "cell_type": "code",
      "metadata": {
        "colab": {
          "base_uri": "https://localhost:8080/"
        },
        "id": "20iyY1NTRG7m",
        "outputId": "7b63235e-e193-403e-ecb3-8b5707004297"
      },
      "source": [
        "model = Sequential()\n",
        "model.add(LSTM(100, input_shape=(X_train.shape[1], X_train.shape[2])))\n",
        "model.add(Dropout(0.2))\n",
        "model.add(Dense(1))\n",
        "model.compile(loss='mean_squared_error', optimizer='adam')\n",
        "\n",
        "history = model.fit(X_train, Y_train, epochs=50, batch_size=5, validation_data=(X_val, Y_val), \n",
        "                    callbacks=[EarlyStopping(monitor='val_loss', patience=10)], \n",
        "                    verbose=1, shuffle=False)\n",
        "\n",
        "model.summary()"
      ],
      "execution_count": null,
      "outputs": [
        {
          "output_type": "stream",
          "text": [
            "Epoch 1/50\n",
            "123/123 [==============================] - 3s 8ms/step - loss: 0.0668 - val_loss: 0.0142\n",
            "Epoch 2/50\n",
            "123/123 [==============================] - 0s 3ms/step - loss: 0.0127 - val_loss: 0.0114\n",
            "Epoch 3/50\n",
            "123/123 [==============================] - 0s 3ms/step - loss: 0.0089 - val_loss: 0.0110\n",
            "Epoch 4/50\n",
            "123/123 [==============================] - 0s 3ms/step - loss: 0.0079 - val_loss: 0.0083\n",
            "Epoch 5/50\n",
            "123/123 [==============================] - 0s 3ms/step - loss: 0.0065 - val_loss: 0.0068\n",
            "Epoch 6/50\n",
            "123/123 [==============================] - 0s 3ms/step - loss: 0.0056 - val_loss: 0.0048\n",
            "Epoch 7/50\n",
            "123/123 [==============================] - 0s 3ms/step - loss: 0.0058 - val_loss: 0.0046\n",
            "Epoch 8/50\n",
            "123/123 [==============================] - 0s 3ms/step - loss: 0.0049 - val_loss: 0.0046\n",
            "Epoch 9/50\n",
            "123/123 [==============================] - 0s 3ms/step - loss: 0.0057 - val_loss: 0.0029\n",
            "Epoch 10/50\n",
            "123/123 [==============================] - 0s 3ms/step - loss: 0.0045 - val_loss: 0.0033\n",
            "Epoch 11/50\n",
            "123/123 [==============================] - 0s 3ms/step - loss: 0.0046 - val_loss: 0.0038\n",
            "Epoch 12/50\n",
            "123/123 [==============================] - 0s 3ms/step - loss: 0.0039 - val_loss: 0.0025\n",
            "Epoch 13/50\n",
            "123/123 [==============================] - 0s 3ms/step - loss: 0.0042 - val_loss: 0.0029\n",
            "Epoch 14/50\n",
            "123/123 [==============================] - 0s 3ms/step - loss: 0.0041 - val_loss: 0.0027\n",
            "Epoch 15/50\n",
            "123/123 [==============================] - 0s 3ms/step - loss: 0.0041 - val_loss: 0.0027\n",
            "Epoch 16/50\n",
            "123/123 [==============================] - 0s 3ms/step - loss: 0.0041 - val_loss: 0.0023\n",
            "Epoch 17/50\n",
            "123/123 [==============================] - 0s 3ms/step - loss: 0.0035 - val_loss: 0.0022\n",
            "Epoch 18/50\n",
            "123/123 [==============================] - 0s 3ms/step - loss: 0.0037 - val_loss: 0.0021\n",
            "Epoch 19/50\n",
            "123/123 [==============================] - 0s 3ms/step - loss: 0.0032 - val_loss: 0.0020\n",
            "Epoch 20/50\n",
            "123/123 [==============================] - 0s 3ms/step - loss: 0.0037 - val_loss: 0.0017\n",
            "Epoch 21/50\n",
            "123/123 [==============================] - 0s 3ms/step - loss: 0.0037 - val_loss: 0.0017\n",
            "Epoch 22/50\n",
            "123/123 [==============================] - 0s 3ms/step - loss: 0.0037 - val_loss: 0.0016\n",
            "Epoch 23/50\n",
            "123/123 [==============================] - 0s 3ms/step - loss: 0.0033 - val_loss: 0.0019\n",
            "Epoch 24/50\n",
            "123/123 [==============================] - 0s 3ms/step - loss: 0.0034 - val_loss: 0.0015\n",
            "Epoch 25/50\n",
            "123/123 [==============================] - 0s 3ms/step - loss: 0.0034 - val_loss: 0.0020\n",
            "Epoch 26/50\n",
            "123/123 [==============================] - 0s 3ms/step - loss: 0.0034 - val_loss: 0.0014\n",
            "Epoch 27/50\n",
            "123/123 [==============================] - 0s 3ms/step - loss: 0.0038 - val_loss: 0.0019\n",
            "Epoch 28/50\n",
            "123/123 [==============================] - 0s 3ms/step - loss: 0.0036 - val_loss: 0.0019\n",
            "Epoch 29/50\n",
            "123/123 [==============================] - 0s 3ms/step - loss: 0.0029 - val_loss: 0.0016\n",
            "Epoch 30/50\n",
            "123/123 [==============================] - 0s 3ms/step - loss: 0.0032 - val_loss: 0.0017\n",
            "Epoch 31/50\n",
            "123/123 [==============================] - 0s 3ms/step - loss: 0.0037 - val_loss: 0.0019\n",
            "Epoch 32/50\n",
            "123/123 [==============================] - 0s 3ms/step - loss: 0.0038 - val_loss: 0.0016\n",
            "Epoch 33/50\n",
            "123/123 [==============================] - 0s 3ms/step - loss: 0.0032 - val_loss: 0.0021\n",
            "Epoch 34/50\n",
            "123/123 [==============================] - 0s 3ms/step - loss: 0.0036 - val_loss: 0.0014\n",
            "Epoch 35/50\n",
            "123/123 [==============================] - 0s 3ms/step - loss: 0.0028 - val_loss: 0.0013\n",
            "Epoch 36/50\n",
            "123/123 [==============================] - 0s 3ms/step - loss: 0.0030 - val_loss: 0.0012\n",
            "Epoch 37/50\n",
            "123/123 [==============================] - 0s 3ms/step - loss: 0.0027 - val_loss: 0.0011\n",
            "Epoch 38/50\n",
            "123/123 [==============================] - 0s 3ms/step - loss: 0.0034 - val_loss: 0.0012\n",
            "Epoch 39/50\n",
            "123/123 [==============================] - 0s 3ms/step - loss: 0.0035 - val_loss: 0.0014\n",
            "Epoch 40/50\n",
            "123/123 [==============================] - 0s 3ms/step - loss: 0.0032 - val_loss: 0.0014\n",
            "Epoch 41/50\n",
            "123/123 [==============================] - 0s 3ms/step - loss: 0.0024 - val_loss: 0.0013\n",
            "Epoch 42/50\n",
            "123/123 [==============================] - 0s 3ms/step - loss: 0.0028 - val_loss: 0.0013\n",
            "Epoch 43/50\n",
            "123/123 [==============================] - 0s 3ms/step - loss: 0.0032 - val_loss: 0.0012\n",
            "Epoch 44/50\n",
            "123/123 [==============================] - 0s 3ms/step - loss: 0.0036 - val_loss: 0.0014\n",
            "Epoch 45/50\n",
            "123/123 [==============================] - 0s 3ms/step - loss: 0.0031 - val_loss: 0.0011\n",
            "Epoch 46/50\n",
            "123/123 [==============================] - 0s 3ms/step - loss: 0.0027 - val_loss: 0.0012\n",
            "Epoch 47/50\n",
            "123/123 [==============================] - 0s 3ms/step - loss: 0.0032 - val_loss: 0.0012\n",
            "Model: \"sequential_11\"\n",
            "_________________________________________________________________\n",
            "Layer (type)                 Output Shape              Param #   \n",
            "=================================================================\n",
            "lstm_11 (LSTM)               (None, 100)               50000     \n",
            "_________________________________________________________________\n",
            "dropout_11 (Dropout)         (None, 100)               0         \n",
            "_________________________________________________________________\n",
            "dense_11 (Dense)             (None, 1)                 101       \n",
            "=================================================================\n",
            "Total params: 50,101\n",
            "Trainable params: 50,101\n",
            "Non-trainable params: 0\n",
            "_________________________________________________________________\n"
          ],
          "name": "stdout"
        }
      ]
    },
    {
      "cell_type": "code",
      "metadata": {
        "id": "otIq2xyTYANR"
      },
      "source": [
        "x_tess_pred = X_test[0].tolist()[0]"
      ],
      "execution_count": null,
      "outputs": []
    },
    {
      "cell_type": "code",
      "metadata": {
        "colab": {
          "base_uri": "https://localhost:8080/"
        },
        "id": "EYFWxckiVMCO",
        "outputId": "c0b184ad-b573-45e7-9b77-408c9b571d6b"
      },
      "source": [
        "for x in range(95):\n",
        "    y_pred = model.predict(np.array([[x_tess_pred]]))\n",
        "    #print(y_pred)\n",
        "    x_tess_pred.pop(0) \n",
        "    #print(y_pred[0].tolist()[0])\n",
        "    x_tess_pred.append(y_pred[0].tolist()[0])\n",
        "    #print(x_tess_pred)\n",
        "print(len(x_tess_pred))\n",
        "    \n"
      ],
      "execution_count": null,
      "outputs": [
        {
          "output_type": "stream",
          "text": [
            "24\n"
          ],
          "name": "stdout"
        }
      ]
    },
    {
      "cell_type": "code",
      "metadata": {
        "colab": {
          "base_uri": "https://localhost:8080/"
        },
        "id": "6p5mIw7yjuYs",
        "outputId": "6b41463f-a87f-479b-8984-5987c85493d2"
      },
      "source": [
        "len(Y_test)"
      ],
      "execution_count": null,
      "outputs": [
        {
          "output_type": "execute_result",
          "data": {
            "text/plain": [
              "95"
            ]
          },
          "metadata": {
            "tags": []
          },
          "execution_count": 197
        }
      ]
    },
    {
      "cell_type": "code",
      "metadata": {
        "colab": {
          "base_uri": "https://localhost:8080/"
        },
        "id": "QQ1EcY67hDHw",
        "outputId": "a1da6855-c40a-4f21-ac6c-089815138036"
      },
      "source": [
        "x_tess_pred[-15::], Y_test"
      ],
      "execution_count": null,
      "outputs": [
        {
          "output_type": "execute_result",
          "data": {
            "text/plain": [
              "([0.5215651392936707,\n",
              "  0.5740693211555481,\n",
              "  0.6270055174827576,\n",
              "  0.6788964867591858,\n",
              "  0.7278887033462524,\n",
              "  0.7721589803695679,\n",
              "  0.8095840811729431,\n",
              "  0.8380162119865417,\n",
              "  0.8553107976913452,\n",
              "  0.859291672706604,\n",
              "  0.8482623100280762,\n",
              "  0.8212060928344727,\n",
              "  0.7782422304153442,\n",
              "  0.7209773063659668,\n",
              "  0.6524238586425781],\n",
              " array([0.54347825, 0.43478262, 0.36956522, 0.3043478 , 0.2826087 ,\n",
              "        0.2826087 , 0.2826087 , 0.3043478 , 0.36956522, 0.4130435 ,\n",
              "        0.45652175, 0.5       , 0.5217391 , 0.5217391 , 0.45652175],\n",
              "       dtype=float32))"
            ]
          },
          "metadata": {
            "tags": []
          },
          "execution_count": 183
        }
      ]
    },
    {
      "cell_type": "code",
      "metadata": {
        "colab": {
          "base_uri": "https://localhost:8080/",
          "height": 283
        },
        "id": "pnP11iKkgMAD",
        "outputId": "a7184b93-8f1a-433e-d4e0-d26df1698f93"
      },
      "source": [
        "plt.plot(x_tess_pred)\n",
        "plt.plot(Y_test[:24])\n",
        "\n",
        "plt.legend()\n"
      ],
      "execution_count": null,
      "outputs": [
        {
          "output_type": "execute_result",
          "data": {
            "text/plain": [
              "<matplotlib.legend.Legend at 0x7f3f34d2d1d0>"
            ]
          },
          "metadata": {
            "tags": []
          },
          "execution_count": 201
        },
        {
          "output_type": "display_data",
          "data": {
            "image/png": "[encoded data removed]",
            "text/plain": [
              "<Figure size 432x288 with 1 Axes>"
            ]
          },
          "metadata": {
            "tags": [],
            "needs_background": "light"
          }
        }
      ]
    },
    {
      "cell_type": "code",
      "metadata": {
        "colab": {
          "base_uri": "https://localhost:8080/"
        },
        "id": "Pg81ShpsiZvo",
        "outputId": "71b14a3a-6b6d-47e2-c5c0-88069d6046ca"
      },
      "source": [
        "print(np.sqrt(mean_squared_error(Y_test[:24], x_tess_pred)))"
      ],
      "execution_count": null,
      "outputs": [
        {
          "output_type": "stream",
          "text": [
            "0.36241712617413196\n"
          ],
          "name": "stdout"
        }
      ]
    },
    {
      "cell_type": "code",
      "metadata": {
        "colab": {
          "base_uri": "https://localhost:8080/"
        },
        "id": "y1jIV2qPbEQ7",
        "outputId": "a3eece74-3c80-48fc-d5d3-5ff8a15f1626"
      },
      "source": [
        "x_tess_pred = scaler.inverse_transform([x_tess_pred])\n",
        "x_tess_pred"
      ],
      "execution_count": null,
      "outputs": [
        {
          "output_type": "execute_result",
          "data": {
            "text/plain": [
              "array([[ 0.30275681, -0.3662664 , -0.90380375, -1.28545213, -1.52867814,\n",
              "        -1.6631597 , -1.71730547, -1.70889165, -1.64470874, -1.54781497,\n",
              "        -1.43015785, -1.32222766, -1.23248399, -1.16983273, -1.14188721,\n",
              "        -1.13593637, -1.1465718 , -1.16275871, -1.17134731, -1.17141818,\n",
              "        -1.15115988, -1.10662954, -1.03341421, -0.92908203]])"
            ]
          },
          "metadata": {
            "tags": []
          },
          "execution_count": 157
        }
      ]
    },
    {
      "cell_type": "code",
      "metadata": {
        "colab": {
          "base_uri": "https://localhost:8080/"
        },
        "id": "jK7Iww7afPaI",
        "outputId": "255cc27e-db70-4e59-f43b-af09d47fa9b8"
      },
      "source": [
        "Y_test"
      ],
      "execution_count": null,
      "outputs": [
        {
          "output_type": "execute_result",
          "data": {
            "text/plain": [
              "array([0.54347825, 0.43478262, 0.36956522, 0.3043478 , 0.2826087 ,\n",
              "       0.2826087 , 0.2826087 , 0.3043478 , 0.36956522, 0.4130435 ,\n",
              "       0.45652175, 0.5       , 0.5217391 , 0.5217391 , 0.45652175],\n",
              "      dtype=float32)"
            ]
          },
          "metadata": {
            "tags": []
          },
          "execution_count": 153
        }
      ]
    },
    {
      "cell_type": "code",
      "metadata": {
        "colab": {
          "base_uri": "https://localhost:8080/"
        },
        "id": "AtudvCS2cB-u",
        "outputId": "8ef9cdc9-3c44-4c41-abbc-8d3472e10938"
      },
      "source": [
        "len(x_tess_pred[0]), len(Y_test)"
      ],
      "execution_count": null,
      "outputs": [
        {
          "output_type": "execute_result",
          "data": {
            "text/plain": [
              "(24, 15)"
            ]
          },
          "metadata": {
            "tags": []
          },
          "execution_count": 151
        }
      ]
    },
    {
      "cell_type": "code",
      "metadata": {
        "colab": {
          "base_uri": "https://localhost:8080/"
        },
        "id": "jzoM7MuVczcS",
        "outputId": "84deaf3f-12fa-42c3-8311-5ee4ae31f038"
      },
      "source": [
        "x_tess_pred, Y_test"
      ],
      "execution_count": null,
      "outputs": [
        {
          "output_type": "execute_result",
          "data": {
            "text/plain": [
              "(array([[ 1.80000005,  2.09999997,  2.40000016,  2.49999986,  2.59999984,\n",
              "          2.49999986,  2.19999995,  1.70000008,  1.        ,  0.30275681,\n",
              "         -0.3662664 , -0.90380375, -1.28545213, -1.52867814, -1.6631597 ,\n",
              "         -1.71730547, -1.70889165, -1.64470874, -1.54781497, -1.43015785,\n",
              "         -1.32222766, -1.23248399, -1.16983273, -1.14188721]]),\n",
              " array([0.54347825, 0.43478262, 0.36956522, 0.3043478 , 0.2826087 ,\n",
              "        0.2826087 , 0.2826087 , 0.3043478 , 0.36956522, 0.4130435 ,\n",
              "        0.45652175, 0.5       , 0.5217391 , 0.5217391 , 0.45652175],\n",
              "       dtype=float32))"
            ]
          },
          "metadata": {
            "tags": []
          },
          "execution_count": 152
        }
      ]
    },
    {
      "cell_type": "code",
      "metadata": {
        "colab": {
          "base_uri": "https://localhost:8080/",
          "height": 577
        },
        "id": "I2Vs_e8TbjW0",
        "outputId": "8704c95a-9189-48a1-bd4b-d0e327741ca1"
      },
      "source": [
        "plt.plot([i for i in range(len(x_tess_pred))], x_tess_pred)\n",
        "plt.plot([i for i in range(len(x_tess_pred))], Y_test)"
      ],
      "execution_count": null,
      "outputs": [
        {
          "output_type": "error",
          "ename": "ValueError",
          "evalue": "ignored",
          "traceback": [
            "\u001b[0;31m---------------------------------------------------------------------------\u001b[0m",
            "\u001b[0;31mValueError\u001b[0m                                Traceback (most recent call last)",
            "\u001b[0;32m<ipython-input-144-76b0737f7b37>\u001b[0m in \u001b[0;36m<module>\u001b[0;34m()\u001b[0m\n\u001b[1;32m      1\u001b[0m \u001b[0mplt\u001b[0m\u001b[0;34m.\u001b[0m\u001b[0mplot\u001b[0m\u001b[0;34m(\u001b[0m\u001b[0;34m[\u001b[0m\u001b[0mi\u001b[0m \u001b[0;32mfor\u001b[0m \u001b[0mi\u001b[0m \u001b[0;32min\u001b[0m \u001b[0mrange\u001b[0m\u001b[0;34m(\u001b[0m\u001b[0mlen\u001b[0m\u001b[0;34m(\u001b[0m\u001b[0mx_tess_pred\u001b[0m\u001b[0;34m)\u001b[0m\u001b[0;34m)\u001b[0m\u001b[0;34m]\u001b[0m\u001b[0;34m,\u001b[0m \u001b[0mx_tess_pred\u001b[0m\u001b[0;34m)\u001b[0m\u001b[0;34m\u001b[0m\u001b[0;34m\u001b[0m\u001b[0m\n\u001b[0;32m----> 2\u001b[0;31m \u001b[0mplt\u001b[0m\u001b[0;34m.\u001b[0m\u001b[0mplot\u001b[0m\u001b[0;34m(\u001b[0m\u001b[0;34m[\u001b[0m\u001b[0mi\u001b[0m \u001b[0;32mfor\u001b[0m \u001b[0mi\u001b[0m \u001b[0;32min\u001b[0m \u001b[0mrange\u001b[0m\u001b[0;34m(\u001b[0m\u001b[0mlen\u001b[0m\u001b[0;34m(\u001b[0m\u001b[0mx_tess_pred\u001b[0m\u001b[0;34m)\u001b[0m\u001b[0;34m)\u001b[0m\u001b[0;34m]\u001b[0m\u001b[0;34m,\u001b[0m \u001b[0mY_test\u001b[0m\u001b[0;34m)\u001b[0m\u001b[0;34m\u001b[0m\u001b[0;34m\u001b[0m\u001b[0m\n\u001b[0m",
            "\u001b[0;32m/usr/local/lib/python3.7/dist-packages/matplotlib/pyplot.py\u001b[0m in \u001b[0;36mplot\u001b[0;34m(scalex, scaley, data, *args, **kwargs)\u001b[0m\n\u001b[1;32m   2761\u001b[0m     return gca().plot(\n\u001b[1;32m   2762\u001b[0m         *args, scalex=scalex, scaley=scaley, **({\"data\": data} if data\n\u001b[0;32m-> 2763\u001b[0;31m         is not None else {}), **kwargs)\n\u001b[0m\u001b[1;32m   2764\u001b[0m \u001b[0;34m\u001b[0m\u001b[0m\n\u001b[1;32m   2765\u001b[0m \u001b[0;34m\u001b[0m\u001b[0m\n",
            "\u001b[0;32m/usr/local/lib/python3.7/dist-packages/matplotlib/axes/_axes.py\u001b[0m in \u001b[0;36mplot\u001b[0;34m(self, scalex, scaley, data, *args, **kwargs)\u001b[0m\n\u001b[1;32m   1645\u001b[0m         \"\"\"\n\u001b[1;32m   1646\u001b[0m         \u001b[0mkwargs\u001b[0m \u001b[0;34m=\u001b[0m \u001b[0mcbook\u001b[0m\u001b[0;34m.\u001b[0m\u001b[0mnormalize_kwargs\u001b[0m\u001b[0;34m(\u001b[0m\u001b[0mkwargs\u001b[0m\u001b[0;34m,\u001b[0m \u001b[0mmlines\u001b[0m\u001b[0;34m.\u001b[0m\u001b[0mLine2D\u001b[0m\u001b[0;34m)\u001b[0m\u001b[0;34m\u001b[0m\u001b[0;34m\u001b[0m\u001b[0m\n\u001b[0;32m-> 1647\u001b[0;31m         \u001b[0mlines\u001b[0m \u001b[0;34m=\u001b[0m \u001b[0;34m[\u001b[0m\u001b[0;34m*\u001b[0m\u001b[0mself\u001b[0m\u001b[0;34m.\u001b[0m\u001b[0m_get_lines\u001b[0m\u001b[0;34m(\u001b[0m\u001b[0;34m*\u001b[0m\u001b[0margs\u001b[0m\u001b[0;34m,\u001b[0m \u001b[0mdata\u001b[0m\u001b[0;34m=\u001b[0m\u001b[0mdata\u001b[0m\u001b[0;34m,\u001b[0m \u001b[0;34m**\u001b[0m\u001b[0mkwargs\u001b[0m\u001b[0;34m)\u001b[0m\u001b[0;34m]\u001b[0m\u001b[0;34m\u001b[0m\u001b[0;34m\u001b[0m\u001b[0m\n\u001b[0m\u001b[1;32m   1648\u001b[0m         \u001b[0;32mfor\u001b[0m \u001b[0mline\u001b[0m \u001b[0;32min\u001b[0m \u001b[0mlines\u001b[0m\u001b[0;34m:\u001b[0m\u001b[0;34m\u001b[0m\u001b[0;34m\u001b[0m\u001b[0m\n\u001b[1;32m   1649\u001b[0m             \u001b[0mself\u001b[0m\u001b[0;34m.\u001b[0m\u001b[0madd_line\u001b[0m\u001b[0;34m(\u001b[0m\u001b[0mline\u001b[0m\u001b[0;34m)\u001b[0m\u001b[0;34m\u001b[0m\u001b[0;34m\u001b[0m\u001b[0m\n",
            "\u001b[0;32m/usr/local/lib/python3.7/dist-packages/matplotlib/axes/_base.py\u001b[0m in \u001b[0;36m__call__\u001b[0;34m(self, *args, **kwargs)\u001b[0m\n\u001b[1;32m    214\u001b[0m                 \u001b[0mthis\u001b[0m \u001b[0;34m+=\u001b[0m \u001b[0margs\u001b[0m\u001b[0;34m[\u001b[0m\u001b[0;36m0\u001b[0m\u001b[0;34m]\u001b[0m\u001b[0;34m,\u001b[0m\u001b[0;34m\u001b[0m\u001b[0;34m\u001b[0m\u001b[0m\n\u001b[1;32m    215\u001b[0m                 \u001b[0margs\u001b[0m \u001b[0;34m=\u001b[0m \u001b[0margs\u001b[0m\u001b[0;34m[\u001b[0m\u001b[0;36m1\u001b[0m\u001b[0;34m:\u001b[0m\u001b[0;34m]\u001b[0m\u001b[0;34m\u001b[0m\u001b[0;34m\u001b[0m\u001b[0m\n\u001b[0;32m--> 216\u001b[0;31m             \u001b[0;32myield\u001b[0m \u001b[0;32mfrom\u001b[0m \u001b[0mself\u001b[0m\u001b[0;34m.\u001b[0m\u001b[0m_plot_args\u001b[0m\u001b[0;34m(\u001b[0m\u001b[0mthis\u001b[0m\u001b[0;34m,\u001b[0m \u001b[0mkwargs\u001b[0m\u001b[0;34m)\u001b[0m\u001b[0;34m\u001b[0m\u001b[0;34m\u001b[0m\u001b[0m\n\u001b[0m\u001b[1;32m    217\u001b[0m \u001b[0;34m\u001b[0m\u001b[0m\n\u001b[1;32m    218\u001b[0m     \u001b[0;32mdef\u001b[0m \u001b[0mget_next_color\u001b[0m\u001b[0;34m(\u001b[0m\u001b[0mself\u001b[0m\u001b[0;34m)\u001b[0m\u001b[0;34m:\u001b[0m\u001b[0;34m\u001b[0m\u001b[0;34m\u001b[0m\u001b[0m\n",
            "\u001b[0;32m/usr/local/lib/python3.7/dist-packages/matplotlib/axes/_base.py\u001b[0m in \u001b[0;36m_plot_args\u001b[0;34m(self, tup, kwargs)\u001b[0m\n\u001b[1;32m    340\u001b[0m \u001b[0;34m\u001b[0m\u001b[0m\n\u001b[1;32m    341\u001b[0m         \u001b[0;32mif\u001b[0m \u001b[0mx\u001b[0m\u001b[0;34m.\u001b[0m\u001b[0mshape\u001b[0m\u001b[0;34m[\u001b[0m\u001b[0;36m0\u001b[0m\u001b[0;34m]\u001b[0m \u001b[0;34m!=\u001b[0m \u001b[0my\u001b[0m\u001b[0;34m.\u001b[0m\u001b[0mshape\u001b[0m\u001b[0;34m[\u001b[0m\u001b[0;36m0\u001b[0m\u001b[0;34m]\u001b[0m\u001b[0;34m:\u001b[0m\u001b[0;34m\u001b[0m\u001b[0;34m\u001b[0m\u001b[0m\n\u001b[0;32m--> 342\u001b[0;31m             raise ValueError(f\"x and y must have same first dimension, but \"\n\u001b[0m\u001b[1;32m    343\u001b[0m                              f\"have shapes {x.shape} and {y.shape}\")\n\u001b[1;32m    344\u001b[0m         \u001b[0;32mif\u001b[0m \u001b[0mx\u001b[0m\u001b[0;34m.\u001b[0m\u001b[0mndim\u001b[0m \u001b[0;34m>\u001b[0m \u001b[0;36m2\u001b[0m \u001b[0;32mor\u001b[0m \u001b[0my\u001b[0m\u001b[0;34m.\u001b[0m\u001b[0mndim\u001b[0m \u001b[0;34m>\u001b[0m \u001b[0;36m2\u001b[0m\u001b[0;34m:\u001b[0m\u001b[0;34m\u001b[0m\u001b[0;34m\u001b[0m\u001b[0m\n",
            "\u001b[0;31mValueError\u001b[0m: x and y must have same first dimension, but have shapes (1,) and (15,)"
          ]
        },
        {
          "output_type": "display_data",
          "data": {
            "image/png": "[encoded data removed]",
            "text/plain": [
              "<Figure size 432x288 with 1 Axes>"
            ]
          },
          "metadata": {
            "tags": [],
            "needs_background": "light"
          }
        }
      ]
    },
    {
      "cell_type": "code",
      "metadata": {
        "colab": {
          "base_uri": "https://localhost:8080/"
        },
        "id": "QVQrdPsqQWgT",
        "outputId": "7807ada9-754d-40d1-d6bf-602a638b492c"
      },
      "source": [
        "Y_pred = []\n",
        "\n",
        "for i in range(len(Y_test)):\n",
        "    Y_pred.append(model.predict(X_test[i]))\n",
        "    "
      ],
      "execution_count": null,
      "outputs": [
        {
          "output_type": "execute_result",
          "data": {
            "text/plain": [
              "array([[0.5005994 ],\n",
              "       [0.3935316 ],\n",
              "       [0.3138173 ],\n",
              "       [0.27386576],\n",
              "       [0.23538464],\n",
              "       [0.22581369],\n",
              "       [0.24056536],\n",
              "       [0.25640693],\n",
              "       [0.28954455],\n",
              "       [0.36081943],\n",
              "       [0.4140237 ],\n",
              "       [0.4516905 ],\n",
              "       [0.48483345],\n",
              "       [0.49656007],\n",
              "       [0.48163977]], dtype=float32)"
            ]
          },
          "metadata": {
            "tags": []
          },
          "execution_count": 104
        }
      ]
    },
    {
      "cell_type": "code",
      "metadata": {
        "id": "gfxRjyD8QWky"
      },
      "source": [
        ""
      ],
      "execution_count": null,
      "outputs": []
    },
    {
      "cell_type": "code",
      "metadata": {
        "id": "UAmcmWZrQWoK"
      },
      "source": [
        ""
      ],
      "execution_count": null,
      "outputs": []
    },
    {
      "cell_type": "code",
      "metadata": {
        "colab": {
          "base_uri": "https://localhost:8080/"
        },
        "id": "llovytqIjkIw",
        "outputId": "3ad67b3c-bc5a-42d5-c543-713033fa1541"
      },
      "source": [
        "!wget https://raw.githubusercontent.com/Esri/arcgis-python-api/master/samples/04_gis_analysts_data_scientists/data/enso_ready.csv"
      ],
      "execution_count": null,
      "outputs": [
        {
          "output_type": "stream",
          "text": [
            "--2021-05-29 07:46:11--  https://raw.githubusercontent.com/Esri/arcgis-python-api/master/samples/04_gis_analysts_data_scientists/data/enso_ready.csv\n",
            "Resolving raw.githubusercontent.com (raw.githubusercontent.com)... 185.199.108.133, 185.199.109.133, 185.199.110.133, ...\n",
            "Connecting to raw.githubusercontent.com (raw.githubusercontent.com)|185.199.108.133|:443... connected.\n",
            "HTTP request sent, awaiting response... 200 OK\n",
            "Length: 24873 (24K) [text/plain]\n",
            "Saving to: ‘enso_ready.csv.1’\n",
            "\n",
            "enso_ready.csv.1    100%[===================>]  24.29K  --.-KB/s    in 0.001s  \n",
            "\n",
            "2021-05-29 07:46:11 (45.6 MB/s) - ‘enso_ready.csv.1’ saved [24873/24873]\n",
            "\n"
          ],
          "name": "stdout"
        }
      ]
    },
    {
      "cell_type": "code",
      "metadata": {
        "id": "Sbb2KTtoWlmm"
      },
      "source": [
        "import math\n",
        "import keras\n",
        "from keras.models import Sequential\n",
        "from keras.layers import Dense\n",
        "from keras.layers import LSTM\n",
        "from keras.layers import Dropout\n",
        "from keras.layers import *\n",
        "from sklearn.preprocessing import MinMaxScaler\n",
        "from sklearn.metrics import mean_squared_error\n",
        "from sklearn.metrics import mean_absolute_error\n",
        "from keras.callbacks import EarlyStopping\n",
        "%matplotlib inline\n",
        "import os.path\n",
        "import warnings\n",
        "import numpy as np\n",
        "from math import sqrt\n",
        "from matplotlib import pyplot\n",
        "from pandas import read_csv\n",
        "from pandas import DataFrame\n",
        "from pandas import concat\n",
        "from pandas import datetime\n",
        "from sklearn.metrics import mean_squared_error\n",
        "from keras.models import Sequential\n",
        "from keras.layers import Dense\n",
        "from keras.layers import LSTM\n",
        "from keras.models import load_model\n",
        "from keras.layers import Conv1D, Conv2D\n",
        "from keras.layers import MaxPooling1D, MaxPooling2D\n",
        "import keras\n",
        "from sklearn.metrics import mean_squared_error as mse\n",
        "\n",
        "warnings.filterwarnings('ignore')\n",
        "\n",
        "def create_dataset(dataset, look_back=1):\n",
        "    X, Y = [], []\n",
        "    for i in range(len(dataset)-look_back-1):\n",
        "        a = dataset[i:(i+look_back), 0]\n",
        "        X.append(a)\n",
        "        Y.append(dataset[i + look_back, 0])\n",
        "    return np.array(X), np.array(Y)\n",
        "        \n",
        "\n",
        "\n",
        "def train_predict_model_oni(df):\n",
        "    # oni\n",
        "    dataset = df.oni.values\n",
        "    dataset = dataset.astype('float32')\n",
        "    dataset = np.reshape(dataset, (-1, 1))\n",
        "    scaler = MinMaxScaler(feature_range=(0, 1))\n",
        "    dataset = scaler.fit_transform(dataset)\n",
        "    train_size = int(len(dataset) - 16)\n",
        "    test_size = len(dataset) - train_size\n",
        "    train, test = dataset[0:train_size,:], dataset[train_size:len(dataset),:]\n",
        "\n",
        "    look_back = 3\n",
        "        \n",
        "    X_train, Y_train = create_dataset(train, look_back)\n",
        "    X_test, Y_test = create_dataset(test, look_back)\n",
        "\n",
        "    # reshape input to be [samples, time steps, features]\n",
        "    X_train = np.reshape(X_train, (X_train.shape[0], 1, X_train.shape[1]))\n",
        "    X_test = np.reshape(X_test, (X_test.shape[0], 1, X_test.shape[1]))\n",
        "    \n",
        "    #train model\n",
        "    model = Sequential()\n",
        "    model.add(LSTM(100, input_shape=(X_train.shape[1], X_train.shape[2])))\n",
        "    model.add(Dropout(0.2))\n",
        "    model.add(Dense(1))\n",
        "    model.compile(loss='mean_squared_error', optimizer='adam')\n",
        "\n",
        "    history = model.fit(X_train, Y_train, epochs=50, batch_size=5, validation_data=(X_test, Y_test), \n",
        "                        callbacks=[EarlyStopping(monitor='val_loss', patience=10)], \n",
        "                        verbose=1, shuffle=False)\n",
        "\n",
        "    model.summary()\n",
        "\n",
        "    #make predicts\n",
        "    preds = model.predict(X_test)\n",
        "    preds = scaler.inverse_transform(preds)\n",
        "    Y_test = scaler.inverse_transform([Y_test])\n",
        "\n",
        "    return preds, Y_test[0]\n",
        "\n",
        "\n",
        "def train_predict_model_soi(df):\n",
        "    # oni\n",
        "    dataset = df.soi.values\n",
        "    dataset = dataset.astype('float32')\n",
        "    dataset = np.reshape(dataset, (-1, 1))\n",
        "    scaler = MinMaxScaler(feature_range=(0, 1))\n",
        "    dataset = scaler.fit_transform(dataset)\n",
        "    train_size = int(len(dataset) - 16)\n",
        "    test_size = len(dataset) - train_size\n",
        "    train, test = dataset[0:train_size,:], dataset[train_size:len(dataset),:]\n",
        "\n",
        "    look_back = 3\n",
        "        \n",
        "    X_train, Y_train = create_dataset(train, look_back)\n",
        "    X_test, Y_test = create_dataset(test, look_back)\n",
        "\n",
        "    # reshape input to be [samples, time steps, features]\n",
        "    X_train = np.reshape(X_train, (X_train.shape[0], 1, X_train.shape[1]))\n",
        "    X_test = np.reshape(X_test, (X_test.shape[0], 1, X_test.shape[1]))\n",
        "    print(X_test)\n",
        "    \n",
        "    #train model\n",
        "    model = Sequential()\n",
        "    model.add(LSTM(100, input_shape=(X_train.shape[1], X_train.shape[2])))\n",
        "    model.add(Dropout(0.2))\n",
        "    model.add(Dense(1))\n",
        "    model.compile(loss='mean_squared_error', optimizer='adam')\n",
        "\n",
        "    history = model.fit(X_train, Y_train, epochs=50, batch_size=5, validation_data=(X_test, Y_test), \n",
        "                        callbacks=[EarlyStopping(monitor='val_loss', patience=10)], \n",
        "                        verbose=1, shuffle=False)\n",
        "\n",
        "    model.summary()\n",
        "\n",
        "    #make predicts\n",
        "    preds = model.predict(X_test)\n",
        "    preds = scaler.inverse_transform(preds)\n",
        "    Y_test = scaler.inverse_transform([Y_test])\n",
        "\n",
        "    return preds, Y_test[0]"
      ],
      "execution_count": null,
      "outputs": []
    },
    {
      "cell_type": "code",
      "metadata": {
        "colab": {
          "base_uri": "https://localhost:8080/",
          "height": 166
        },
        "id": "lvxJJOiWaD_C",
        "outputId": "04a09355-5a7d-4ebe-85d5-51e621412df0"
      },
      "source": [
        "preds"
      ],
      "execution_count": null,
      "outputs": [
        {
          "output_type": "error",
          "ename": "NameError",
          "evalue": "ignored",
          "traceback": [
            "\u001b[0;31m---------------------------------------------------------------------------\u001b[0m",
            "\u001b[0;31mNameError\u001b[0m                                 Traceback (most recent call last)",
            "\u001b[0;32m<ipython-input-17-c66c8509e20f>\u001b[0m in \u001b[0;36m<module>\u001b[0;34m()\u001b[0m\n\u001b[0;32m----> 1\u001b[0;31m \u001b[0mpreds\u001b[0m\u001b[0;34m\u001b[0m\u001b[0;34m\u001b[0m\u001b[0m\n\u001b[0m",
            "\u001b[0;31mNameError\u001b[0m: name 'preds' is not defined"
          ]
        }
      ]
    },
    {
      "cell_type": "code",
      "metadata": {
        "colab": {
          "base_uri": "https://localhost:8080/",
          "height": 201
        },
        "id": "70i5ZcS4ZuM6",
        "outputId": "ad43d30e-cd68-4f9f-eb47-4d0375777950"
      },
      "source": [
        "from sklearn.externals import joblib\n",
        "scaler_filename = \"scaler.save\"\n",
        "joblib.dump(scaler, scaler_filename) "
      ],
      "execution_count": null,
      "outputs": [
        {
          "output_type": "error",
          "ename": "NameError",
          "evalue": "ignored",
          "traceback": [
            "\u001b[0;31m---------------------------------------------------------------------------\u001b[0m",
            "\u001b[0;31mNameError\u001b[0m                                 Traceback (most recent call last)",
            "\u001b[0;32m<ipython-input-16-28925c92dd85>\u001b[0m in \u001b[0;36m<module>\u001b[0;34m()\u001b[0m\n\u001b[1;32m      1\u001b[0m \u001b[0;32mfrom\u001b[0m \u001b[0msklearn\u001b[0m\u001b[0;34m.\u001b[0m\u001b[0mexternals\u001b[0m \u001b[0;32mimport\u001b[0m \u001b[0mjoblib\u001b[0m\u001b[0;34m\u001b[0m\u001b[0;34m\u001b[0m\u001b[0m\n\u001b[1;32m      2\u001b[0m \u001b[0mscaler_filename\u001b[0m \u001b[0;34m=\u001b[0m \u001b[0;34m\"scaler.save\"\u001b[0m\u001b[0;34m\u001b[0m\u001b[0;34m\u001b[0m\u001b[0m\n\u001b[0;32m----> 3\u001b[0;31m \u001b[0mjoblib\u001b[0m\u001b[0;34m.\u001b[0m\u001b[0mdump\u001b[0m\u001b[0;34m(\u001b[0m\u001b[0mscaler\u001b[0m\u001b[0;34m,\u001b[0m \u001b[0mscaler_filename\u001b[0m\u001b[0;34m)\u001b[0m\u001b[0;34m\u001b[0m\u001b[0;34m\u001b[0m\u001b[0m\n\u001b[0m",
            "\u001b[0;31mNameError\u001b[0m: name 'scaler' is not defined"
          ]
        }
      ]
    },
    {
      "cell_type": "code",
      "metadata": {
        "colab": {
          "base_uri": "https://localhost:8080/"
        },
        "id": "Q_uPTwBATqY7",
        "outputId": "120495de-fef9-45c9-d3ec-ee74abe760bb"
      },
      "source": [
        "prds, y_tst = train_predict_model_oni(df_main)"
      ],
      "execution_count": null,
      "outputs": [
        {
          "output_type": "stream",
          "text": [
            "Epoch 1/50\n",
            "156/156 [==============================] - 3s 8ms/step - loss: 0.0851 - val_loss: 0.0056\n",
            "Epoch 2/50\n",
            "156/156 [==============================] - 0s 2ms/step - loss: 0.0075 - val_loss: 0.0051\n",
            "Epoch 3/50\n",
            "156/156 [==============================] - 0s 2ms/step - loss: 0.0072 - val_loss: 0.0046\n",
            "Epoch 4/50\n",
            "156/156 [==============================] - 0s 2ms/step - loss: 0.0054 - val_loss: 0.0042\n",
            "Epoch 5/50\n",
            "156/156 [==============================] - 0s 2ms/step - loss: 0.0054 - val_loss: 0.0036\n",
            "Epoch 6/50\n",
            "156/156 [==============================] - 0s 2ms/step - loss: 0.0045 - val_loss: 0.0032\n",
            "Epoch 7/50\n",
            "156/156 [==============================] - 0s 2ms/step - loss: 0.0044 - val_loss: 0.0027\n",
            "Epoch 8/50\n",
            "156/156 [==============================] - 0s 2ms/step - loss: 0.0036 - val_loss: 0.0023\n",
            "Epoch 9/50\n",
            "156/156 [==============================] - 0s 2ms/step - loss: 0.0034 - val_loss: 0.0018\n",
            "Epoch 10/50\n",
            "156/156 [==============================] - 0s 2ms/step - loss: 0.0030 - val_loss: 0.0015\n",
            "Epoch 11/50\n",
            "156/156 [==============================] - 0s 2ms/step - loss: 0.0029 - val_loss: 0.0013\n",
            "Epoch 12/50\n",
            "156/156 [==============================] - 0s 2ms/step - loss: 0.0023 - val_loss: 9.6749e-04\n",
            "Epoch 13/50\n",
            "156/156 [==============================] - 0s 2ms/step - loss: 0.0021 - val_loss: 8.0498e-04\n",
            "Epoch 14/50\n",
            "156/156 [==============================] - 0s 2ms/step - loss: 0.0020 - val_loss: 7.4929e-04\n",
            "Epoch 15/50\n",
            "156/156 [==============================] - 0s 2ms/step - loss: 0.0019 - val_loss: 7.0073e-04\n",
            "Epoch 16/50\n",
            "156/156 [==============================] - 0s 2ms/step - loss: 0.0022 - val_loss: 6.6549e-04\n",
            "Epoch 17/50\n",
            "156/156 [==============================] - 0s 2ms/step - loss: 0.0020 - val_loss: 6.7973e-04\n",
            "Epoch 18/50\n",
            "156/156 [==============================] - 0s 2ms/step - loss: 0.0019 - val_loss: 6.3059e-04\n",
            "Epoch 19/50\n",
            "156/156 [==============================] - 0s 2ms/step - loss: 0.0018 - val_loss: 6.8753e-04\n",
            "Epoch 20/50\n",
            "156/156 [==============================] - 0s 2ms/step - loss: 0.0017 - val_loss: 6.6745e-04\n",
            "Epoch 21/50\n",
            "156/156 [==============================] - 0s 2ms/step - loss: 0.0017 - val_loss: 7.6401e-04\n",
            "Epoch 22/50\n",
            "156/156 [==============================] - 0s 2ms/step - loss: 0.0015 - val_loss: 6.5815e-04\n",
            "Epoch 23/50\n",
            "156/156 [==============================] - 0s 2ms/step - loss: 0.0016 - val_loss: 6.9503e-04\n",
            "Epoch 24/50\n",
            "156/156 [==============================] - 0s 2ms/step - loss: 0.0016 - val_loss: 7.0826e-04\n",
            "Epoch 25/50\n",
            "156/156 [==============================] - 0s 2ms/step - loss: 0.0019 - val_loss: 6.9501e-04\n",
            "Epoch 26/50\n",
            "156/156 [==============================] - 0s 2ms/step - loss: 0.0016 - val_loss: 7.8297e-04\n",
            "Epoch 27/50\n",
            "156/156 [==============================] - 0s 2ms/step - loss: 0.0019 - val_loss: 6.6224e-04\n",
            "Epoch 28/50\n",
            "156/156 [==============================] - 0s 2ms/step - loss: 0.0016 - val_loss: 6.6560e-04\n",
            "Model: \"sequential_3\"\n",
            "_________________________________________________________________\n",
            "Layer (type)                 Output Shape              Param #   \n",
            "=================================================================\n",
            "lstm_3 (LSTM)                (None, 100)               41600     \n",
            "_________________________________________________________________\n",
            "dropout_3 (Dropout)          (None, 100)               0         \n",
            "_________________________________________________________________\n",
            "dense_3 (Dense)              (None, 1)                 101       \n",
            "=================================================================\n",
            "Total params: 41,701\n",
            "Trainable params: 41,701\n",
            "Non-trainable params: 0\n",
            "_________________________________________________________________\n"
          ],
          "name": "stdout"
        }
      ]
    },
    {
      "cell_type": "code",
      "metadata": {
        "colab": {
          "base_uri": "https://localhost:8080/"
        },
        "id": "GayFb8b2aPHh",
        "outputId": "0cb376a9-9835-497c-a5e8-dd1d7be4d224"
      },
      "source": [
        "prds, y_tst"
      ],
      "execution_count": null,
      "outputs": [
        {
          "output_type": "execute_result",
          "data": {
            "text/plain": [
              "(array([[-0.53864586],\n",
              "        [-0.72239935],\n",
              "        [-0.7430962 ],\n",
              "        [-0.63263977],\n",
              "        [-0.5941148 ],\n",
              "        [-0.47065696],\n",
              "        [-0.08868095],\n",
              "        [ 0.14651237],\n",
              "        [ 0.29553542],\n",
              "        [ 0.4855305 ],\n",
              "        [ 0.5443613 ],\n",
              "        [ 0.46452683]], dtype=float32),\n",
              " array([-0.60000011, -0.70000008, -0.70000008, -0.70000008, -0.60000011,\n",
              "        -0.30000005, -0.09999997,  0.09999997,  0.29999992,  0.39999989,\n",
              "         0.39999989,  0.09999997]))"
            ]
          },
          "metadata": {
            "tags": []
          },
          "execution_count": 21
        }
      ]
    },
    {
      "cell_type": "code",
      "metadata": {
        "colab": {
          "base_uri": "https://localhost:8080/",
          "height": 166
        },
        "id": "u6wfW3HuakVs",
        "outputId": "abaf8a90-0f67-4564-8dc9-478267c3c92d"
      },
      "source": [
        "X_test"
      ],
      "execution_count": null,
      "outputs": [
        {
          "output_type": "error",
          "ename": "NameError",
          "evalue": "ignored",
          "traceback": [
            "\u001b[0;31m---------------------------------------------------------------------------\u001b[0m",
            "\u001b[0;31mNameError\u001b[0m                                 Traceback (most recent call last)",
            "\u001b[0;32m<ipython-input-22-0c1cdefd54ea>\u001b[0m in \u001b[0;36m<module>\u001b[0;34m()\u001b[0m\n\u001b[0;32m----> 1\u001b[0;31m \u001b[0mX_test\u001b[0m\u001b[0;34m\u001b[0m\u001b[0;34m\u001b[0m\u001b[0m\n\u001b[0m",
            "\u001b[0;31mNameError\u001b[0m: name 'X_test' is not defined"
          ]
        }
      ]
    },
    {
      "cell_type": "code",
      "metadata": {
        "colab": {
          "base_uri": "https://localhost:8080/",
          "height": 378
        },
        "id": "Y0x9RO-aVDhJ",
        "outputId": "bbd6555a-750b-427a-a003-c249a643ce02"
      },
      "source": [
        "import matplotlib.pyplot as plt\n",
        "\n",
        "plt.figure(figsize=(14, 6))\n",
        "plt.grid()\n",
        "plt.plot( list(df_main.tail(13).index)[:12], prds, label='predicts')\n",
        "plt.plot( list(df_main.tail(13).index)[:12], y_tst, label='real values')\n",
        "plt.legend()\n",
        "plt.savefig('foo.png')"
      ],
      "execution_count": null,
      "outputs": [
        {
          "output_type": "display_data",
          "data": {
            "image/png": "[encoded data removed]",
            "text/plain": [
              "<Figure size 1008x432 with 1 Axes>"
            ]
          },
          "metadata": {
            "tags": [],
            "needs_background": "light"
          }
        }
      ]
    },
    {
      "cell_type": "code",
      "metadata": {
        "id": "to_KyQ81Tj6Q"
      },
      "source": [
        "preds = model.predict(X_test)\n",
        "preds = scaler.inverse_transform(preds)\n",
        "Y_test = scaler.inverse_transform([Y_test])"
      ],
      "execution_count": null,
      "outputs": []
    },
    {
      "cell_type": "code",
      "metadata": {
        "colab": {
          "base_uri": "https://localhost:8080/",
          "height": 374
        },
        "id": "vYfXhLfcTj6R",
        "outputId": "6af466cd-c0c7-48f5-99ac-966d68592b96"
      },
      "source": [
        "plt.figure(figsize=(14, 6))\n",
        "plt.ylim(min(df_main.oni), max(df_main.oni))\n",
        "plt.grid()\n",
        "plt.plot( list(df_main.tail(13).index)[:12], preds, label='predicts')\n",
        "plt.plot( list(df_main.tail(13).index)[:12], Y_test[0], label='real values')\n",
        "plt.legend()\n",
        "plt.savefig('foo.png')\n",
        "\n"
      ],
      "execution_count": null,
      "outputs": [
        {
          "output_type": "display_data",
          "data": {
            "image/png": "[encoded data removed]",
            "text/plain": [
              "<Figure size 1008x432 with 1 Axes>"
            ]
          },
          "metadata": {
            "tags": [],
            "needs_background": "light"
          }
        }
      ]
    },
    {
      "cell_type": "code",
      "metadata": {
        "id": "TNRyg8JSTj6S"
      },
      "source": [
        ""
      ],
      "execution_count": null,
      "outputs": []
    },
    {
      "cell_type": "code",
      "metadata": {
        "colab": {
          "base_uri": "https://localhost:8080/"
        },
        "id": "iLIW0i6sTj6T",
        "outputId": "cbb34c7e-385a-46f4-c077-c977aca092e5"
      },
      "source": [
        "Y_test"
      ],
      "execution_count": null,
      "outputs": [
        {
          "output_type": "execute_result",
          "data": {
            "text/plain": [
              "array([[-0.60000011, -0.70000008, -0.70000008, -0.70000008, -0.60000011,\n",
              "        -0.30000005, -0.09999997,  0.09999997,  0.29999992,  0.39999989,\n",
              "         0.39999989,  0.09999997]])"
            ]
          },
          "metadata": {
            "tags": []
          },
          "execution_count": 276
        }
      ]
    },
    {
      "cell_type": "code",
      "metadata": {
        "colab": {
          "base_uri": "https://localhost:8080/"
        },
        "id": "Kix00ZtFTj6U",
        "outputId": "b1e3aa91-d8b5-420c-a53d-b823ee71d439"
      },
      "source": [
        "for i in range(len(Y_test[0])):\n",
        "    print(preds[i], ' - ', Y_test[0][i], ' - ', df_main.tail(13).oni[i], df_main.tail(13).index[i])"
      ],
      "execution_count": null,
      "outputs": [
        {
          "output_type": "stream",
          "text": [
            "[-0.54141825]  -  -0.6000001096725425  -  -0.6 2016-08-01 00:00:00\n",
            "[-0.7232559]  -  -0.7000000822544068  -  -0.7 2016-09-01 00:00:00\n",
            "[-0.74204797]  -  -0.7000000822544068  -  -0.7 2016-10-01 00:00:00\n",
            "[-0.63151014]  -  -0.7000000822544068  -  -0.7 2016-11-01 00:00:00\n",
            "[-0.59319985]  -  -0.6000001096725425  -  -0.6 2016-12-01 00:00:00\n",
            "[-0.47070113]  -  -0.30000005483627123  -  -0.3 2017-01-01 00:00:00\n",
            "[-0.09287852]  -  -0.09999997258186438  -  -0.1 2017-02-01 00:00:00\n",
            "[0.1377934]  -  0.09999997258186438  -  0.1 2017-03-01 00:00:00\n",
            "[0.2842009]  -  0.29999991774559315  -  0.3 2017-04-01 00:00:00\n",
            "[0.47138217]  -  0.39999989032745753  -  0.4 2017-05-01 00:00:00\n",
            "[0.52920264]  -  0.39999989032745753  -  0.4 2017-06-01 00:00:00\n",
            "[0.45050958]  -  0.09999997258186438  -  0.1 2017-07-01 00:00:00\n"
          ],
          "name": "stdout"
        }
      ]
    },
    {
      "cell_type": "code",
      "metadata": {
        "colab": {
          "base_uri": "https://localhost:8080/"
        },
        "id": "pzdcCsiQTj6V",
        "outputId": "9718b89c-4784-494a-c5da-d7ad0bf89da1"
      },
      "source": [
        "train_predict = model.predict(X_train)\n",
        "test_predict = model.predict(X_test)\n",
        "# invert predictions\n",
        "train_predict = scaler.inverse_transform(train_predict)\n",
        "Y_train = scaler.inverse_transform([Y_train])\n",
        "test_predict = scaler.inverse_transform(test_predict)\n",
        "#Y_test = scaler.inverse_transform([Y_test])\n",
        "print('Train Mean Absolute Error:', mean_absolute_error(Y_train[0], train_predict[:,0]))\n",
        "print('Train Root Mean Squared Error:',np.sqrt(mean_squared_error(Y_train[0], train_predict[:,0])))\n",
        "print('Test Mean Absolute Error:', mean_absolute_error(Y_test[0], test_predict[:,0]))\n",
        "print('Test Root Mean Squared Error:',np.sqrt(mean_squared_error(Y_test[0], test_predict[:,0])))"
      ],
      "execution_count": null,
      "outputs": [
        {
          "output_type": "stream",
          "text": [
            "Train Mean Absolute Error: 0.11914825295477782\n",
            "Train Root Mean Squared Error: 0.14825739074839592\n",
            "Test Mean Absolute Error: 0.0818071116507046\n",
            "Test Root Mean Squared Error: 0.12449601531522435\n"
          ],
          "name": "stdout"
        }
      ]
    },
    {
      "cell_type": "code",
      "metadata": {
        "id": "JdkSuxhgjkI7"
      },
      "source": [
        "df.precip = df.precip.fillna(df.precip.mean())"
      ],
      "execution_count": null,
      "outputs": []
    },
    {
      "cell_type": "code",
      "metadata": {
        "colab": {
          "base_uri": "https://localhost:8080/",
          "height": 446
        },
        "id": "qdNc-HHZjkI8",
        "outputId": "256e8479-96e4-4087-9a49-8fb20e1f85d6"
      },
      "source": [
        "df_main = df.drop(['soi', 'nino3', 'pna', 'precip'], axis=1)\n",
        "df_main"
      ],
      "execution_count": null,
      "outputs": [
        {
          "output_type": "execute_result",
          "data": {
            "text/html": [
              "<div>\n",
              "<style scoped>\n",
              "    .dataframe tbody tr th:only-of-type {\n",
              "        vertical-align: middle;\n",
              "    }\n",
              "\n",
              "    .dataframe tbody tr th {\n",
              "        vertical-align: top;\n",
              "    }\n",
              "\n",
              "    .dataframe thead th {\n",
              "        text-align: right;\n",
              "    }\n",
              "</style>\n",
              "<table border=\"1\" class=\"dataframe\">\n",
              "  <thead>\n",
              "    <tr style=\"text-align: right;\">\n",
              "      <th></th>\n",
              "      <th>oni</th>\n",
              "    </tr>\n",
              "    <tr>\n",
              "      <th>date</th>\n",
              "      <th></th>\n",
              "    </tr>\n",
              "  </thead>\n",
              "  <tbody>\n",
              "    <tr>\n",
              "      <th>1951-01-01</th>\n",
              "      <td>-0.8</td>\n",
              "    </tr>\n",
              "    <tr>\n",
              "      <th>1951-02-01</th>\n",
              "      <td>-0.5</td>\n",
              "    </tr>\n",
              "    <tr>\n",
              "      <th>1951-03-01</th>\n",
              "      <td>-0.2</td>\n",
              "    </tr>\n",
              "    <tr>\n",
              "      <th>1951-04-01</th>\n",
              "      <td>0.2</td>\n",
              "    </tr>\n",
              "    <tr>\n",
              "      <th>1951-05-01</th>\n",
              "      <td>0.4</td>\n",
              "    </tr>\n",
              "    <tr>\n",
              "      <th>...</th>\n",
              "      <td>...</td>\n",
              "    </tr>\n",
              "    <tr>\n",
              "      <th>2017-04-01</th>\n",
              "      <td>0.3</td>\n",
              "    </tr>\n",
              "    <tr>\n",
              "      <th>2017-05-01</th>\n",
              "      <td>0.4</td>\n",
              "    </tr>\n",
              "    <tr>\n",
              "      <th>2017-06-01</th>\n",
              "      <td>0.4</td>\n",
              "    </tr>\n",
              "    <tr>\n",
              "      <th>2017-07-01</th>\n",
              "      <td>0.1</td>\n",
              "    </tr>\n",
              "    <tr>\n",
              "      <th>2017-08-01</th>\n",
              "      <td>-0.1</td>\n",
              "    </tr>\n",
              "  </tbody>\n",
              "</table>\n",
              "<p>800 rows × 1 columns</p>\n",
              "</div>"
            ],
            "text/plain": [
              "            oni\n",
              "date           \n",
              "1951-01-01 -0.8\n",
              "1951-02-01 -0.5\n",
              "1951-03-01 -0.2\n",
              "1951-04-01  0.2\n",
              "1951-05-01  0.4\n",
              "...         ...\n",
              "2017-04-01  0.3\n",
              "2017-05-01  0.4\n",
              "2017-06-01  0.4\n",
              "2017-07-01  0.1\n",
              "2017-08-01 -0.1\n",
              "\n",
              "[800 rows x 1 columns]"
            ]
          },
          "metadata": {
            "tags": []
          },
          "execution_count": 5
        }
      ]
    },
    {
      "cell_type": "code",
      "metadata": {
        "id": "AYmwbIOpiD09"
      },
      "source": [
        ""
      ],
      "execution_count": null,
      "outputs": []
    },
    {
      "cell_type": "code",
      "metadata": {
        "id": "lCwmkeDWiD3c"
      },
      "source": [
        ""
      ],
      "execution_count": null,
      "outputs": []
    },
    {
      "cell_type": "code",
      "metadata": {
        "id": "ozGLaDyxiD7J"
      },
      "source": [
        ""
      ],
      "execution_count": null,
      "outputs": []
    },
    {
      "cell_type": "code",
      "metadata": {
        "colab": {
          "base_uri": "https://localhost:8080/"
        },
        "id": "jJ8T3JbIwoQ5",
        "outputId": "b2e56497-9da5-41cf-c756-dfcb24749c6d"
      },
      "source": [
        "data = np.array([[[float(v) for v in scaler.transform(df_main[-25:-1].values)]]])\n",
        "data"
      ],
      "execution_count": null,
      "outputs": [
        {
          "output_type": "execute_result",
          "data": {
            "text/plain": [
              "array([[[0.82608699, 0.89130438, 0.95652177, 0.9782609 , 1.00000004,\n",
              "         0.9782609 , 0.91304351, 0.80434785, 0.65217394, 0.54347828,\n",
              "         0.43478262, 0.36956523, 0.30434784, 0.28260871, 0.28260871,\n",
              "         0.28260871, 0.30434784, 0.36956523, 0.41304349, 0.45652176,\n",
              "         0.50000002, 0.52173915, 0.52173915, 0.45652176]]])"
            ]
          },
          "metadata": {
            "tags": []
          },
          "execution_count": 217
        }
      ]
    },
    {
      "cell_type": "code",
      "metadata": {
        "colab": {
          "base_uri": "https://localhost:8080/"
        },
        "id": "49pAzFK2x0ro",
        "outputId": "90168fdb-9298-4706-ca2b-0caf3b028e06"
      },
      "source": [
        "scaler.transform([[0.6]])"
      ],
      "execution_count": null,
      "outputs": [
        {
          "output_type": "execute_result",
          "data": {
            "text/plain": [
              "array([[0.56521741]])"
            ]
          },
          "metadata": {
            "tags": []
          },
          "execution_count": 216
        }
      ]
    },
    {
      "cell_type": "code",
      "metadata": {
        "colab": {
          "base_uri": "https://localhost:8080/"
        },
        "id": "S8Tl4CNrwXGo",
        "outputId": "e9a185b1-c261-4891-ca4e-60f0d0f97f95"
      },
      "source": [
        "model.predict(data)"
      ],
      "execution_count": null,
      "outputs": [
        {
          "output_type": "execute_result",
          "data": {
            "text/plain": [
              "array([[0.40940845]], dtype=float32)"
            ]
          },
          "metadata": {
            "tags": []
          },
          "execution_count": 218
        }
      ]
    },
    {
      "cell_type": "code",
      "metadata": {
        "colab": {
          "base_uri": "https://localhost:8080/",
          "height": 394
        },
        "id": "HGoSmB0CyEFR",
        "outputId": "ee8e9e07-b2da-4d87-dd2d-196f5690f8d6"
      },
      "source": [
        "df_main.tail(10)"
      ],
      "execution_count": null,
      "outputs": [
        {
          "output_type": "execute_result",
          "data": {
            "text/html": [
              "<div>\n",
              "<style scoped>\n",
              "    .dataframe tbody tr th:only-of-type {\n",
              "        vertical-align: middle;\n",
              "    }\n",
              "\n",
              "    .dataframe tbody tr th {\n",
              "        vertical-align: top;\n",
              "    }\n",
              "\n",
              "    .dataframe thead th {\n",
              "        text-align: right;\n",
              "    }\n",
              "</style>\n",
              "<table border=\"1\" class=\"dataframe\">\n",
              "  <thead>\n",
              "    <tr style=\"text-align: right;\">\n",
              "      <th></th>\n",
              "      <th>oni</th>\n",
              "    </tr>\n",
              "    <tr>\n",
              "      <th>date</th>\n",
              "      <th></th>\n",
              "    </tr>\n",
              "  </thead>\n",
              "  <tbody>\n",
              "    <tr>\n",
              "      <th>2016-11-01</th>\n",
              "      <td>-0.7</td>\n",
              "    </tr>\n",
              "    <tr>\n",
              "      <th>2016-12-01</th>\n",
              "      <td>-0.6</td>\n",
              "    </tr>\n",
              "    <tr>\n",
              "      <th>2017-01-01</th>\n",
              "      <td>-0.3</td>\n",
              "    </tr>\n",
              "    <tr>\n",
              "      <th>2017-02-01</th>\n",
              "      <td>-0.1</td>\n",
              "    </tr>\n",
              "    <tr>\n",
              "      <th>2017-03-01</th>\n",
              "      <td>0.1</td>\n",
              "    </tr>\n",
              "    <tr>\n",
              "      <th>2017-04-01</th>\n",
              "      <td>0.3</td>\n",
              "    </tr>\n",
              "    <tr>\n",
              "      <th>2017-05-01</th>\n",
              "      <td>0.4</td>\n",
              "    </tr>\n",
              "    <tr>\n",
              "      <th>2017-06-01</th>\n",
              "      <td>0.4</td>\n",
              "    </tr>\n",
              "    <tr>\n",
              "      <th>2017-07-01</th>\n",
              "      <td>0.1</td>\n",
              "    </tr>\n",
              "    <tr>\n",
              "      <th>2017-08-01</th>\n",
              "      <td>-0.1</td>\n",
              "    </tr>\n",
              "  </tbody>\n",
              "</table>\n",
              "</div>"
            ],
            "text/plain": [
              "            oni\n",
              "date           \n",
              "2016-11-01 -0.7\n",
              "2016-12-01 -0.6\n",
              "2017-01-01 -0.3\n",
              "2017-02-01 -0.1\n",
              "2017-03-01  0.1\n",
              "2017-04-01  0.3\n",
              "2017-05-01  0.4\n",
              "2017-06-01  0.4\n",
              "2017-07-01  0.1\n",
              "2017-08-01 -0.1"
            ]
          },
          "metadata": {
            "tags": []
          },
          "execution_count": 222
        }
      ]
    },
    {
      "cell_type": "code",
      "metadata": {
        "colab": {
          "base_uri": "https://localhost:8080/"
        },
        "id": "sLzfjDp1tR4N",
        "outputId": "b3778567-787c-4950-b31c-3a94e2fce270"
      },
      "source": [
        "data = df_main.tail(24).values\n",
        "data = data.astype('float32')\n",
        "data = scaler.transform(data)\n",
        "data = np.reshape(data, (data.shape[0], 1, data.shape[1]))\n",
        "data"
      ],
      "execution_count": null,
      "outputs": [
        {
          "output_type": "execute_result",
          "data": {
            "text/plain": [
              "array([[[0.8913044 ]],\n",
              "\n",
              "       [[0.9565218 ]],\n",
              "\n",
              "       [[0.9782609 ]],\n",
              "\n",
              "       [[1.        ]],\n",
              "\n",
              "       [[0.9782609 ]],\n",
              "\n",
              "       [[0.9130435 ]],\n",
              "\n",
              "       [[0.8043479 ]],\n",
              "\n",
              "       [[0.65217394]],\n",
              "\n",
              "       [[0.54347825]],\n",
              "\n",
              "       [[0.43478262]],\n",
              "\n",
              "       [[0.36956522]],\n",
              "\n",
              "       [[0.3043478 ]],\n",
              "\n",
              "       [[0.2826087 ]],\n",
              "\n",
              "       [[0.2826087 ]],\n",
              "\n",
              "       [[0.2826087 ]],\n",
              "\n",
              "       [[0.3043478 ]],\n",
              "\n",
              "       [[0.36956522]],\n",
              "\n",
              "       [[0.4130435 ]],\n",
              "\n",
              "       [[0.45652175]],\n",
              "\n",
              "       [[0.5       ]],\n",
              "\n",
              "       [[0.5217391 ]],\n",
              "\n",
              "       [[0.5217391 ]],\n",
              "\n",
              "       [[0.45652175]],\n",
              "\n",
              "       [[0.4130435 ]]], dtype=float32)"
            ]
          },
          "metadata": {
            "tags": []
          },
          "execution_count": 195
        }
      ]
    },
    {
      "cell_type": "code",
      "metadata": {
        "colab": {
          "base_uri": "https://localhost:8080/",
          "height": 538
        },
        "id": "6ccZpaMjsqat",
        "outputId": "434c2ed1-d2c7-4e51-b458-957ea6f85cf2"
      },
      "source": [
        "model.predict(data)"
      ],
      "execution_count": null,
      "outputs": [
        {
          "output_type": "error",
          "ename": "ValueError",
          "evalue": "ignored",
          "traceback": [
            "\u001b[0;31m---------------------------------------------------------------------------\u001b[0m",
            "\u001b[0;31mValueError\u001b[0m                                Traceback (most recent call last)",
            "\u001b[0;32m<ipython-input-167-c8644be457c1>\u001b[0m in \u001b[0;36m<module>\u001b[0;34m()\u001b[0m\n\u001b[0;32m----> 1\u001b[0;31m \u001b[0mmodel\u001b[0m\u001b[0;34m.\u001b[0m\u001b[0mpredict\u001b[0m\u001b[0;34m(\u001b[0m\u001b[0mdata\u001b[0m\u001b[0;34m)\u001b[0m\u001b[0;34m\u001b[0m\u001b[0;34m\u001b[0m\u001b[0m\n\u001b[0m",
            "\u001b[0;32m/usr/local/lib/python3.7/dist-packages/keras/engine/training.py\u001b[0m in \u001b[0;36mpredict\u001b[0;34m(self, x, batch_size, verbose, steps, callbacks, max_queue_size, workers, use_multiprocessing)\u001b[0m\n\u001b[1;32m   1700\u001b[0m           \u001b[0;32mfor\u001b[0m \u001b[0mstep\u001b[0m \u001b[0;32min\u001b[0m \u001b[0mdata_handler\u001b[0m\u001b[0;34m.\u001b[0m\u001b[0msteps\u001b[0m\u001b[0;34m(\u001b[0m\u001b[0;34m)\u001b[0m\u001b[0;34m:\u001b[0m\u001b[0;34m\u001b[0m\u001b[0;34m\u001b[0m\u001b[0m\n\u001b[1;32m   1701\u001b[0m             \u001b[0mcallbacks\u001b[0m\u001b[0;34m.\u001b[0m\u001b[0mon_predict_batch_begin\u001b[0m\u001b[0;34m(\u001b[0m\u001b[0mstep\u001b[0m\u001b[0;34m)\u001b[0m\u001b[0;34m\u001b[0m\u001b[0;34m\u001b[0m\u001b[0m\n\u001b[0;32m-> 1702\u001b[0;31m             \u001b[0mtmp_batch_outputs\u001b[0m \u001b[0;34m=\u001b[0m \u001b[0mself\u001b[0m\u001b[0;34m.\u001b[0m\u001b[0mpredict_function\u001b[0m\u001b[0;34m(\u001b[0m\u001b[0miterator\u001b[0m\u001b[0;34m)\u001b[0m\u001b[0;34m\u001b[0m\u001b[0;34m\u001b[0m\u001b[0m\n\u001b[0m\u001b[1;32m   1703\u001b[0m             \u001b[0;32mif\u001b[0m \u001b[0mdata_handler\u001b[0m\u001b[0;34m.\u001b[0m\u001b[0mshould_sync\u001b[0m\u001b[0;34m:\u001b[0m\u001b[0;34m\u001b[0m\u001b[0;34m\u001b[0m\u001b[0m\n\u001b[1;32m   1704\u001b[0m               \u001b[0mcontext\u001b[0m\u001b[0;34m.\u001b[0m\u001b[0masync_wait\u001b[0m\u001b[0;34m(\u001b[0m\u001b[0;34m)\u001b[0m\u001b[0;34m\u001b[0m\u001b[0;34m\u001b[0m\u001b[0m\n",
            "\u001b[0;32m/usr/local/lib/python3.7/dist-packages/tensorflow/python/eager/def_function.py\u001b[0m in \u001b[0;36m__call__\u001b[0;34m(self, *args, **kwds)\u001b[0m\n\u001b[1;32m    887\u001b[0m \u001b[0;34m\u001b[0m\u001b[0m\n\u001b[1;32m    888\u001b[0m       \u001b[0;32mwith\u001b[0m \u001b[0mOptionalXlaContext\u001b[0m\u001b[0;34m(\u001b[0m\u001b[0mself\u001b[0m\u001b[0;34m.\u001b[0m\u001b[0m_jit_compile\u001b[0m\u001b[0;34m)\u001b[0m\u001b[0;34m:\u001b[0m\u001b[0;34m\u001b[0m\u001b[0;34m\u001b[0m\u001b[0m\n\u001b[0;32m--> 889\u001b[0;31m         \u001b[0mresult\u001b[0m \u001b[0;34m=\u001b[0m \u001b[0mself\u001b[0m\u001b[0;34m.\u001b[0m\u001b[0m_call\u001b[0m\u001b[0;34m(\u001b[0m\u001b[0;34m*\u001b[0m\u001b[0margs\u001b[0m\u001b[0;34m,\u001b[0m \u001b[0;34m**\u001b[0m\u001b[0mkwds\u001b[0m\u001b[0;34m)\u001b[0m\u001b[0;34m\u001b[0m\u001b[0;34m\u001b[0m\u001b[0m\n\u001b[0m\u001b[1;32m    890\u001b[0m \u001b[0;34m\u001b[0m\u001b[0m\n\u001b[1;32m    891\u001b[0m       \u001b[0mnew_tracing_count\u001b[0m \u001b[0;34m=\u001b[0m \u001b[0mself\u001b[0m\u001b[0;34m.\u001b[0m\u001b[0mexperimental_get_tracing_count\u001b[0m\u001b[0;34m(\u001b[0m\u001b[0;34m)\u001b[0m\u001b[0;34m\u001b[0m\u001b[0;34m\u001b[0m\u001b[0m\n",
            "\u001b[0;32m/usr/local/lib/python3.7/dist-packages/tensorflow/python/eager/def_function.py\u001b[0m in \u001b[0;36m_call\u001b[0;34m(self, *args, **kwds)\u001b[0m\n\u001b[1;32m    922\u001b[0m       \u001b[0;31m# In this case we have not created variables on the first call. So we can\u001b[0m\u001b[0;34m\u001b[0m\u001b[0;34m\u001b[0m\u001b[0;34m\u001b[0m\u001b[0m\n\u001b[1;32m    923\u001b[0m       \u001b[0;31m# run the first trace but we should fail if variables are created.\u001b[0m\u001b[0;34m\u001b[0m\u001b[0;34m\u001b[0m\u001b[0;34m\u001b[0m\u001b[0m\n\u001b[0;32m--> 924\u001b[0;31m       \u001b[0mresults\u001b[0m \u001b[0;34m=\u001b[0m \u001b[0mself\u001b[0m\u001b[0;34m.\u001b[0m\u001b[0m_stateful_fn\u001b[0m\u001b[0;34m(\u001b[0m\u001b[0;34m*\u001b[0m\u001b[0margs\u001b[0m\u001b[0;34m,\u001b[0m \u001b[0;34m**\u001b[0m\u001b[0mkwds\u001b[0m\u001b[0;34m)\u001b[0m\u001b[0;34m\u001b[0m\u001b[0;34m\u001b[0m\u001b[0m\n\u001b[0m\u001b[1;32m    925\u001b[0m       \u001b[0;32mif\u001b[0m \u001b[0mself\u001b[0m\u001b[0;34m.\u001b[0m\u001b[0m_created_variables\u001b[0m\u001b[0;34m:\u001b[0m\u001b[0;34m\u001b[0m\u001b[0;34m\u001b[0m\u001b[0m\n\u001b[1;32m    926\u001b[0m         raise ValueError(\"Creating variables on a non-first call to a function\"\n",
            "\u001b[0;32m/usr/local/lib/python3.7/dist-packages/tensorflow/python/eager/function.py\u001b[0m in \u001b[0;36m__call__\u001b[0;34m(self, *args, **kwargs)\u001b[0m\n\u001b[1;32m   3020\u001b[0m     \u001b[0;32mwith\u001b[0m \u001b[0mself\u001b[0m\u001b[0;34m.\u001b[0m\u001b[0m_lock\u001b[0m\u001b[0;34m:\u001b[0m\u001b[0;34m\u001b[0m\u001b[0;34m\u001b[0m\u001b[0m\n\u001b[1;32m   3021\u001b[0m       (graph_function,\n\u001b[0;32m-> 3022\u001b[0;31m        filtered_flat_args) = self._maybe_define_function(args, kwargs)\n\u001b[0m\u001b[1;32m   3023\u001b[0m     return graph_function._call_flat(\n\u001b[1;32m   3024\u001b[0m         filtered_flat_args, captured_inputs=graph_function.captured_inputs)  # pylint: disable=protected-access\n",
            "\u001b[0;32m/usr/local/lib/python3.7/dist-packages/tensorflow/python/eager/function.py\u001b[0m in \u001b[0;36m_maybe_define_function\u001b[0;34m(self, args, kwargs)\u001b[0m\n\u001b[1;32m   3439\u001b[0m               call_context_key in self._function_cache.missed):\n\u001b[1;32m   3440\u001b[0m             return self._define_function_with_shape_relaxation(\n\u001b[0;32m-> 3441\u001b[0;31m                 args, kwargs, flat_args, filtered_flat_args, cache_key_context)\n\u001b[0m\u001b[1;32m   3442\u001b[0m \u001b[0;34m\u001b[0m\u001b[0m\n\u001b[1;32m   3443\u001b[0m           \u001b[0mself\u001b[0m\u001b[0;34m.\u001b[0m\u001b[0m_function_cache\u001b[0m\u001b[0;34m.\u001b[0m\u001b[0mmissed\u001b[0m\u001b[0;34m.\u001b[0m\u001b[0madd\u001b[0m\u001b[0;34m(\u001b[0m\u001b[0mcall_context_key\u001b[0m\u001b[0;34m)\u001b[0m\u001b[0;34m\u001b[0m\u001b[0;34m\u001b[0m\u001b[0m\n",
            "\u001b[0;32m/usr/local/lib/python3.7/dist-packages/tensorflow/python/eager/function.py\u001b[0m in \u001b[0;36m_define_function_with_shape_relaxation\u001b[0;34m(self, args, kwargs, flat_args, filtered_flat_args, cache_key_context)\u001b[0m\n\u001b[1;32m   3361\u001b[0m \u001b[0;34m\u001b[0m\u001b[0m\n\u001b[1;32m   3362\u001b[0m     graph_function = self._create_graph_function(\n\u001b[0;32m-> 3363\u001b[0;31m         args, kwargs, override_flat_arg_shapes=relaxed_arg_shapes)\n\u001b[0m\u001b[1;32m   3364\u001b[0m     \u001b[0mself\u001b[0m\u001b[0;34m.\u001b[0m\u001b[0m_function_cache\u001b[0m\u001b[0;34m.\u001b[0m\u001b[0marg_relaxed\u001b[0m\u001b[0;34m[\u001b[0m\u001b[0mrank_only_cache_key\u001b[0m\u001b[0;34m]\u001b[0m \u001b[0;34m=\u001b[0m \u001b[0mgraph_function\u001b[0m\u001b[0;34m\u001b[0m\u001b[0;34m\u001b[0m\u001b[0m\n\u001b[1;32m   3365\u001b[0m \u001b[0;34m\u001b[0m\u001b[0m\n",
            "\u001b[0;32m/usr/local/lib/python3.7/dist-packages/tensorflow/python/eager/function.py\u001b[0m in \u001b[0;36m_create_graph_function\u001b[0;34m(self, args, kwargs, override_flat_arg_shapes)\u001b[0m\n\u001b[1;32m   3287\u001b[0m             \u001b[0marg_names\u001b[0m\u001b[0;34m=\u001b[0m\u001b[0marg_names\u001b[0m\u001b[0;34m,\u001b[0m\u001b[0;34m\u001b[0m\u001b[0;34m\u001b[0m\u001b[0m\n\u001b[1;32m   3288\u001b[0m             \u001b[0moverride_flat_arg_shapes\u001b[0m\u001b[0;34m=\u001b[0m\u001b[0moverride_flat_arg_shapes\u001b[0m\u001b[0;34m,\u001b[0m\u001b[0;34m\u001b[0m\u001b[0;34m\u001b[0m\u001b[0m\n\u001b[0;32m-> 3289\u001b[0;31m             capture_by_value=self._capture_by_value),\n\u001b[0m\u001b[1;32m   3290\u001b[0m         \u001b[0mself\u001b[0m\u001b[0;34m.\u001b[0m\u001b[0m_function_attributes\u001b[0m\u001b[0;34m,\u001b[0m\u001b[0;34m\u001b[0m\u001b[0;34m\u001b[0m\u001b[0m\n\u001b[1;32m   3291\u001b[0m         \u001b[0mfunction_spec\u001b[0m\u001b[0;34m=\u001b[0m\u001b[0mself\u001b[0m\u001b[0;34m.\u001b[0m\u001b[0mfunction_spec\u001b[0m\u001b[0;34m,\u001b[0m\u001b[0;34m\u001b[0m\u001b[0;34m\u001b[0m\u001b[0m\n",
            "\u001b[0;32m/usr/local/lib/python3.7/dist-packages/tensorflow/python/framework/func_graph.py\u001b[0m in \u001b[0;36mfunc_graph_from_py_func\u001b[0;34m(name, python_func, args, kwargs, signature, func_graph, autograph, autograph_options, add_control_dependencies, arg_names, op_return_value, collections, capture_by_value, override_flat_arg_shapes)\u001b[0m\n\u001b[1;32m    997\u001b[0m         \u001b[0m_\u001b[0m\u001b[0;34m,\u001b[0m \u001b[0moriginal_func\u001b[0m \u001b[0;34m=\u001b[0m \u001b[0mtf_decorator\u001b[0m\u001b[0;34m.\u001b[0m\u001b[0munwrap\u001b[0m\u001b[0;34m(\u001b[0m\u001b[0mpython_func\u001b[0m\u001b[0;34m)\u001b[0m\u001b[0;34m\u001b[0m\u001b[0;34m\u001b[0m\u001b[0m\n\u001b[1;32m    998\u001b[0m \u001b[0;34m\u001b[0m\u001b[0m\n\u001b[0;32m--> 999\u001b[0;31m       \u001b[0mfunc_outputs\u001b[0m \u001b[0;34m=\u001b[0m \u001b[0mpython_func\u001b[0m\u001b[0;34m(\u001b[0m\u001b[0;34m*\u001b[0m\u001b[0mfunc_args\u001b[0m\u001b[0;34m,\u001b[0m \u001b[0;34m**\u001b[0m\u001b[0mfunc_kwargs\u001b[0m\u001b[0;34m)\u001b[0m\u001b[0;34m\u001b[0m\u001b[0;34m\u001b[0m\u001b[0m\n\u001b[0m\u001b[1;32m   1000\u001b[0m \u001b[0;34m\u001b[0m\u001b[0m\n\u001b[1;32m   1001\u001b[0m       \u001b[0;31m# invariant: `func_outputs` contains only Tensors, CompositeTensors,\u001b[0m\u001b[0;34m\u001b[0m\u001b[0;34m\u001b[0m\u001b[0;34m\u001b[0m\u001b[0m\n",
            "\u001b[0;32m/usr/local/lib/python3.7/dist-packages/tensorflow/python/eager/def_function.py\u001b[0m in \u001b[0;36mwrapped_fn\u001b[0;34m(*args, **kwds)\u001b[0m\n\u001b[1;32m    670\u001b[0m         \u001b[0;31m# the function a weak reference to itself to avoid a reference cycle.\u001b[0m\u001b[0;34m\u001b[0m\u001b[0;34m\u001b[0m\u001b[0;34m\u001b[0m\u001b[0m\n\u001b[1;32m    671\u001b[0m         \u001b[0;32mwith\u001b[0m \u001b[0mOptionalXlaContext\u001b[0m\u001b[0;34m(\u001b[0m\u001b[0mcompile_with_xla\u001b[0m\u001b[0;34m)\u001b[0m\u001b[0;34m:\u001b[0m\u001b[0;34m\u001b[0m\u001b[0;34m\u001b[0m\u001b[0m\n\u001b[0;32m--> 672\u001b[0;31m           \u001b[0mout\u001b[0m \u001b[0;34m=\u001b[0m \u001b[0mweak_wrapped_fn\u001b[0m\u001b[0;34m(\u001b[0m\u001b[0;34m)\u001b[0m\u001b[0;34m.\u001b[0m\u001b[0m__wrapped__\u001b[0m\u001b[0;34m(\u001b[0m\u001b[0;34m*\u001b[0m\u001b[0margs\u001b[0m\u001b[0;34m,\u001b[0m \u001b[0;34m**\u001b[0m\u001b[0mkwds\u001b[0m\u001b[0;34m)\u001b[0m\u001b[0;34m\u001b[0m\u001b[0;34m\u001b[0m\u001b[0m\n\u001b[0m\u001b[1;32m    673\u001b[0m         \u001b[0;32mreturn\u001b[0m \u001b[0mout\u001b[0m\u001b[0;34m\u001b[0m\u001b[0;34m\u001b[0m\u001b[0m\n\u001b[1;32m    674\u001b[0m \u001b[0;34m\u001b[0m\u001b[0m\n",
            "\u001b[0;32m/usr/local/lib/python3.7/dist-packages/tensorflow/python/framework/func_graph.py\u001b[0m in \u001b[0;36mwrapper\u001b[0;34m(*args, **kwargs)\u001b[0m\n\u001b[1;32m    984\u001b[0m           \u001b[0;32mexcept\u001b[0m \u001b[0mException\u001b[0m \u001b[0;32mas\u001b[0m \u001b[0me\u001b[0m\u001b[0;34m:\u001b[0m  \u001b[0;31m# pylint:disable=broad-except\u001b[0m\u001b[0;34m\u001b[0m\u001b[0;34m\u001b[0m\u001b[0m\n\u001b[1;32m    985\u001b[0m             \u001b[0;32mif\u001b[0m \u001b[0mhasattr\u001b[0m\u001b[0;34m(\u001b[0m\u001b[0me\u001b[0m\u001b[0;34m,\u001b[0m \u001b[0;34m\"ag_error_metadata\"\u001b[0m\u001b[0;34m)\u001b[0m\u001b[0;34m:\u001b[0m\u001b[0;34m\u001b[0m\u001b[0;34m\u001b[0m\u001b[0m\n\u001b[0;32m--> 986\u001b[0;31m               \u001b[0;32mraise\u001b[0m \u001b[0me\u001b[0m\u001b[0;34m.\u001b[0m\u001b[0mag_error_metadata\u001b[0m\u001b[0;34m.\u001b[0m\u001b[0mto_exception\u001b[0m\u001b[0;34m(\u001b[0m\u001b[0me\u001b[0m\u001b[0;34m)\u001b[0m\u001b[0;34m\u001b[0m\u001b[0;34m\u001b[0m\u001b[0m\n\u001b[0m\u001b[1;32m    987\u001b[0m             \u001b[0;32melse\u001b[0m\u001b[0;34m:\u001b[0m\u001b[0;34m\u001b[0m\u001b[0;34m\u001b[0m\u001b[0m\n\u001b[1;32m    988\u001b[0m               \u001b[0;32mraise\u001b[0m\u001b[0;34m\u001b[0m\u001b[0;34m\u001b[0m\u001b[0m\n",
            "\u001b[0;31mValueError\u001b[0m: in user code:\n\n    /usr/local/lib/python3.7/dist-packages/keras/engine/training.py:1544 predict_function  *\n        return step_function(self, iterator)\n    /usr/local/lib/python3.7/dist-packages/keras/engine/training.py:1527 run_step  *\n        outputs = model.predict_step(data)\n    /usr/local/lib/python3.7/dist-packages/keras/engine/training.py:1500 predict_step  *\n        return self(x, training=False)\n    /usr/local/lib/python3.7/dist-packages/keras/engine/base_layer.py:989 __call__  *\n        input_spec.assert_input_compatibility(self.input_spec, inputs, self.name)\n    /usr/local/lib/python3.7/dist-packages/keras/engine/input_spec.py:264 assert_input_compatibility  *\n        raise ValueError('Input ' + str(input_index) +\n\n    ValueError: Input 0 is incompatible with layer sequential_12: expected shape=(None, None, 24), found shape=(None, 1, 1)\n"
          ]
        }
      ]
    },
    {
      "cell_type": "code",
      "metadata": {
        "colab": {
          "base_uri": "https://localhost:8080/"
        },
        "id": "o32e0XQvnfu3",
        "outputId": "80633f7b-4c6b-475f-aa06-9cb0c41157e6"
      },
      "source": [
        "len(X_train), len(X_test), len(Y_train), len(Y_test)"
      ],
      "execution_count": null,
      "outputs": [
        {
          "output_type": "execute_result",
          "data": {
            "text/plain": [
              "(615, 135, 615, 135)"
            ]
          },
          "metadata": {
            "tags": []
          },
          "execution_count": 155
        }
      ]
    },
    {
      "cell_type": "code",
      "metadata": {
        "colab": {
          "base_uri": "https://localhost:8080/"
        },
        "id": "f5Q09BQunfww",
        "outputId": "e1abc602-5e18-480e-dca0-884baa21b4df"
      },
      "source": [
        "Y_test"
      ],
      "execution_count": null,
      "outputs": [
        {
          "output_type": "execute_result",
          "data": {
            "text/plain": [
              "array([0.3043478 , 0.36956522, 0.4130435 , 0.45652175, 0.5       ],\n",
              "      dtype=float32)"
            ]
          },
          "metadata": {
            "tags": []
          },
          "execution_count": 140
        }
      ]
    },
    {
      "cell_type": "code",
      "metadata": {
        "colab": {
          "base_uri": "https://localhost:8080/"
        },
        "id": "-jSU0hWvnOYH",
        "outputId": "bd2507ba-51df-4c55-d7e7-aa71fb7b32ab"
      },
      "source": [
        "Y_test"
      ],
      "execution_count": null,
      "outputs": [
        {
          "output_type": "execute_result",
          "data": {
            "text/plain": [
              "array([0.13043478, 0.19565217, 0.26086956, 0.3043478 , 0.32608697,\n",
              "       0.3478261 , 0.32608697, 0.2826087 , 0.23913045, 0.19565217,\n",
              "       0.19565217, 0.21739131, 0.26086956, 0.3043478 , 0.32608697,\n",
              "       0.3478261 , 0.39130437, 0.45652175, 0.5       , 0.5       ,\n",
              "       0.5       , 0.47826087, 0.43478262, 0.39130437, 0.3478261 ,\n",
              "       0.36956522, 0.39130437, 0.39130437, 0.36956522, 0.36956522,\n",
              "       0.3478261 , 0.3478261 , 0.36956522, 0.39130437, 0.39130437,\n",
              "       0.36956522, 0.3478261 , 0.3478261 , 0.39130437, 0.45652175,\n",
              "       0.5       , 0.47826087, 0.45652175, 0.43478262, 0.47826087,\n",
              "       0.5217391 , 0.56521744, 0.58695656, 0.56521744, 0.56521744,\n",
              "       0.56521744, 0.6086957 , 0.65217394, 0.69565225, 0.7608696 ,\n",
              "       0.826087  , 0.8913044 , 0.9565218 , 0.9782609 , 1.        ,\n",
              "       0.9782609 , 0.9130435 , 0.8043479 , 0.65217394, 0.54347825,\n",
              "       0.43478262, 0.36956522, 0.3043478 , 0.2826087 , 0.2826087 ,\n",
              "       0.2826087 , 0.3043478 , 0.36956522, 0.4130435 , 0.45652175,\n",
              "       0.5       ], dtype=float32)"
            ]
          },
          "metadata": {
            "tags": []
          },
          "execution_count": 135
        }
      ]
    },
    {
      "cell_type": "code",
      "metadata": {
        "colab": {
          "base_uri": "https://localhost:8080/"
        },
        "id": "e1CzjRJUpCsw",
        "outputId": "a6b880e5-0ee9-4347-8ecc-21a93653b54e"
      },
      "source": [
        "X_test"
      ],
      "execution_count": null,
      "outputs": [
        {
          "output_type": "execute_result",
          "data": {
            "text/plain": [
              "array([[[0.06521738, 0.06521738, 0.08695653]],\n",
              "\n",
              "       [[0.06521738, 0.08695653, 0.13043478]],\n",
              "\n",
              "       [[0.08695653, 0.13043478, 0.19565217]],\n",
              "\n",
              "       [[0.13043478, 0.19565217, 0.26086956]],\n",
              "\n",
              "       [[0.19565217, 0.26086956, 0.3043478 ]],\n",
              "\n",
              "       [[0.26086956, 0.3043478 , 0.32608697]],\n",
              "\n",
              "       [[0.3043478 , 0.32608697, 0.3478261 ]],\n",
              "\n",
              "       [[0.32608697, 0.3478261 , 0.32608697]],\n",
              "\n",
              "       [[0.3478261 , 0.32608697, 0.2826087 ]],\n",
              "\n",
              "       [[0.32608697, 0.2826087 , 0.23913045]],\n",
              "\n",
              "       [[0.2826087 , 0.23913045, 0.19565217]],\n",
              "\n",
              "       [[0.23913045, 0.19565217, 0.19565217]],\n",
              "\n",
              "       [[0.19565217, 0.19565217, 0.21739131]],\n",
              "\n",
              "       [[0.19565217, 0.21739131, 0.26086956]],\n",
              "\n",
              "       [[0.21739131, 0.26086956, 0.3043478 ]],\n",
              "\n",
              "       [[0.26086956, 0.3043478 , 0.32608697]],\n",
              "\n",
              "       [[0.3043478 , 0.32608697, 0.3478261 ]],\n",
              "\n",
              "       [[0.32608697, 0.3478261 , 0.39130437]],\n",
              "\n",
              "       [[0.3478261 , 0.39130437, 0.45652175]],\n",
              "\n",
              "       [[0.39130437, 0.45652175, 0.5       ]],\n",
              "\n",
              "       [[0.45652175, 0.5       , 0.5       ]],\n",
              "\n",
              "       [[0.5       , 0.5       , 0.5       ]],\n",
              "\n",
              "       [[0.5       , 0.5       , 0.47826087]],\n",
              "\n",
              "       [[0.5       , 0.47826087, 0.43478262]],\n",
              "\n",
              "       [[0.47826087, 0.43478262, 0.39130437]],\n",
              "\n",
              "       [[0.43478262, 0.39130437, 0.3478261 ]],\n",
              "\n",
              "       [[0.39130437, 0.3478261 , 0.36956522]],\n",
              "\n",
              "       [[0.3478261 , 0.36956522, 0.39130437]],\n",
              "\n",
              "       [[0.36956522, 0.39130437, 0.39130437]],\n",
              "\n",
              "       [[0.39130437, 0.39130437, 0.36956522]],\n",
              "\n",
              "       [[0.39130437, 0.36956522, 0.36956522]],\n",
              "\n",
              "       [[0.36956522, 0.36956522, 0.3478261 ]],\n",
              "\n",
              "       [[0.36956522, 0.3478261 , 0.3478261 ]],\n",
              "\n",
              "       [[0.3478261 , 0.3478261 , 0.36956522]],\n",
              "\n",
              "       [[0.3478261 , 0.36956522, 0.39130437]],\n",
              "\n",
              "       [[0.36956522, 0.39130437, 0.39130437]],\n",
              "\n",
              "       [[0.39130437, 0.39130437, 0.36956522]],\n",
              "\n",
              "       [[0.39130437, 0.36956522, 0.3478261 ]],\n",
              "\n",
              "       [[0.36956522, 0.3478261 , 0.3478261 ]],\n",
              "\n",
              "       [[0.3478261 , 0.3478261 , 0.39130437]],\n",
              "\n",
              "       [[0.3478261 , 0.39130437, 0.45652175]],\n",
              "\n",
              "       [[0.39130437, 0.45652175, 0.5       ]],\n",
              "\n",
              "       [[0.45652175, 0.5       , 0.47826087]],\n",
              "\n",
              "       [[0.5       , 0.47826087, 0.45652175]],\n",
              "\n",
              "       [[0.47826087, 0.45652175, 0.43478262]],\n",
              "\n",
              "       [[0.45652175, 0.43478262, 0.47826087]],\n",
              "\n",
              "       [[0.43478262, 0.47826087, 0.5217391 ]],\n",
              "\n",
              "       [[0.47826087, 0.5217391 , 0.56521744]],\n",
              "\n",
              "       [[0.5217391 , 0.56521744, 0.58695656]],\n",
              "\n",
              "       [[0.56521744, 0.58695656, 0.56521744]],\n",
              "\n",
              "       [[0.58695656, 0.56521744, 0.56521744]],\n",
              "\n",
              "       [[0.56521744, 0.56521744, 0.56521744]],\n",
              "\n",
              "       [[0.56521744, 0.56521744, 0.6086957 ]],\n",
              "\n",
              "       [[0.56521744, 0.6086957 , 0.65217394]],\n",
              "\n",
              "       [[0.6086957 , 0.65217394, 0.69565225]],\n",
              "\n",
              "       [[0.65217394, 0.69565225, 0.7608696 ]],\n",
              "\n",
              "       [[0.69565225, 0.7608696 , 0.826087  ]],\n",
              "\n",
              "       [[0.7608696 , 0.826087  , 0.8913044 ]],\n",
              "\n",
              "       [[0.826087  , 0.8913044 , 0.9565218 ]],\n",
              "\n",
              "       [[0.8913044 , 0.9565218 , 0.9782609 ]],\n",
              "\n",
              "       [[0.9565218 , 0.9782609 , 1.        ]],\n",
              "\n",
              "       [[0.9782609 , 1.        , 0.9782609 ]],\n",
              "\n",
              "       [[1.        , 0.9782609 , 0.9130435 ]],\n",
              "\n",
              "       [[0.9782609 , 0.9130435 , 0.8043479 ]],\n",
              "\n",
              "       [[0.9130435 , 0.8043479 , 0.65217394]],\n",
              "\n",
              "       [[0.8043479 , 0.65217394, 0.54347825]],\n",
              "\n",
              "       [[0.65217394, 0.54347825, 0.43478262]],\n",
              "\n",
              "       [[0.54347825, 0.43478262, 0.36956522]],\n",
              "\n",
              "       [[0.43478262, 0.36956522, 0.3043478 ]],\n",
              "\n",
              "       [[0.36956522, 0.3043478 , 0.2826087 ]],\n",
              "\n",
              "       [[0.3043478 , 0.2826087 , 0.2826087 ]],\n",
              "\n",
              "       [[0.2826087 , 0.2826087 , 0.2826087 ]],\n",
              "\n",
              "       [[0.2826087 , 0.2826087 , 0.3043478 ]],\n",
              "\n",
              "       [[0.2826087 , 0.3043478 , 0.36956522]],\n",
              "\n",
              "       [[0.3043478 , 0.36956522, 0.4130435 ]],\n",
              "\n",
              "       [[0.36956522, 0.4130435 , 0.45652175]]], dtype=float32)"
            ]
          },
          "metadata": {
            "tags": []
          },
          "execution_count": 134
        }
      ]
    },
    {
      "cell_type": "code",
      "metadata": {
        "colab": {
          "base_uri": "https://localhost:8080/"
        },
        "id": "kA6ZsQetpC0T",
        "outputId": "fe453c2a-2471-4e8f-b96b-38e1535973f1"
      },
      "source": [
        "df_valid.values"
      ],
      "execution_count": null,
      "outputs": [
        {
          "output_type": "execute_result",
          "data": {
            "text/plain": [
              "array([[ 0.4],\n",
              "       [ 0.1],\n",
              "       [-0.1]])"
            ]
          },
          "metadata": {
            "tags": []
          },
          "execution_count": 126
        }
      ]
    },
    {
      "cell_type": "code",
      "metadata": {
        "colab": {
          "base_uri": "https://localhost:8080/"
        },
        "id": "xGao-tSygXQK",
        "outputId": "e7df16c2-5f36-4811-a7b3-797504980f63"
      },
      "source": [
        "X_test = scaler.transform(df_valid.values)\n",
        "X_test = np.reshape(X_test, (X_test.shape[0], 1, X_test.shape[1]))\n",
        "X_test\n",
        "#model.predict(X_test)"
      ],
      "execution_count": null,
      "outputs": [
        {
          "output_type": "execute_result",
          "data": {
            "text/plain": [
              "array([[[0.52173915]],\n",
              "\n",
              "       [[0.45652176]],\n",
              "\n",
              "       [[0.41304349]]])"
            ]
          },
          "metadata": {
            "tags": []
          },
          "execution_count": 123
        }
      ]
    },
    {
      "cell_type": "code",
      "metadata": {
        "id": "sVeEUqTEgXR7"
      },
      "source": [
        ""
      ],
      "execution_count": null,
      "outputs": []
    },
    {
      "cell_type": "code",
      "metadata": {
        "id": "oC_E5hqQCtxU"
      },
      "source": [
        "df_train = df[:-24]\n",
        "df_test = df[-24::]"
      ],
      "execution_count": null,
      "outputs": []
    },
    {
      "cell_type": "code",
      "metadata": {
        "colab": {
          "base_uri": "https://localhost:8080/"
        },
        "id": "6uxLFyIUD11N",
        "outputId": "91fa8e0c-ee97-4f0d-d5a9-9825fe412d4f"
      },
      "source": [
        "X = np.array(df_train.drop(['oni'], axis=1))\n",
        "y = np.array(df_train['oni'])\n",
        "\n",
        "print(len(X), len(y))"
      ],
      "execution_count": null,
      "outputs": [
        {
          "output_type": "stream",
          "text": [
            "776 776\n"
          ],
          "name": "stdout"
        }
      ]
    },
    {
      "cell_type": "code",
      "metadata": {
        "colab": {
          "base_uri": "https://localhost:8080/"
        },
        "id": "t86uxNZtEg2g",
        "outputId": "235615cf-b5c3-4b5c-8858-9b196bd99a65"
      },
      "source": [
        "X[0]"
      ],
      "execution_count": null,
      "outputs": [
        {
          "output_type": "execute_result",
          "data": {
            "text/plain": [
              "array([ 1.5       , -0.72      , -1.18      ,  0.00693966])"
            ]
          },
          "metadata": {
            "tags": []
          },
          "execution_count": 7
        }
      ]
    },
    {
      "cell_type": "code",
      "metadata": {
        "colab": {
          "base_uri": "https://localhost:8080/"
        },
        "id": "fVXynnRqEzR4",
        "outputId": "4de1fc89-a847-44d8-9468-9df593bba1c0"
      },
      "source": [
        "df_train.iloc[0]"
      ],
      "execution_count": null,
      "outputs": [
        {
          "output_type": "execute_result",
          "data": {
            "text/plain": [
              "soi       1.50000\n",
              "oni      -0.80000\n",
              "nino3    -0.72000\n",
              "pna      -1.18000\n",
              "precip    0.00694\n",
              "Name: 1951-01-01 00:00:00, dtype: float64"
            ]
          },
          "metadata": {
            "tags": []
          },
          "execution_count": 8
        }
      ]
    },
    {
      "cell_type": "code",
      "metadata": {
        "colab": {
          "base_uri": "https://localhost:8080/"
        },
        "id": "gy0_KdHeb_GY",
        "outputId": "62ab1c3b-17dd-4503-b0f9-cdafc44b1e6f"
      },
      "source": [
        "X.shape, y.shape"
      ],
      "execution_count": null,
      "outputs": [
        {
          "output_type": "execute_result",
          "data": {
            "text/plain": [
              "((776, 4), (776,))"
            ]
          },
          "metadata": {
            "tags": []
          },
          "execution_count": 9
        }
      ]
    },
    {
      "cell_type": "code",
      "metadata": {
        "colab": {
          "base_uri": "https://localhost:8080/"
        },
        "id": "iIUhkwQyb1wU",
        "outputId": "b6090570-d107-45ad-dbef-bcec49f6e616"
      },
      "source": [
        "X = np.array(X).reshape(X.shape[0], X.shape[1], 1)\n",
        "X"
      ],
      "execution_count": null,
      "outputs": [
        {
          "output_type": "execute_result",
          "data": {
            "text/plain": [
              "array([[[ 1.50000000e+00],\n",
              "        [-7.20000000e-01],\n",
              "        [-1.18000000e+00],\n",
              "        [ 6.93965517e-03]],\n",
              "\n",
              "       [[ 9.00000000e-01],\n",
              "        [-4.30000000e-01],\n",
              "        [-2.11000000e+00],\n",
              "        [ 6.93965517e-03]],\n",
              "\n",
              "       [[-1.00000000e-01],\n",
              "        [-6.30000000e-01],\n",
              "        [-1.09000000e+00],\n",
              "        [ 6.93965517e-03]],\n",
              "\n",
              "       ...,\n",
              "\n",
              "       [[-6.00000000e-01],\n",
              "        [ 1.54000000e+00],\n",
              "        [-7.00000000e-02],\n",
              "        [ 3.90000000e-01]],\n",
              "\n",
              "       [[-1.10000000e+00],\n",
              "        [ 1.87000000e+00],\n",
              "        [ 2.90000000e-01],\n",
              "        [ 1.02000000e+00]],\n",
              "\n",
              "       [[-1.40000000e+00],\n",
              "        [ 2.08000000e+00],\n",
              "        [ 5.00000000e-02],\n",
              "        [ 7.39000000e+00]]])"
            ]
          },
          "metadata": {
            "tags": []
          },
          "execution_count": 10
        }
      ]
    },
    {
      "cell_type": "code",
      "metadata": {
        "colab": {
          "base_uri": "https://localhost:8080/"
        },
        "id": "8YSRPUofW_mU",
        "outputId": "3577876c-7f53-43bc-ae4e-c6e714c21ba7"
      },
      "source": [
        "X_test = np.array(df_test.drop(['oni'], axis=1))\n",
        "y_test = np.array(df_test['oni'])\n",
        "\n",
        "X_test = np.array(X_test).reshape(X_test.shape[0], X_test.shape[1], 1)\n",
        "\n",
        "print(len(X_test), len(y_test))"
      ],
      "execution_count": null,
      "outputs": [
        {
          "output_type": "stream",
          "text": [
            "24 24\n"
          ],
          "name": "stdout"
        }
      ]
    },
    {
      "cell_type": "code",
      "metadata": {
        "id": "VH7E3sy9VOXE"
      },
      "source": [
        ""
      ],
      "execution_count": null,
      "outputs": []
    },
    {
      "cell_type": "code",
      "metadata": {
        "colab": {
          "base_uri": "https://localhost:8080/",
          "height": 235
        },
        "id": "7_m3ebTpkWK5",
        "outputId": "59f0c746-d579-4e23-afe8-21499c1c9967"
      },
      "source": [
        "def model_prepered(X):\n",
        "    model = keras.Sequential()\n",
        "    model.add(LSTM(50, activation='relu'))\n",
        "    #model.add(keras.layers.Dense(50, activation= 'tanh'))\n",
        "    #model.add(keras.layers.Dense(50, activation= 'tanh'))\n",
        "    #model.add(keras.layers.Dense(50, activation= 'tanh'))\n",
        "    model.add(keras.layers.Dense(1, name = 'output_layer'))\n",
        "\n",
        "    model.compile(optimizer='adam', loss='mse')\n",
        "    input_shape = (X.shape[0], X.shape[1], 1)\n",
        "    model.build(input_shape) # `input_shape` is the shape of the input data\n",
        "                            # e.g. input_shape = (None, 32, 32, 3)\n",
        "    model.summary()\n",
        "\n",
        "    return model\n",
        "\n",
        "\n",
        "preds = []\n",
        "trues = []\n",
        "preds_last_for_plot = []\n",
        "\n",
        "for i in range(2, len(X_test)):\n",
        "    model = model_prepered(X)\n",
        "\n",
        "    history = model.fit(X, y, epochs=20, batch_size=2)\n",
        "\n",
        "    pred = model.predict(X_test[i-2:i+1])\n",
        "\n",
        "\n",
        "    preds.append(pred)\n",
        "    trues.append(y_test[i-2:i+1])\n",
        "\n",
        "    np.append(X, X_test[i-2])\n",
        "    np.append(y, y_test[i-2])\n",
        "    preds_last_for_plot.append(pred[0])\n",
        "\n",
        "    "
      ],
      "execution_count": null,
      "outputs": [
        {
          "output_type": "error",
          "ename": "NameError",
          "evalue": "ignored",
          "traceback": [
            "\u001b[0;31m---------------------------------------------------------------------------\u001b[0m",
            "\u001b[0;31mNameError\u001b[0m                                 Traceback (most recent call last)",
            "\u001b[0;32m<ipython-input-11-e3e37db2a312>\u001b[0m in \u001b[0;36m<module>\u001b[0;34m()\u001b[0m\n\u001b[1;32m     20\u001b[0m \u001b[0mpreds_last_for_plot\u001b[0m \u001b[0;34m=\u001b[0m \u001b[0;34m[\u001b[0m\u001b[0;34m]\u001b[0m\u001b[0;34m\u001b[0m\u001b[0;34m\u001b[0m\u001b[0m\n\u001b[1;32m     21\u001b[0m \u001b[0;34m\u001b[0m\u001b[0m\n\u001b[0;32m---> 22\u001b[0;31m \u001b[0;32mfor\u001b[0m \u001b[0mi\u001b[0m \u001b[0;32min\u001b[0m \u001b[0mrange\u001b[0m\u001b[0;34m(\u001b[0m\u001b[0;36m2\u001b[0m\u001b[0;34m,\u001b[0m \u001b[0mlen\u001b[0m\u001b[0;34m(\u001b[0m\u001b[0mX_test\u001b[0m\u001b[0;34m)\u001b[0m\u001b[0;34m)\u001b[0m\u001b[0;34m:\u001b[0m\u001b[0;34m\u001b[0m\u001b[0;34m\u001b[0m\u001b[0m\n\u001b[0m\u001b[1;32m     23\u001b[0m     \u001b[0mmodel\u001b[0m \u001b[0;34m=\u001b[0m \u001b[0mmodel_prepered\u001b[0m\u001b[0;34m(\u001b[0m\u001b[0mX\u001b[0m\u001b[0;34m)\u001b[0m\u001b[0;34m\u001b[0m\u001b[0;34m\u001b[0m\u001b[0m\n\u001b[1;32m     24\u001b[0m \u001b[0;34m\u001b[0m\u001b[0m\n",
            "\u001b[0;31mNameError\u001b[0m: name 'X_test' is not defined"
          ]
        }
      ]
    },
    {
      "cell_type": "code",
      "metadata": {
        "colab": {
          "base_uri": "https://localhost:8080/"
        },
        "id": "J0QjfsS-F3Ep",
        "outputId": "6de1fbcf-e234-4fa7-f5b1-df4b88f36eb8"
      },
      "source": [
        "import math\n",
        "def model_prepered(X):\n",
        "    model = keras.Sequential()\n",
        "    model.add(LSTM(50, activation='tanh'))\n",
        "    #model.add(keras.layers.Dense(50, activation= 'tanh'))\n",
        "    #model.add(keras.layers.Dense(50, activation= 'tanh'))\n",
        "    model.add(keras.layers.Dense(50, activation= 'tanh'))\n",
        "    model.add(keras.layers.Dense(1, name = 'output_layer'))\n",
        "\n",
        "    model.compile(optimizer='adam', loss='mse')\n",
        "    input_shape = (X.shape[0], X.shape[1], 1)\n",
        "    model.build(input_shape) # `input_shape` is the shape of the input data\n",
        "                            # e.g. input_shape = (None, 32, 32, 3)\n",
        "    model.summary()\n",
        "\n",
        "    return model\n",
        "\n",
        "\n",
        "preds = []\n",
        "trues = []\n",
        "model = model_prepered(X)\n",
        "\n",
        "history = model.fit(X, y, epochs=50, batch_size=2)\n",
        "preds = model.predict(X_test)\n",
        "\n",
        "#mses = []\n",
        "\n",
        "#batches = [2, 5, 8, 12]\n",
        "#epoches = [20, 50, 60, 70]\n",
        "\n",
        "#for batch in batches:\n",
        "    #for epoch in epoches:\n",
        "        #history = model.fit(X, y, epochs=epoch, batch_size=batch)\n",
        "        #preds = model.predict(X_test)\n",
        "\n",
        "        #mses.append([batch, epoch, math.sqrt(mse(y_test, preds))])\n",
        "\n",
        "\n",
        "\n",
        "\n",
        "    "
      ],
      "execution_count": null,
      "outputs": [
        {
          "output_type": "stream",
          "text": [
            "Model: \"sequential\"\n",
            "_________________________________________________________________\n",
            "Layer (type)                 Output Shape              Param #   \n",
            "=================================================================\n",
            "lstm (LSTM)                  (776, 50)                 10400     \n",
            "_________________________________________________________________\n",
            "dense (Dense)                (776, 50)                 2550      \n",
            "_________________________________________________________________\n",
            "output_layer (Dense)         (776, 1)                  51        \n",
            "=================================================================\n",
            "Total params: 13,001\n",
            "Trainable params: 13,001\n",
            "Non-trainable params: 0\n",
            "_________________________________________________________________\n",
            "Epoch 1/50\n",
            "388/388 [==============================] - 27s 4ms/step - loss: 0.4591\n",
            "Epoch 2/50\n",
            "388/388 [==============================] - 1s 4ms/step - loss: 0.2840\n",
            "Epoch 3/50\n",
            "388/388 [==============================] - 1s 3ms/step - loss: 0.2106\n",
            "Epoch 4/50\n",
            "388/388 [==============================] - 1s 3ms/step - loss: 0.1939\n",
            "Epoch 5/50\n",
            "388/388 [==============================] - 1s 3ms/step - loss: 0.1640\n",
            "Epoch 6/50\n",
            "388/388 [==============================] - 1s 3ms/step - loss: 0.1191\n",
            "Epoch 7/50\n",
            "388/388 [==============================] - 1s 3ms/step - loss: 0.1125\n",
            "Epoch 8/50\n",
            "388/388 [==============================] - 1s 3ms/step - loss: 0.1067\n",
            "Epoch 9/50\n",
            "388/388 [==============================] - 1s 3ms/step - loss: 0.1132\n",
            "Epoch 10/50\n",
            "388/388 [==============================] - 1s 3ms/step - loss: 0.0984\n",
            "Epoch 11/50\n",
            "388/388 [==============================] - 1s 3ms/step - loss: 0.1048\n",
            "Epoch 12/50\n",
            "388/388 [==============================] - 1s 3ms/step - loss: 0.0965\n",
            "Epoch 13/50\n",
            "388/388 [==============================] - 1s 3ms/step - loss: 0.0880\n",
            "Epoch 14/50\n",
            "388/388 [==============================] - 1s 3ms/step - loss: 0.0920\n",
            "Epoch 15/50\n",
            "388/388 [==============================] - 1s 3ms/step - loss: 0.0983\n",
            "Epoch 16/50\n",
            "388/388 [==============================] - 1s 3ms/step - loss: 0.0880\n",
            "Epoch 17/50\n",
            "388/388 [==============================] - 1s 3ms/step - loss: 0.0852\n",
            "Epoch 18/50\n",
            "388/388 [==============================] - 1s 4ms/step - loss: 0.0919\n",
            "Epoch 19/50\n",
            "388/388 [==============================] - 1s 4ms/step - loss: 0.0876\n",
            "Epoch 20/50\n",
            "388/388 [==============================] - 1s 4ms/step - loss: 0.0888\n",
            "Epoch 21/50\n",
            "388/388 [==============================] - 1s 3ms/step - loss: 0.1016\n",
            "Epoch 22/50\n",
            "388/388 [==============================] - 1s 3ms/step - loss: 0.0937\n",
            "Epoch 23/50\n",
            "388/388 [==============================] - 1s 4ms/step - loss: 0.0962\n",
            "Epoch 24/50\n",
            "388/388 [==============================] - 1s 4ms/step - loss: 0.0954\n",
            "Epoch 25/50\n",
            "388/388 [==============================] - 1s 4ms/step - loss: 0.0974\n",
            "Epoch 26/50\n",
            "388/388 [==============================] - 1s 4ms/step - loss: 0.0851\n",
            "Epoch 27/50\n",
            "388/388 [==============================] - 1s 3ms/step - loss: 0.0912\n",
            "Epoch 28/50\n",
            "388/388 [==============================] - 1s 3ms/step - loss: 0.0794\n",
            "Epoch 29/50\n",
            "388/388 [==============================] - 1s 3ms/step - loss: 0.0922\n",
            "Epoch 30/50\n",
            "388/388 [==============================] - 1s 3ms/step - loss: 0.0850\n",
            "Epoch 31/50\n",
            "388/388 [==============================] - 1s 3ms/step - loss: 0.0805\n",
            "Epoch 32/50\n",
            "388/388 [==============================] - 1s 3ms/step - loss: 0.0868\n",
            "Epoch 33/50\n",
            "388/388 [==============================] - 1s 3ms/step - loss: 0.0861\n",
            "Epoch 34/50\n",
            "388/388 [==============================] - 1s 3ms/step - loss: 0.0889\n",
            "Epoch 35/50\n",
            "388/388 [==============================] - 1s 3ms/step - loss: 0.0914\n",
            "Epoch 36/50\n",
            "388/388 [==============================] - 1s 4ms/step - loss: 0.0896\n",
            "Epoch 37/50\n",
            "388/388 [==============================] - 1s 3ms/step - loss: 0.0892\n",
            "Epoch 38/50\n",
            "388/388 [==============================] - 1s 4ms/step - loss: 0.0873\n",
            "Epoch 39/50\n",
            "388/388 [==============================] - 1s 4ms/step - loss: 0.0875\n",
            "Epoch 40/50\n",
            "388/388 [==============================] - 1s 4ms/step - loss: 0.0895\n",
            "Epoch 41/50\n",
            "388/388 [==============================] - 1s 3ms/step - loss: 0.0817\n",
            "Epoch 42/50\n",
            "388/388 [==============================] - 1s 3ms/step - loss: 0.0797\n",
            "Epoch 43/50\n",
            "388/388 [==============================] - 1s 3ms/step - loss: 0.0877\n",
            "Epoch 44/50\n",
            "388/388 [==============================] - 1s 3ms/step - loss: 0.0916\n",
            "Epoch 45/50\n",
            "388/388 [==============================] - 1s 3ms/step - loss: 0.0867\n",
            "Epoch 46/50\n",
            "388/388 [==============================] - 1s 3ms/step - loss: 0.0785\n",
            "Epoch 47/50\n",
            "388/388 [==============================] - 1s 4ms/step - loss: 0.0854\n",
            "Epoch 48/50\n",
            "388/388 [==============================] - 1s 3ms/step - loss: 0.0832\n",
            "Epoch 49/50\n",
            "388/388 [==============================] - 1s 4ms/step - loss: 0.0856\n",
            "Epoch 50/50\n",
            "388/388 [==============================] - 1s 3ms/step - loss: 0.0763\n"
          ],
          "name": "stdout"
        }
      ]
    },
    {
      "cell_type": "code",
      "metadata": {
        "colab": {
          "base_uri": "https://localhost:8080/",
          "height": 409
        },
        "id": "zZ7rcx8ZNX_r",
        "outputId": "d0fa40b2-b009-427b-c315-604189bd0064"
      },
      "source": [
        "from sklearn.metrics import mean_squared_error as mse\n",
        "import math\n",
        "import matplotlib.pyplot as plt \n",
        "\n",
        "print(\"mse = {}\".format(mse(y_test, preds)))\n",
        "print(\"rmse = {}\".format(math.sqrt(mse(y_test, preds))))\n",
        "\n",
        "plt.figure(figsize=(15, 6))\n",
        "plt.plot(df.index, df.oni)\n",
        "plt.plot(df.tail(len(y_test)).index, preds)\n",
        "plt.show()"
      ],
      "execution_count": null,
      "outputs": [
        {
          "output_type": "stream",
          "text": [
            "mse = 0.16780074082703647\n",
            "rmse = 0.4096348872191387\n"
          ],
          "name": "stdout"
        },
        {
          "output_type": "display_data",
          "data": {
            "image/png": "[encoded data removed]",
            "text/plain": [
              "<Figure size 1080x432 with 1 Axes>"
            ]
          },
          "metadata": {
            "tags": [],
            "needs_background": "light"
          }
        }
      ]
    },
    {
      "cell_type": "code",
      "metadata": {
        "colab": {
          "base_uri": "https://localhost:8080/"
        },
        "id": "H0JFOFdOWiCh",
        "outputId": "8c7974b5-6ebe-451a-a0f3-838106c66b80"
      },
      "source": [
        "mean = np.mean(y)\n",
        "ar_days = []\n",
        "cnt_days = 0\n",
        "for i in range(len(preds)):\n",
        "    #print(preds[i] , mean)\n",
        "    if abs(preds[i] - mean) >= 0.4:\n",
        "      cnt_days += 1\n",
        "    else:\n",
        "      ar_days.append(cnt_days)\n",
        "      cnt_days = 0\n",
        "print(cnt_days)\n",
        "print(ar_days)"
      ],
      "execution_count": null,
      "outputs": [
        {
          "output_type": "stream",
          "text": [
            "0\n",
            "[8, 0, 0, 0, 0, 0, 2, 0, 0, 2, 0, 0]\n"
          ],
          "name": "stdout"
        }
      ]
    },
    {
      "cell_type": "code",
      "metadata": {
        "colab": {
          "base_uri": "https://localhost:8080/"
        },
        "id": "X0NcIdqKLSCj",
        "outputId": "2012d580-1ca7-423f-ac2c-ee83b1222875"
      },
      "source": [
        "min([el[2] for el in mses])"
      ],
      "execution_count": null,
      "outputs": [
        {
          "output_type": "execute_result",
          "data": {
            "text/plain": [
              "(0.3250377945803842,\n",
              " [[2, 20, 0.3465888875617353],\n",
              "  [2, 50, 0.3250377945803842],\n",
              "  [2, 60, 0.3822837911043956],\n",
              "  [2, 70, 0.3955625719289356],\n",
              "  [5, 20, 0.37516606653555656],\n",
              "  [5, 50, 0.3806873507180991],\n",
              "  [5, 60, 0.41171402804254215],\n",
              "  [5, 70, 0.4254784847670681],\n",
              "  [8, 20, 0.42455334491844016],\n",
              "  [8, 50, 0.42346337910467097],\n",
              "  [8, 60, 0.4371809115063977],\n",
              "  [8, 70, 0.453832925976193],\n",
              "  [12, 20, 0.45658530845991],\n",
              "  [12, 50, 0.4971946332317551],\n",
              "  [12, 60, 0.5091970324614216],\n",
              "  [12, 70, 0.5015555494433465]])"
            ]
          },
          "metadata": {
            "tags": []
          },
          "execution_count": 34
        }
      ]
    },
    {
      "cell_type": "code",
      "metadata": {
        "colab": {
          "base_uri": "https://localhost:8080/",
          "height": 300
        },
        "id": "TExZPGhZGa6k",
        "outputId": "78026b81-fda6-4830-9567-52e549736d1c"
      },
      "source": [
        "#epochs\n",
        "\n",
        "print(\"min: {}\".format(min(mses)))\n",
        "plt.plot([20, 50, 100, 150], mses)"
      ],
      "execution_count": null,
      "outputs": [
        {
          "output_type": "stream",
          "text": [
            "min: 0.30537456712074923\n"
          ],
          "name": "stdout"
        },
        {
          "output_type": "execute_result",
          "data": {
            "text/plain": [
              "[<matplotlib.lines.Line2D at 0x7fc7c406b090>]"
            ]
          },
          "metadata": {
            "tags": []
          },
          "execution_count": 27
        },
        {
          "output_type": "display_data",
          "data": {
            "image/png": "[encoded data removed]",
            "text/plain": [
              "<Figure size 432x288 with 1 Axes>"
            ]
          },
          "metadata": {
            "tags": []
          }
        }
      ]
    },
    {
      "cell_type": "code",
      "metadata": {
        "colab": {
          "base_uri": "https://localhost:8080/",
          "height": 300
        },
        "id": "KkHZBAr5oIi2",
        "outputId": "e1e6828a-c4b5-45d8-a03b-6c25de75f4e8"
      },
      "source": [
        "#batches\n",
        "\n",
        "print(\"min: {}\".format(min(mses)))\n",
        "plt.plot([i+2 for i in range(len(mses))], [mses[i] for i in range(len(mses))])"
      ],
      "execution_count": null,
      "outputs": [
        {
          "output_type": "stream",
          "text": [
            "min: 0.28373404374543587\n"
          ],
          "name": "stdout"
        },
        {
          "output_type": "execute_result",
          "data": {
            "text/plain": [
              "[<matplotlib.lines.Line2D at 0x7fc7c305b2d0>]"
            ]
          },
          "metadata": {
            "tags": []
          },
          "execution_count": 25
        },
        {
          "output_type": "display_data",
          "data": {
            "image/png": "[encoded data removed]",
            "text/plain": [
              "<Figure size 432x288 with 1 Axes>"
            ]
          },
          "metadata": {
            "tags": []
          }
        }
      ]
    },
    {
      "cell_type": "code",
      "metadata": {
        "colab": {
          "base_uri": "https://localhost:8080/",
          "height": 409
        },
        "id": "n9Vewvo3GWA4",
        "outputId": "c5d7324f-fd92-4a86-a14b-69ecba60de85"
      },
      "source": [
        "from sklearn.metrics import mean_squared_error as mse\n",
        "import math\n",
        "import matplotlib.pyplot as plt \n",
        "\n",
        "print(\"mse = {}\".format(mse(y_test, preds)))\n",
        "print(\"rmse = {}\".format(math.sqrt(mse(y_test, preds))))\n",
        "\n",
        "plt.figure(figsize=(15, 6))\n",
        "plt.plot(df.index, df.oni)\n",
        "plt.plot(df.tail(36).index, preds)\n",
        "plt.show()"
      ],
      "execution_count": null,
      "outputs": [
        {
          "output_type": "stream",
          "text": [
            "mse = 0.10446155215632881\n",
            "rmse = 0.3232051239636043\n"
          ],
          "name": "stdout"
        },
        {
          "output_type": "display_data",
          "data": {
            "image/png": "[encoded data removed]",
            "text/plain": [
              "<Figure size 1080x432 with 1 Axes>"
            ]
          },
          "metadata": {
            "tags": []
          }
        }
      ]
    },
    {
      "cell_type": "code",
      "metadata": {
        "colab": {
          "base_uri": "https://localhost:8080/"
        },
        "id": "NPC3cLKlD_I6",
        "outputId": "280191a2-5878-40fb-d40e-421c87e04ecb"
      },
      "source": [
        "np.mean(y)"
      ],
      "execution_count": null,
      "outputs": [
        {
          "output_type": "execute_result",
          "data": {
            "text/plain": [
              "0.010602094240837693"
            ]
          },
          "metadata": {
            "tags": []
          },
          "execution_count": 16
        }
      ]
    },
    {
      "cell_type": "code",
      "metadata": {
        "colab": {
          "base_uri": "https://localhost:8080/"
        },
        "id": "7DABXP2eQspM",
        "outputId": "e8e92dba-5e3f-440e-ea72-a6b0a6ece265"
      },
      "source": [
        "from keras.layers import Dropout\n",
        "\n",
        "nb_out = 1\n",
        "\n",
        "model = Sequential()\n",
        "\n",
        "model.add(LSTM(\n",
        "         units=100,\n",
        "         return_sequences=True))\n",
        "model.add(Dropout(0.2))\n",
        "\n",
        "model.add(LSTM(units=50,return_sequences=False))\n",
        "model.add(Dropout(0.2))\n",
        "\n",
        "model.add(Dense(units=nb_out, activation='tanh'))\n",
        "model.compile(loss='mse', optimizer='adam', metrics=['mse'])\n",
        "\n",
        "#print(model.summary())\n",
        "\n",
        "# fit the network\n",
        "history = model.fit(X, y, epochs=50, batch_size=2, validation_split=0.05, verbose=2)\n",
        "\n",
        "\n",
        "\n",
        "\n",
        "    "
      ],
      "execution_count": null,
      "outputs": [
        {
          "output_type": "stream",
          "text": [
            "Epoch 1/50\n",
            "363/363 - 33s - loss: 0.3856 - mse: 0.3856 - val_loss: 0.1589 - val_mse: 0.1589\n",
            "Epoch 2/50\n",
            "363/363 - 2s - loss: 0.2862 - mse: 0.2862 - val_loss: 0.1746 - val_mse: 0.1746\n",
            "Epoch 3/50\n",
            "363/363 - 2s - loss: 0.2536 - mse: 0.2536 - val_loss: 0.1883 - val_mse: 0.1883\n",
            "Epoch 4/50\n",
            "363/363 - 2s - loss: 0.2329 - mse: 0.2329 - val_loss: 0.2822 - val_mse: 0.2822\n",
            "Epoch 5/50\n",
            "363/363 - 2s - loss: 0.2028 - mse: 0.2028 - val_loss: 0.0956 - val_mse: 0.0956\n",
            "Epoch 6/50\n",
            "363/363 - 2s - loss: 0.1843 - mse: 0.1843 - val_loss: 0.1302 - val_mse: 0.1302\n",
            "Epoch 7/50\n",
            "363/363 - 2s - loss: 0.1843 - mse: 0.1843 - val_loss: 0.2209 - val_mse: 0.2209\n",
            "Epoch 8/50\n",
            "363/363 - 2s - loss: 0.1601 - mse: 0.1601 - val_loss: 0.1697 - val_mse: 0.1697\n",
            "Epoch 9/50\n",
            "363/363 - 2s - loss: 0.1602 - mse: 0.1602 - val_loss: 0.1410 - val_mse: 0.1410\n",
            "Epoch 10/50\n",
            "363/363 - 2s - loss: 0.1476 - mse: 0.1476 - val_loss: 0.1148 - val_mse: 0.1148\n",
            "Epoch 11/50\n",
            "363/363 - 2s - loss: 0.1520 - mse: 0.1520 - val_loss: 0.1759 - val_mse: 0.1759\n",
            "Epoch 12/50\n",
            "363/363 - 2s - loss: 0.1480 - mse: 0.1480 - val_loss: 0.0967 - val_mse: 0.0967\n",
            "Epoch 13/50\n",
            "363/363 - 2s - loss: 0.1494 - mse: 0.1494 - val_loss: 0.1043 - val_mse: 0.1043\n",
            "Epoch 14/50\n",
            "363/363 - 2s - loss: 0.1459 - mse: 0.1459 - val_loss: 0.1413 - val_mse: 0.1413\n",
            "Epoch 15/50\n",
            "363/363 - 2s - loss: 0.1442 - mse: 0.1442 - val_loss: 0.1336 - val_mse: 0.1336\n",
            "Epoch 16/50\n",
            "363/363 - 2s - loss: 0.1430 - mse: 0.1430 - val_loss: 0.0903 - val_mse: 0.0903\n",
            "Epoch 17/50\n",
            "363/363 - 2s - loss: 0.1423 - mse: 0.1423 - val_loss: 0.1377 - val_mse: 0.1377\n",
            "Epoch 18/50\n",
            "363/363 - 2s - loss: 0.1397 - mse: 0.1397 - val_loss: 0.1585 - val_mse: 0.1585\n",
            "Epoch 19/50\n",
            "363/363 - 2s - loss: 0.1393 - mse: 0.1393 - val_loss: 0.1921 - val_mse: 0.1921\n",
            "Epoch 20/50\n",
            "363/363 - 2s - loss: 0.1414 - mse: 0.1414 - val_loss: 0.1175 - val_mse: 0.1175\n",
            "Epoch 21/50\n",
            "363/363 - 2s - loss: 0.1402 - mse: 0.1402 - val_loss: 0.1553 - val_mse: 0.1553\n",
            "Epoch 22/50\n",
            "363/363 - 2s - loss: 0.1374 - mse: 0.1374 - val_loss: 0.1596 - val_mse: 0.1596\n",
            "Epoch 23/50\n",
            "363/363 - 2s - loss: 0.1377 - mse: 0.1377 - val_loss: 0.1183 - val_mse: 0.1183\n",
            "Epoch 24/50\n",
            "363/363 - 2s - loss: 0.1376 - mse: 0.1376 - val_loss: 0.1298 - val_mse: 0.1298\n",
            "Epoch 25/50\n",
            "363/363 - 2s - loss: 0.1405 - mse: 0.1405 - val_loss: 0.1461 - val_mse: 0.1461\n",
            "Epoch 26/50\n",
            "363/363 - 2s - loss: 0.1392 - mse: 0.1392 - val_loss: 0.1185 - val_mse: 0.1185\n",
            "Epoch 27/50\n",
            "363/363 - 2s - loss: 0.1402 - mse: 0.1402 - val_loss: 0.1401 - val_mse: 0.1401\n",
            "Epoch 28/50\n",
            "363/363 - 2s - loss: 0.1393 - mse: 0.1393 - val_loss: 0.1201 - val_mse: 0.1201\n",
            "Epoch 29/50\n",
            "363/363 - 2s - loss: 0.1368 - mse: 0.1368 - val_loss: 0.1513 - val_mse: 0.1513\n",
            "Epoch 30/50\n",
            "363/363 - 2s - loss: 0.1356 - mse: 0.1356 - val_loss: 0.1557 - val_mse: 0.1557\n",
            "Epoch 31/50\n",
            "363/363 - 2s - loss: 0.1334 - mse: 0.1334 - val_loss: 0.1432 - val_mse: 0.1432\n",
            "Epoch 32/50\n",
            "363/363 - 2s - loss: 0.1362 - mse: 0.1362 - val_loss: 0.1365 - val_mse: 0.1365\n",
            "Epoch 33/50\n",
            "363/363 - 2s - loss: 0.1350 - mse: 0.1350 - val_loss: 0.1516 - val_mse: 0.1516\n",
            "Epoch 34/50\n",
            "363/363 - 2s - loss: 0.1349 - mse: 0.1349 - val_loss: 0.1274 - val_mse: 0.1274\n",
            "Epoch 35/50\n",
            "363/363 - 2s - loss: 0.1342 - mse: 0.1342 - val_loss: 0.1256 - val_mse: 0.1256\n",
            "Epoch 36/50\n",
            "363/363 - 2s - loss: 0.1335 - mse: 0.1335 - val_loss: 0.1371 - val_mse: 0.1371\n",
            "Epoch 37/50\n",
            "363/363 - 2s - loss: 0.1343 - mse: 0.1343 - val_loss: 0.1626 - val_mse: 0.1626\n",
            "Epoch 38/50\n",
            "363/363 - 2s - loss: 0.1347 - mse: 0.1347 - val_loss: 0.1139 - val_mse: 0.1139\n",
            "Epoch 39/50\n",
            "363/363 - 2s - loss: 0.1327 - mse: 0.1327 - val_loss: 0.1560 - val_mse: 0.1560\n",
            "Epoch 40/50\n",
            "363/363 - 2s - loss: 0.1352 - mse: 0.1352 - val_loss: 0.1265 - val_mse: 0.1265\n",
            "Epoch 41/50\n",
            "363/363 - 2s - loss: 0.1316 - mse: 0.1316 - val_loss: 0.1421 - val_mse: 0.1421\n",
            "Epoch 42/50\n",
            "363/363 - 2s - loss: 0.1324 - mse: 0.1324 - val_loss: 0.1849 - val_mse: 0.1849\n",
            "Epoch 43/50\n",
            "363/363 - 2s - loss: 0.1338 - mse: 0.1338 - val_loss: 0.1323 - val_mse: 0.1323\n",
            "Epoch 44/50\n",
            "363/363 - 2s - loss: 0.1348 - mse: 0.1348 - val_loss: 0.1322 - val_mse: 0.1322\n",
            "Epoch 45/50\n",
            "363/363 - 2s - loss: 0.1322 - mse: 0.1322 - val_loss: 0.1439 - val_mse: 0.1439\n",
            "Epoch 46/50\n",
            "363/363 - 2s - loss: 0.1337 - mse: 0.1337 - val_loss: 0.1743 - val_mse: 0.1743\n",
            "Epoch 47/50\n",
            "363/363 - 2s - loss: 0.1327 - mse: 0.1327 - val_loss: 0.1812 - val_mse: 0.1812\n",
            "Epoch 48/50\n",
            "363/363 - 2s - loss: 0.1340 - mse: 0.1340 - val_loss: 0.1056 - val_mse: 0.1056\n",
            "Epoch 49/50\n",
            "363/363 - 2s - loss: 0.1343 - mse: 0.1343 - val_loss: 0.1500 - val_mse: 0.1500\n",
            "Epoch 50/50\n",
            "363/363 - 2s - loss: 0.1339 - mse: 0.1339 - val_loss: 0.1283 - val_mse: 0.1283\n"
          ],
          "name": "stdout"
        }
      ]
    },
    {
      "cell_type": "code",
      "metadata": {
        "colab": {
          "base_uri": "https://localhost:8080/",
          "height": 409
        },
        "id": "LrShvJ2ETShX",
        "outputId": "44663124-deaa-4cd9-9b98-9f9ab55dc755"
      },
      "source": [
        "from sklearn.metrics import mean_squared_error as mse\n",
        "import math\n",
        "import matplotlib.pyplot as plt \n",
        "\n",
        "preds = model.predict(X_test)\n",
        "\n",
        "print(\"mse = {}\".format(mse(y_test, preds)))\n",
        "print(\"rmse = {}\".format(math.sqrt(mse(y_test, preds))))\n",
        "\n",
        "plt.figure(figsize=(15, 6))\n",
        "plt.plot(df.index, df.oni)\n",
        "plt.plot(df.tail(36).index, preds)\n",
        "plt.show()"
      ],
      "execution_count": null,
      "outputs": [
        {
          "output_type": "stream",
          "text": [
            "mse = 0.41338745520350656\n",
            "rmse = 0.6429521406788429\n"
          ],
          "name": "stdout"
        },
        {
          "output_type": "display_data",
          "data": {
            "image/png": "[encoded data removed]",
            "text/plain": [
              "<Figure size 1080x432 with 1 Axes>"
            ]
          },
          "metadata": {
            "tags": []
          }
        }
      ]
    },
    {
      "cell_type": "code",
      "metadata": {
        "colab": {
          "base_uri": "https://localhost:8080/",
          "height": 675
        },
        "id": "n_VuCMnuIrwY",
        "outputId": "bd4fcba8-04f8-4293-a94c-7a28a5067469"
      },
      "source": [
        "def create_model(X, metric):\n",
        "    model = Sequential()\n",
        "\n",
        "    #model.add(LSTM(50, activation='relu'))\n",
        "    model.add(Conv2D(32, (2,2), padding='same', activation='relu', input_shape=(X.shape[0], X.shape[1], 1)))\n",
        "    print(1)\n",
        "    model.add(MaxPooling2D(pool_size=2))\n",
        "    print(2)\n",
        "    model.add(keras.layers.Dense(1, name = 'output_layer'))\n",
        "    print(3)\n",
        "    model.compile(optimizer='adam', loss='mean_squared_error', metrics=[metric])\n",
        "\n",
        "    model.fit(X, y, epochs=20, batch_size=2)\n",
        "    #input_shape = (2, 2, 1)\n",
        "    #model.build(input_shape)\n",
        "\n",
        "    #print(model.summary())\n",
        "    return model \n",
        "\n",
        "model = create_model(X, 'mse')\n",
        "\n",
        "\n",
        "preds = model.predict(X_test)"
      ],
      "execution_count": null,
      "outputs": [
        {
          "output_type": "stream",
          "text": [
            "1\n",
            "2\n",
            "3\n",
            "Epoch 1/20\n"
          ],
          "name": "stdout"
        },
        {
          "output_type": "error",
          "ename": "ValueError",
          "evalue": "ignored",
          "traceback": [
            "\u001b[0;31m---------------------------------------------------------------------------\u001b[0m",
            "\u001b[0;31mValueError\u001b[0m                                Traceback (most recent call last)",
            "\u001b[0;32m<ipython-input-20-9739a1544a6d>\u001b[0m in \u001b[0;36m<module>\u001b[0;34m()\u001b[0m\n\u001b[1;32m     18\u001b[0m     \u001b[0;32mreturn\u001b[0m \u001b[0mmodel\u001b[0m\u001b[0;34m\u001b[0m\u001b[0;34m\u001b[0m\u001b[0m\n\u001b[1;32m     19\u001b[0m \u001b[0;34m\u001b[0m\u001b[0m\n\u001b[0;32m---> 20\u001b[0;31m \u001b[0mmodel\u001b[0m \u001b[0;34m=\u001b[0m \u001b[0mcreate_model\u001b[0m\u001b[0;34m(\u001b[0m\u001b[0mX\u001b[0m\u001b[0;34m,\u001b[0m \u001b[0;34m'mse'\u001b[0m\u001b[0;34m)\u001b[0m\u001b[0;34m\u001b[0m\u001b[0;34m\u001b[0m\u001b[0m\n\u001b[0m\u001b[1;32m     21\u001b[0m \u001b[0;34m\u001b[0m\u001b[0m\n\u001b[1;32m     22\u001b[0m \u001b[0;34m\u001b[0m\u001b[0m\n",
            "\u001b[0;32m<ipython-input-20-9739a1544a6d>\u001b[0m in \u001b[0;36mcreate_model\u001b[0;34m(X, metric)\u001b[0m\n\u001b[1;32m     11\u001b[0m     \u001b[0mmodel\u001b[0m\u001b[0;34m.\u001b[0m\u001b[0mcompile\u001b[0m\u001b[0;34m(\u001b[0m\u001b[0moptimizer\u001b[0m\u001b[0;34m=\u001b[0m\u001b[0;34m'adam'\u001b[0m\u001b[0;34m,\u001b[0m \u001b[0mloss\u001b[0m\u001b[0;34m=\u001b[0m\u001b[0;34m'mean_squared_error'\u001b[0m\u001b[0;34m,\u001b[0m \u001b[0mmetrics\u001b[0m\u001b[0;34m=\u001b[0m\u001b[0;34m[\u001b[0m\u001b[0mmetric\u001b[0m\u001b[0;34m]\u001b[0m\u001b[0;34m)\u001b[0m\u001b[0;34m\u001b[0m\u001b[0;34m\u001b[0m\u001b[0m\n\u001b[1;32m     12\u001b[0m \u001b[0;34m\u001b[0m\u001b[0m\n\u001b[0;32m---> 13\u001b[0;31m     \u001b[0mmodel\u001b[0m\u001b[0;34m.\u001b[0m\u001b[0mfit\u001b[0m\u001b[0;34m(\u001b[0m\u001b[0mX\u001b[0m\u001b[0;34m,\u001b[0m \u001b[0my\u001b[0m\u001b[0;34m,\u001b[0m \u001b[0mepochs\u001b[0m\u001b[0;34m=\u001b[0m\u001b[0;36m20\u001b[0m\u001b[0;34m,\u001b[0m \u001b[0mbatch_size\u001b[0m\u001b[0;34m=\u001b[0m\u001b[0;36m2\u001b[0m\u001b[0;34m)\u001b[0m\u001b[0;34m\u001b[0m\u001b[0;34m\u001b[0m\u001b[0m\n\u001b[0m\u001b[1;32m     14\u001b[0m     \u001b[0;31m#input_shape = (2, 2, 1)\u001b[0m\u001b[0;34m\u001b[0m\u001b[0;34m\u001b[0m\u001b[0;34m\u001b[0m\u001b[0m\n\u001b[1;32m     15\u001b[0m     \u001b[0;31m#model.build(input_shape)\u001b[0m\u001b[0;34m\u001b[0m\u001b[0;34m\u001b[0m\u001b[0;34m\u001b[0m\u001b[0m\n",
            "\u001b[0;32m/usr/local/lib/python3.7/dist-packages/keras/engine/training.py\u001b[0m in \u001b[0;36mfit\u001b[0;34m(self, x, y, batch_size, epochs, verbose, callbacks, validation_split, validation_data, shuffle, class_weight, sample_weight, initial_epoch, steps_per_epoch, validation_steps, validation_batch_size, validation_freq, max_queue_size, workers, use_multiprocessing)\u001b[0m\n\u001b[1;32m   1156\u001b[0m                 _r=1):\n\u001b[1;32m   1157\u001b[0m               \u001b[0mcallbacks\u001b[0m\u001b[0;34m.\u001b[0m\u001b[0mon_train_batch_begin\u001b[0m\u001b[0;34m(\u001b[0m\u001b[0mstep\u001b[0m\u001b[0;34m)\u001b[0m\u001b[0;34m\u001b[0m\u001b[0;34m\u001b[0m\u001b[0m\n\u001b[0;32m-> 1158\u001b[0;31m               \u001b[0mtmp_logs\u001b[0m \u001b[0;34m=\u001b[0m \u001b[0mself\u001b[0m\u001b[0;34m.\u001b[0m\u001b[0mtrain_function\u001b[0m\u001b[0;34m(\u001b[0m\u001b[0miterator\u001b[0m\u001b[0;34m)\u001b[0m\u001b[0;34m\u001b[0m\u001b[0;34m\u001b[0m\u001b[0m\n\u001b[0m\u001b[1;32m   1159\u001b[0m               \u001b[0;32mif\u001b[0m \u001b[0mdata_handler\u001b[0m\u001b[0;34m.\u001b[0m\u001b[0mshould_sync\u001b[0m\u001b[0;34m:\u001b[0m\u001b[0;34m\u001b[0m\u001b[0;34m\u001b[0m\u001b[0m\n\u001b[1;32m   1160\u001b[0m                 \u001b[0mcontext\u001b[0m\u001b[0;34m.\u001b[0m\u001b[0masync_wait\u001b[0m\u001b[0;34m(\u001b[0m\u001b[0;34m)\u001b[0m\u001b[0;34m\u001b[0m\u001b[0;34m\u001b[0m\u001b[0m\n",
            "\u001b[0;32m/usr/local/lib/python3.7/dist-packages/tensorflow/python/eager/def_function.py\u001b[0m in \u001b[0;36m__call__\u001b[0;34m(self, *args, **kwds)\u001b[0m\n\u001b[1;32m    887\u001b[0m \u001b[0;34m\u001b[0m\u001b[0m\n\u001b[1;32m    888\u001b[0m       \u001b[0;32mwith\u001b[0m \u001b[0mOptionalXlaContext\u001b[0m\u001b[0;34m(\u001b[0m\u001b[0mself\u001b[0m\u001b[0;34m.\u001b[0m\u001b[0m_jit_compile\u001b[0m\u001b[0;34m)\u001b[0m\u001b[0;34m:\u001b[0m\u001b[0;34m\u001b[0m\u001b[0;34m\u001b[0m\u001b[0m\n\u001b[0;32m--> 889\u001b[0;31m         \u001b[0mresult\u001b[0m \u001b[0;34m=\u001b[0m \u001b[0mself\u001b[0m\u001b[0;34m.\u001b[0m\u001b[0m_call\u001b[0m\u001b[0;34m(\u001b[0m\u001b[0;34m*\u001b[0m\u001b[0margs\u001b[0m\u001b[0;34m,\u001b[0m \u001b[0;34m**\u001b[0m\u001b[0mkwds\u001b[0m\u001b[0;34m)\u001b[0m\u001b[0;34m\u001b[0m\u001b[0;34m\u001b[0m\u001b[0m\n\u001b[0m\u001b[1;32m    890\u001b[0m \u001b[0;34m\u001b[0m\u001b[0m\n\u001b[1;32m    891\u001b[0m       \u001b[0mnew_tracing_count\u001b[0m \u001b[0;34m=\u001b[0m \u001b[0mself\u001b[0m\u001b[0;34m.\u001b[0m\u001b[0mexperimental_get_tracing_count\u001b[0m\u001b[0;34m(\u001b[0m\u001b[0;34m)\u001b[0m\u001b[0;34m\u001b[0m\u001b[0;34m\u001b[0m\u001b[0m\n",
            "\u001b[0;32m/usr/local/lib/python3.7/dist-packages/tensorflow/python/eager/def_function.py\u001b[0m in \u001b[0;36m_call\u001b[0;34m(self, *args, **kwds)\u001b[0m\n\u001b[1;32m    931\u001b[0m       \u001b[0;31m# This is the first call of __call__, so we have to initialize.\u001b[0m\u001b[0;34m\u001b[0m\u001b[0;34m\u001b[0m\u001b[0;34m\u001b[0m\u001b[0m\n\u001b[1;32m    932\u001b[0m       \u001b[0minitializers\u001b[0m \u001b[0;34m=\u001b[0m \u001b[0;34m[\u001b[0m\u001b[0;34m]\u001b[0m\u001b[0;34m\u001b[0m\u001b[0;34m\u001b[0m\u001b[0m\n\u001b[0;32m--> 933\u001b[0;31m       \u001b[0mself\u001b[0m\u001b[0;34m.\u001b[0m\u001b[0m_initialize\u001b[0m\u001b[0;34m(\u001b[0m\u001b[0margs\u001b[0m\u001b[0;34m,\u001b[0m \u001b[0mkwds\u001b[0m\u001b[0;34m,\u001b[0m \u001b[0madd_initializers_to\u001b[0m\u001b[0;34m=\u001b[0m\u001b[0minitializers\u001b[0m\u001b[0;34m)\u001b[0m\u001b[0;34m\u001b[0m\u001b[0;34m\u001b[0m\u001b[0m\n\u001b[0m\u001b[1;32m    934\u001b[0m     \u001b[0;32mfinally\u001b[0m\u001b[0;34m:\u001b[0m\u001b[0;34m\u001b[0m\u001b[0;34m\u001b[0m\u001b[0m\n\u001b[1;32m    935\u001b[0m       \u001b[0;31m# At this point we know that the initialization is complete (or less\u001b[0m\u001b[0;34m\u001b[0m\u001b[0;34m\u001b[0m\u001b[0;34m\u001b[0m\u001b[0m\n",
            "\u001b[0;32m/usr/local/lib/python3.7/dist-packages/tensorflow/python/eager/def_function.py\u001b[0m in \u001b[0;36m_initialize\u001b[0;34m(self, args, kwds, add_initializers_to)\u001b[0m\n\u001b[1;32m    762\u001b[0m     self._concrete_stateful_fn = (\n\u001b[1;32m    763\u001b[0m         self._stateful_fn._get_concrete_function_internal_garbage_collected(  # pylint: disable=protected-access\n\u001b[0;32m--> 764\u001b[0;31m             *args, **kwds))\n\u001b[0m\u001b[1;32m    765\u001b[0m \u001b[0;34m\u001b[0m\u001b[0m\n\u001b[1;32m    766\u001b[0m     \u001b[0;32mdef\u001b[0m \u001b[0minvalid_creator_scope\u001b[0m\u001b[0;34m(\u001b[0m\u001b[0;34m*\u001b[0m\u001b[0munused_args\u001b[0m\u001b[0;34m,\u001b[0m \u001b[0;34m**\u001b[0m\u001b[0munused_kwds\u001b[0m\u001b[0;34m)\u001b[0m\u001b[0;34m:\u001b[0m\u001b[0;34m\u001b[0m\u001b[0;34m\u001b[0m\u001b[0m\n",
            "\u001b[0;32m/usr/local/lib/python3.7/dist-packages/tensorflow/python/eager/function.py\u001b[0m in \u001b[0;36m_get_concrete_function_internal_garbage_collected\u001b[0;34m(self, *args, **kwargs)\u001b[0m\n\u001b[1;32m   3048\u001b[0m       \u001b[0margs\u001b[0m\u001b[0;34m,\u001b[0m \u001b[0mkwargs\u001b[0m \u001b[0;34m=\u001b[0m \u001b[0;32mNone\u001b[0m\u001b[0;34m,\u001b[0m \u001b[0;32mNone\u001b[0m\u001b[0;34m\u001b[0m\u001b[0;34m\u001b[0m\u001b[0m\n\u001b[1;32m   3049\u001b[0m     \u001b[0;32mwith\u001b[0m \u001b[0mself\u001b[0m\u001b[0;34m.\u001b[0m\u001b[0m_lock\u001b[0m\u001b[0;34m:\u001b[0m\u001b[0;34m\u001b[0m\u001b[0;34m\u001b[0m\u001b[0m\n\u001b[0;32m-> 3050\u001b[0;31m       \u001b[0mgraph_function\u001b[0m\u001b[0;34m,\u001b[0m \u001b[0m_\u001b[0m \u001b[0;34m=\u001b[0m \u001b[0mself\u001b[0m\u001b[0;34m.\u001b[0m\u001b[0m_maybe_define_function\u001b[0m\u001b[0;34m(\u001b[0m\u001b[0margs\u001b[0m\u001b[0;34m,\u001b[0m \u001b[0mkwargs\u001b[0m\u001b[0;34m)\u001b[0m\u001b[0;34m\u001b[0m\u001b[0;34m\u001b[0m\u001b[0m\n\u001b[0m\u001b[1;32m   3051\u001b[0m     \u001b[0;32mreturn\u001b[0m \u001b[0mgraph_function\u001b[0m\u001b[0;34m\u001b[0m\u001b[0;34m\u001b[0m\u001b[0m\n\u001b[1;32m   3052\u001b[0m \u001b[0;34m\u001b[0m\u001b[0m\n",
            "\u001b[0;32m/usr/local/lib/python3.7/dist-packages/tensorflow/python/eager/function.py\u001b[0m in \u001b[0;36m_maybe_define_function\u001b[0;34m(self, args, kwargs)\u001b[0m\n\u001b[1;32m   3442\u001b[0m \u001b[0;34m\u001b[0m\u001b[0m\n\u001b[1;32m   3443\u001b[0m           \u001b[0mself\u001b[0m\u001b[0;34m.\u001b[0m\u001b[0m_function_cache\u001b[0m\u001b[0;34m.\u001b[0m\u001b[0mmissed\u001b[0m\u001b[0;34m.\u001b[0m\u001b[0madd\u001b[0m\u001b[0;34m(\u001b[0m\u001b[0mcall_context_key\u001b[0m\u001b[0;34m)\u001b[0m\u001b[0;34m\u001b[0m\u001b[0;34m\u001b[0m\u001b[0m\n\u001b[0;32m-> 3444\u001b[0;31m           \u001b[0mgraph_function\u001b[0m \u001b[0;34m=\u001b[0m \u001b[0mself\u001b[0m\u001b[0;34m.\u001b[0m\u001b[0m_create_graph_function\u001b[0m\u001b[0;34m(\u001b[0m\u001b[0margs\u001b[0m\u001b[0;34m,\u001b[0m \u001b[0mkwargs\u001b[0m\u001b[0;34m)\u001b[0m\u001b[0;34m\u001b[0m\u001b[0;34m\u001b[0m\u001b[0m\n\u001b[0m\u001b[1;32m   3445\u001b[0m           \u001b[0mself\u001b[0m\u001b[0;34m.\u001b[0m\u001b[0m_function_cache\u001b[0m\u001b[0;34m.\u001b[0m\u001b[0mprimary\u001b[0m\u001b[0;34m[\u001b[0m\u001b[0mcache_key\u001b[0m\u001b[0;34m]\u001b[0m \u001b[0;34m=\u001b[0m \u001b[0mgraph_function\u001b[0m\u001b[0;34m\u001b[0m\u001b[0;34m\u001b[0m\u001b[0m\n\u001b[1;32m   3446\u001b[0m \u001b[0;34m\u001b[0m\u001b[0m\n",
            "\u001b[0;32m/usr/local/lib/python3.7/dist-packages/tensorflow/python/eager/function.py\u001b[0m in \u001b[0;36m_create_graph_function\u001b[0;34m(self, args, kwargs, override_flat_arg_shapes)\u001b[0m\n\u001b[1;32m   3287\u001b[0m             \u001b[0marg_names\u001b[0m\u001b[0;34m=\u001b[0m\u001b[0marg_names\u001b[0m\u001b[0;34m,\u001b[0m\u001b[0;34m\u001b[0m\u001b[0;34m\u001b[0m\u001b[0m\n\u001b[1;32m   3288\u001b[0m             \u001b[0moverride_flat_arg_shapes\u001b[0m\u001b[0;34m=\u001b[0m\u001b[0moverride_flat_arg_shapes\u001b[0m\u001b[0;34m,\u001b[0m\u001b[0;34m\u001b[0m\u001b[0;34m\u001b[0m\u001b[0m\n\u001b[0;32m-> 3289\u001b[0;31m             capture_by_value=self._capture_by_value),\n\u001b[0m\u001b[1;32m   3290\u001b[0m         \u001b[0mself\u001b[0m\u001b[0;34m.\u001b[0m\u001b[0m_function_attributes\u001b[0m\u001b[0;34m,\u001b[0m\u001b[0;34m\u001b[0m\u001b[0;34m\u001b[0m\u001b[0m\n\u001b[1;32m   3291\u001b[0m         \u001b[0mfunction_spec\u001b[0m\u001b[0;34m=\u001b[0m\u001b[0mself\u001b[0m\u001b[0;34m.\u001b[0m\u001b[0mfunction_spec\u001b[0m\u001b[0;34m,\u001b[0m\u001b[0;34m\u001b[0m\u001b[0;34m\u001b[0m\u001b[0m\n",
            "\u001b[0;32m/usr/local/lib/python3.7/dist-packages/tensorflow/python/framework/func_graph.py\u001b[0m in \u001b[0;36mfunc_graph_from_py_func\u001b[0;34m(name, python_func, args, kwargs, signature, func_graph, autograph, autograph_options, add_control_dependencies, arg_names, op_return_value, collections, capture_by_value, override_flat_arg_shapes)\u001b[0m\n\u001b[1;32m    997\u001b[0m         \u001b[0m_\u001b[0m\u001b[0;34m,\u001b[0m \u001b[0moriginal_func\u001b[0m \u001b[0;34m=\u001b[0m \u001b[0mtf_decorator\u001b[0m\u001b[0;34m.\u001b[0m\u001b[0munwrap\u001b[0m\u001b[0;34m(\u001b[0m\u001b[0mpython_func\u001b[0m\u001b[0;34m)\u001b[0m\u001b[0;34m\u001b[0m\u001b[0;34m\u001b[0m\u001b[0m\n\u001b[1;32m    998\u001b[0m \u001b[0;34m\u001b[0m\u001b[0m\n\u001b[0;32m--> 999\u001b[0;31m       \u001b[0mfunc_outputs\u001b[0m \u001b[0;34m=\u001b[0m \u001b[0mpython_func\u001b[0m\u001b[0;34m(\u001b[0m\u001b[0;34m*\u001b[0m\u001b[0mfunc_args\u001b[0m\u001b[0;34m,\u001b[0m \u001b[0;34m**\u001b[0m\u001b[0mfunc_kwargs\u001b[0m\u001b[0;34m)\u001b[0m\u001b[0;34m\u001b[0m\u001b[0;34m\u001b[0m\u001b[0m\n\u001b[0m\u001b[1;32m   1000\u001b[0m \u001b[0;34m\u001b[0m\u001b[0m\n\u001b[1;32m   1001\u001b[0m       \u001b[0;31m# invariant: `func_outputs` contains only Tensors, CompositeTensors,\u001b[0m\u001b[0;34m\u001b[0m\u001b[0;34m\u001b[0m\u001b[0;34m\u001b[0m\u001b[0m\n",
            "\u001b[0;32m/usr/local/lib/python3.7/dist-packages/tensorflow/python/eager/def_function.py\u001b[0m in \u001b[0;36mwrapped_fn\u001b[0;34m(*args, **kwds)\u001b[0m\n\u001b[1;32m    670\u001b[0m         \u001b[0;31m# the function a weak reference to itself to avoid a reference cycle.\u001b[0m\u001b[0;34m\u001b[0m\u001b[0;34m\u001b[0m\u001b[0;34m\u001b[0m\u001b[0m\n\u001b[1;32m    671\u001b[0m         \u001b[0;32mwith\u001b[0m \u001b[0mOptionalXlaContext\u001b[0m\u001b[0;34m(\u001b[0m\u001b[0mcompile_with_xla\u001b[0m\u001b[0;34m)\u001b[0m\u001b[0;34m:\u001b[0m\u001b[0;34m\u001b[0m\u001b[0;34m\u001b[0m\u001b[0m\n\u001b[0;32m--> 672\u001b[0;31m           \u001b[0mout\u001b[0m \u001b[0;34m=\u001b[0m \u001b[0mweak_wrapped_fn\u001b[0m\u001b[0;34m(\u001b[0m\u001b[0;34m)\u001b[0m\u001b[0;34m.\u001b[0m\u001b[0m__wrapped__\u001b[0m\u001b[0;34m(\u001b[0m\u001b[0;34m*\u001b[0m\u001b[0margs\u001b[0m\u001b[0;34m,\u001b[0m \u001b[0;34m**\u001b[0m\u001b[0mkwds\u001b[0m\u001b[0;34m)\u001b[0m\u001b[0;34m\u001b[0m\u001b[0;34m\u001b[0m\u001b[0m\n\u001b[0m\u001b[1;32m    673\u001b[0m         \u001b[0;32mreturn\u001b[0m \u001b[0mout\u001b[0m\u001b[0;34m\u001b[0m\u001b[0;34m\u001b[0m\u001b[0m\n\u001b[1;32m    674\u001b[0m \u001b[0;34m\u001b[0m\u001b[0m\n",
            "\u001b[0;32m/usr/local/lib/python3.7/dist-packages/tensorflow/python/framework/func_graph.py\u001b[0m in \u001b[0;36mwrapper\u001b[0;34m(*args, **kwargs)\u001b[0m\n\u001b[1;32m    984\u001b[0m           \u001b[0;32mexcept\u001b[0m \u001b[0mException\u001b[0m \u001b[0;32mas\u001b[0m \u001b[0me\u001b[0m\u001b[0;34m:\u001b[0m  \u001b[0;31m# pylint:disable=broad-except\u001b[0m\u001b[0;34m\u001b[0m\u001b[0;34m\u001b[0m\u001b[0m\n\u001b[1;32m    985\u001b[0m             \u001b[0;32mif\u001b[0m \u001b[0mhasattr\u001b[0m\u001b[0;34m(\u001b[0m\u001b[0me\u001b[0m\u001b[0;34m,\u001b[0m \u001b[0;34m\"ag_error_metadata\"\u001b[0m\u001b[0;34m)\u001b[0m\u001b[0;34m:\u001b[0m\u001b[0;34m\u001b[0m\u001b[0;34m\u001b[0m\u001b[0m\n\u001b[0;32m--> 986\u001b[0;31m               \u001b[0;32mraise\u001b[0m \u001b[0me\u001b[0m\u001b[0;34m.\u001b[0m\u001b[0mag_error_metadata\u001b[0m\u001b[0;34m.\u001b[0m\u001b[0mto_exception\u001b[0m\u001b[0;34m(\u001b[0m\u001b[0me\u001b[0m\u001b[0;34m)\u001b[0m\u001b[0;34m\u001b[0m\u001b[0;34m\u001b[0m\u001b[0m\n\u001b[0m\u001b[1;32m    987\u001b[0m             \u001b[0;32melse\u001b[0m\u001b[0;34m:\u001b[0m\u001b[0;34m\u001b[0m\u001b[0;34m\u001b[0m\u001b[0m\n\u001b[1;32m    988\u001b[0m               \u001b[0;32mraise\u001b[0m\u001b[0;34m\u001b[0m\u001b[0;34m\u001b[0m\u001b[0m\n",
            "\u001b[0;31mValueError\u001b[0m: in user code:\n\n    /usr/local/lib/python3.7/dist-packages/keras/engine/training.py:830 train_function  *\n        return step_function(self, iterator)\n    /usr/local/lib/python3.7/dist-packages/keras/engine/training.py:813 run_step  *\n        outputs = model.train_step(data)\n    /usr/local/lib/python3.7/dist-packages/keras/engine/training.py:770 train_step  *\n        y_pred = self(x, training=True)\n    /usr/local/lib/python3.7/dist-packages/keras/engine/base_layer.py:989 __call__  *\n        input_spec.assert_input_compatibility(self.input_spec, inputs, self.name)\n    /usr/local/lib/python3.7/dist-packages/keras/engine/input_spec.py:227 assert_input_compatibility  *\n        raise ValueError('Input ' + str(input_index) + ' of layer ' +\n\n    ValueError: Input 0 of layer sequential_2 is incompatible with the layer: : expected min_ndim=4, found ndim=3. Full shape received: (2, 4, 1)\n"
          ]
        }
      ]
    },
    {
      "cell_type": "code",
      "metadata": {
        "colab": {
          "base_uri": "https://localhost:8080/",
          "height": 409
        },
        "id": "b1gOYLReNPIs",
        "outputId": "6ddb39f7-7bbe-4eb2-a2c0-4cd82a8daf02"
      },
      "source": [
        "from sklearn.metrics import mean_squared_error as mse\n",
        "import math\n",
        "print(\"mse = {}\".format(mse(y_test, preds)))\n",
        "print(\"rmse = {}\".format(math.sqrt(mse(y_test, preds))))\n",
        "\n",
        "plt.figure(figsize=(15, 6))\n",
        "plt.plot(df.index, df.oni)\n",
        "plt.plot(df.tail(36).index, preds)\n",
        "plt.show()"
      ],
      "execution_count": null,
      "outputs": [
        {
          "output_type": "stream",
          "text": [
            "mse = 0.1529579018698594\n",
            "rmse = 0.3910983276234499\n"
          ],
          "name": "stdout"
        },
        {
          "output_type": "display_data",
          "data": {
            "image/png": "[encoded data removed]",
            "text/plain": [
              "<Figure size 1080x432 with 1 Axes>"
            ]
          },
          "metadata": {
            "tags": []
          }
        }
      ]
    },
    {
      "cell_type": "code",
      "metadata": {
        "colab": {
          "base_uri": "https://localhost:8080/"
        },
        "id": "lVNGE38CA1HZ",
        "outputId": "3c542fb8-8c7c-48a5-8e79-5964f427df9f"
      },
      "source": [
        "for i in range(len(preds)):\n",
        "    print(preds_last_for_plot[i], ' - ', preds[i][0])"
      ],
      "execution_count": null,
      "outputs": [
        {
          "output_type": "stream",
          "text": [
            "[-0.2611115]  -  [-0.2611115]\n",
            "[-0.30951384]  -  [-0.30951384]\n",
            "[-0.2696726]  -  [-0.2696726]\n",
            "[-0.47039276]  -  [-0.47039276]\n",
            "[-0.28160712]  -  [-0.28160712]\n",
            "[0.17156503]  -  [0.17156503]\n",
            "[0.07398054]  -  [0.07398054]\n",
            "[0.42906958]  -  [0.42906958]\n",
            "[0.35374746]  -  [0.35374746]\n",
            "[0.14759935]  -  [0.14759935]\n"
          ],
          "name": "stdout"
        }
      ]
    },
    {
      "cell_type": "code",
      "metadata": {
        "colab": {
          "base_uri": "https://localhost:8080/"
        },
        "id": "O0aXV7oACfdJ",
        "outputId": "c2bbf564-e468-4685-9d70-3da152d4b3a5"
      },
      "source": [
        "from sklearn.metrics import mean_squared_error as mse\n",
        "print(mse(df.tail(10).oni, preds_last_for_plot))"
      ],
      "execution_count": null,
      "outputs": [
        {
          "output_type": "stream",
          "text": [
            "0.08100623570595729\n"
          ],
          "name": "stdout"
        }
      ]
    },
    {
      "cell_type": "code",
      "metadata": {
        "id": "b3mDOB0AzCWk"
      },
      "source": [
        "import matplotlib.pyplot as plt"
      ],
      "execution_count": null,
      "outputs": []
    },
    {
      "cell_type": "code",
      "metadata": {
        "colab": {
          "base_uri": "https://localhost:8080/"
        },
        "id": "nPdGmwyrrxBr",
        "outputId": "ded77ea3-974d-4277-df57-af7dabbb9d75"
      },
      "source": [
        "for i in range(len(preds_last_for_plot)):\n",
        "    print(preds_last_for_plot[i], ' - ', trues[i][0])\n",
        "    #print(list(range(3)), preds[i])\n",
        "    #print(list(range(3)), trues[i])"
      ],
      "execution_count": null,
      "outputs": [
        {
          "output_type": "stream",
          "text": [
            "[-0.2611115]  -  -0.7\n",
            "[-0.30951384]  -  -0.7\n",
            "[-0.2696726]  -  -0.7\n",
            "[-0.47039276]  -  -0.6\n",
            "[-0.28160712]  -  -0.3\n",
            "[0.17156503]  -  -0.1\n",
            "[0.07398054]  -  0.1\n",
            "[0.42906958]  -  0.3\n",
            "[0.35374746]  -  0.4\n",
            "[0.14759935]  -  0.4\n"
          ],
          "name": "stdout"
        }
      ]
    },
    {
      "cell_type": "code",
      "metadata": {
        "colab": {
          "base_uri": "https://localhost:8080/",
          "height": 374
        },
        "id": "LyjURaZ7ABo8",
        "outputId": "ff92fc0e-8d31-40f8-9f12-7f076016ceec"
      },
      "source": [
        "plt.figure(figsize=(15, 6))\n",
        "plt.plot(df.index, df.oni)\n",
        "plt.plot(df.tail(10).index, preds_last_for_plot)\n",
        "plt.show()"
      ],
      "execution_count": null,
      "outputs": [
        {
          "output_type": "display_data",
          "data": {
            "image/png": "[encoded data removed]",
            "text/plain": [
              "<Figure size 1080x432 with 1 Axes>"
            ]
          },
          "metadata": {
            "tags": []
          }
        }
      ]
    },
    {
      "cell_type": "code",
      "metadata": {
        "colab": {
          "base_uri": "https://localhost:8080/"
        },
        "id": "C7tiYYYHAByh",
        "outputId": "5a581ff8-cc7d-45ae-8627-f7b4495e888c"
      },
      "source": [
        "y_test"
      ],
      "execution_count": null,
      "outputs": [
        {
          "output_type": "execute_result",
          "data": {
            "text/plain": [
              "array([-0.7, -0.7, -0.7, -0.6, -0.3, -0.1,  0.1,  0.3,  0.4,  0.4,  0.1,\n",
              "       -0.1])"
            ]
          },
          "metadata": {
            "tags": []
          },
          "execution_count": 102
        }
      ]
    },
    {
      "cell_type": "code",
      "metadata": {
        "id": "04CdUdfDGGV0"
      },
      "source": [
        ""
      ],
      "execution_count": null,
      "outputs": []
    },
    {
      "cell_type": "code",
      "metadata": {
        "id": "x8PNru25GGX7"
      },
      "source": [
        ""
      ],
      "execution_count": null,
      "outputs": []
    }
  ]
}